{
 "cells": [
  {
   "cell_type": "markdown",
   "metadata": {},
   "source": [
    "# OSN postprocessing\n",
    "\n",
    "Spracovanie výstupu algoritmu do formy využiteľnej pre ďalšie analýzy"
   ]
  },
  {
   "cell_type": "code",
   "execution_count": null,
   "metadata": {},
   "outputs": [],
   "source": [
    "import pandas as pd"
   ]
  },
  {
   "cell_type": "code",
   "execution_count": null,
   "metadata": {},
   "outputs": [],
   "source": [
    "# Aby fungovalo nacitanie spolocnych funkcii, je nutne ich nainstalovat cez `pip install .` na urovni, kde sa nachadza pyproject.toml\n",
    "\n",
    "from OSN_common.nacitanie_dat import nacitaj_vsetku_starostlivost, nacitaj_vystup_algoritmu, nacitaj_vsetku_starostlivost_s_ms, nacitaj_zoznam_ms, nacitaj_programovy_profil\n",
    "from OSN_common.pomocne_funkcie import prirad_vekovu_kategoriu, zisti_uroven_ms\n"
   ]
  },
  {
   "cell_type": "code",
   "execution_count": null,
   "metadata": {},
   "outputs": [],
   "source": [
    "_rok = 2023\n",
    "_verzia = 'v2024.2'"
   ]
  },
  {
   "cell_type": "markdown",
   "metadata": {},
   "source": [
    "# Pripojenie výstupu algoritmu ku všetkej starostlivosti"
   ]
  },
  {
   "cell_type": "code",
   "execution_count": null,
   "metadata": {},
   "outputs": [],
   "source": [
    "vystup = nacitaj_vystup_algoritmu(_rok, _verzia)\n",
    "final = nacitaj_vsetku_starostlivost(_rok)"
   ]
  },
  {
   "cell_type": "code",
   "execution_count": null,
   "metadata": {},
   "outputs": [],
   "source": [
    "final = final.merge(vystup, on='id_hp', how='left')"
   ]
  },
  {
   "cell_type": "markdown",
   "metadata": {},
   "source": [
    "## Pripojenie úrovní medicínskych služieb"
   ]
  },
  {
   "cell_type": "code",
   "execution_count": null,
   "metadata": {},
   "outputs": [],
   "source": [
    "final['vekova_kategoria'] = final['vek_roky'].apply(prirad_vekovu_kategoriu)\n",
    "final['ms_list'] = final['ms'].apply(lambda s: s.split('~') if pd.notna(s) else s)\n"
   ]
  },
  {
   "cell_type": "code",
   "execution_count": null,
   "metadata": {},
   "outputs": [],
   "source": [
    "zoznam_ms = nacitaj_zoznam_ms(_verzia)\n",
    "zoznam_ms = zoznam_ms[~zoznam_ms['zdielana_ms']]"
   ]
  },
  {
   "cell_type": "code",
   "execution_count": null,
   "metadata": {},
   "outputs": [],
   "source": [
    "final_exploded = final[['id_hp', 'pzs_8', 'vekova_kategoria', 'ms_list']].explode('ms_list')\n",
    "final_exploded = final_exploded.merge(zoznam_ms, left_on='ms_list', right_on='kod_ms', how='left')\n",
    "final_exploded['uroven_ms'] = final_exploded.apply(zisti_uroven_ms, axis=1).astype('Int16')"
   ]
  },
  {
   "cell_type": "code",
   "execution_count": null,
   "metadata": {},
   "outputs": [],
   "source": [
    "urovne_ms = final_exploded.groupby('id_hp')['uroven_ms'].apply(lambda z: '~'.join([str(x) for x in z]))"
   ]
  },
  {
   "cell_type": "code",
   "execution_count": null,
   "metadata": {},
   "outputs": [],
   "source": [
    "final = final.merge(urovne_ms, on='id_hp')\n",
    "final['hlavna_ms'] = final['ms_list'].str[0]"
   ]
  },
  {
   "cell_type": "markdown",
   "metadata": {},
   "source": [
    "## MS na úrovne programu "
   ]
  },
  {
   "cell_type": "code",
   "execution_count": null,
   "metadata": {},
   "outputs": [],
   "source": [
    "programovy_profil = nacitaj_programovy_profil(2024, _verzia)"
   ]
  },
  {
   "cell_type": "code",
   "execution_count": null,
   "metadata": {},
   "outputs": [],
   "source": [
    "final['cislo_programu'] = final['hlavna_ms'].str.split('-').str[0].str[1:].astype(int)\n",
    "final['uroven_hlavnej_ms'] = final['uroven_ms'].str.split('~').str[0]"
   ]
  },
  {
   "cell_type": "code",
   "execution_count": null,
   "metadata": {},
   "outputs": [],
   "source": [
    "pivot = pd.pivot_table(final, values='id_hp', index=['cislo_programu'], columns='uroven_hlavnej_ms', aggfunc='count').fillna(0).astype(int)\n",
    "pivot = pivot.merge(programovy_profil[['cislo_programu', 'nazov_programu']], how='left', on='cislo_programu').drop_duplicates()[['cislo_programu', 'nazov_programu', '1', '2', '3', '4', '5']]"
   ]
  },
  {
   "cell_type": "markdown",
   "metadata": {},
   "source": [
    "# Export"
   ]
  },
  {
   "cell_type": "code",
   "execution_count": null,
   "metadata": {},
   "outputs": [],
   "source": [
    "final.drop(columns=['vekova_kategoria', 'ms_list', 'hlavna_ms']).to_csv(f'Vystupy/osn_vsetka_starostlivost_{_rok}_ms_{_verzia}.csv', sep=';', index=False)\n",
    "final.groupby(['hlavna_ms', 'pzs_8'])['id_hp'].count().rename('pocet_hospitalizacnych_pripadov').to_csv(f'Vystupy/pocet_MS_na_nemocnicu_iba_hlavne_{_rok}_{_verzia}.csv')\n",
    "final_exploded.rename({'ms_list': 'ms'}, axis=1).groupby(['ms', 'pzs_8'])['id_hp'].count().rename('pocet_hospitalizacnych_pripadov').to_csv(f'Vystupy/pocet_MS_na_nemocnicu_{_rok}_{_verzia}.csv')\n"
   ]
  },
  {
   "cell_type": "code",
   "execution_count": null,
   "metadata": {},
   "outputs": [],
   "source": [
    "pivot.to_csv(f'Vystupy/pocet_MS_na_uroven_programu_iba_hlavne_{_rok}_{_verzia}.csv', index=False, encoding='utf_8_sig')"
   ]
  },
  {
   "cell_type": "markdown",
   "metadata": {},
   "source": [
    "## Kontrola s pôvodným výstupom"
   ]
  },
  {
   "cell_type": "code",
   "execution_count": null,
   "metadata": {},
   "outputs": [],
   "source": [
    "final_old = nacitaj_vsetku_starostlivost_s_ms(_rok, _verzia)\n",
    "\n",
    "merged = final.merge(final_old[['id_hp', 'ms']], on='id_hp', how='outer')"
   ]
  },
  {
   "cell_type": "code",
   "execution_count": null,
   "metadata": {},
   "outputs": [],
   "source": [
    "len(merged[merged['ms_x'] != merged['ms_y']])"
   ]
  }
 ],
 "metadata": {
  "kernelspec": {
   "display_name": "Python 3",
   "language": "python",
   "name": "python3"
  },
  "language_info": {
   "codemirror_mode": {
    "name": "ipython",
    "version": 3
   },
   "file_extension": ".py",
   "mimetype": "text/x-python",
   "name": "python",
   "nbconvert_exporter": "python",
   "pygments_lexer": "ipython3",
   "version": "3.10.12"
  }
 },
 "nbformat": 4,
 "nbformat_minor": 2
}
