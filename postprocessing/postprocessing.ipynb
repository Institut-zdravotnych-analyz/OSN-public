{
 "cells": [
  {
   "cell_type": "markdown",
   "metadata": {},
   "source": [
    "# OSN postprocessing\n",
    "\n",
    "Spracovanie výstupu algoritmu do formy využiteľnej pre ďalšie analýzy"
   ]
  },
  {
   "cell_type": "code",
   "execution_count": null,
   "metadata": {},
   "outputs": [],
   "source": [
    "import pandas as pd\n",
    "from tqdm.auto import tqdm\n",
    "tqdm.pandas()"
   ]
  },
  {
   "cell_type": "code",
   "execution_count": null,
   "metadata": {},
   "outputs": [],
   "source": [
    "# Aby fungovalo nacitanie spolocnych funkcii, je nutne ich nainstalovat cez `pip install .` na urovni, kde sa nachadza pyproject.toml\n",
    "\n",
    "from OSN_common.nacitanie_dat import nacitaj_vsetku_starostlivost, nacitaj_vystup_algoritmu, nacitaj_vsetku_starostlivost_s_ms, nacitaj_zoznam_ms, nacitaj_programovy_profil, nacitaj_zoznam_nemocnic, nacitaj_siet_nemocnic\n",
    "from OSN_common.pomocne_funkcie import prirad_vekovu_kategoriu, zisti_uroven_ms\n"
   ]
  },
  {
   "cell_type": "code",
   "execution_count": null,
   "metadata": {},
   "outputs": [],
   "source": [
    "_rok = 2023\n",
    "_verzia = 'v2024.2'\n",
    "_prepinace_algoritmu = '-vnd'"
   ]
  },
  {
   "cell_type": "markdown",
   "metadata": {},
   "source": [
    "# Pripojenie výstupu algoritmu ku všetkej starostlivosti"
   ]
  },
  {
   "cell_type": "code",
   "execution_count": null,
   "metadata": {},
   "outputs": [],
   "source": [
    "vystup = nacitaj_vystup_algoritmu(_rok, _verzia, _prepinace_algoritmu)\n",
    "starostlivost = nacitaj_vsetku_starostlivost(_rok)"
   ]
  },
  {
   "cell_type": "code",
   "execution_count": null,
   "metadata": {},
   "outputs": [],
   "source": [
    "final = starostlivost.merge(vystup, on='id_hp', how='left')"
   ]
  },
  {
   "cell_type": "markdown",
   "metadata": {},
   "source": [
    "## Pripojenie úrovní medicínskych služieb"
   ]
  },
  {
   "cell_type": "code",
   "execution_count": null,
   "metadata": {},
   "outputs": [],
   "source": [
    "final['vekova_kategoria'] = final['vek_roky'].apply(prirad_vekovu_kategoriu)\n",
    "final['ms_list'] = final['ms'].apply(lambda s: s.split('~') if pd.notna(s) else s)\n"
   ]
  },
  {
   "cell_type": "code",
   "execution_count": null,
   "metadata": {},
   "outputs": [],
   "source": [
    "zoznam_ms = nacitaj_zoznam_ms(_verzia)\n",
    "zoznam_ms = zoznam_ms[~zoznam_ms['zdielana_ms']]"
   ]
  },
  {
   "cell_type": "code",
   "execution_count": null,
   "metadata": {},
   "outputs": [],
   "source": [
    "final_exploded = final[['id_hp', 'pzs_8', 'vekova_kategoria', 'ms_list']].explode('ms_list')\n",
    "final_exploded = final_exploded.merge(zoznam_ms.filter(regex='kod_ms|uroven_'), left_on='ms_list', right_on='kod_ms', how='left')\n"
   ]
  },
  {
   "cell_type": "code",
   "execution_count": null,
   "metadata": {},
   "outputs": [],
   "source": [
    "final_exploded['uroven_ms'] = final_exploded.progress_apply(zisti_uroven_ms, axis=1).astype('Int16')"
   ]
  },
  {
   "cell_type": "code",
   "execution_count": null,
   "metadata": {},
   "outputs": [],
   "source": [
    "urovne_ms = final_exploded.groupby('id_hp')['uroven_ms'].progress_apply(lambda z: '~'.join([str(x) for x in z]))"
   ]
  },
  {
   "cell_type": "code",
   "execution_count": null,
   "metadata": {},
   "outputs": [],
   "source": [
    "final = final.merge(urovne_ms, on='id_hp')\n",
    "final['hlavna_ms'] = final['ms_list'].str[0]"
   ]
  },
  {
   "cell_type": "markdown",
   "metadata": {},
   "source": [
    "## MS na úrovne programu "
   ]
  },
  {
   "cell_type": "code",
   "execution_count": null,
   "metadata": {},
   "outputs": [],
   "source": [
    "programovy_profil = nacitaj_programovy_profil(2024, _verzia)"
   ]
  },
  {
   "cell_type": "code",
   "execution_count": null,
   "metadata": {},
   "outputs": [],
   "source": [
    "final['cislo_programu'] = final['hlavna_ms'].str.split('-').str[0].str[1:].astype(int)\n",
    "final['uroven_hlavnej_ms'] = final['uroven_ms'].str.split('~').str[0]"
   ]
  },
  {
   "cell_type": "code",
   "execution_count": null,
   "metadata": {},
   "outputs": [],
   "source": [
    "zoznam_nemocnic = nacitaj_zoznam_nemocnic()"
   ]
  },
  {
   "cell_type": "code",
   "execution_count": null,
   "metadata": {},
   "outputs": [],
   "source": [
    "kraje = zoznam_nemocnic['kraj'].unique()"
   ]
  },
  {
   "cell_type": "code",
   "execution_count": null,
   "metadata": {},
   "outputs": [],
   "source": [
    "final = final.reset_index().merge(nacitaj_siet_nemocnic(_rok).index.to_frame().set_index('pzs_6')[['uroven_nemocnice']], how='left', left_on='pzs_6', right_index=True)\n",
    "final = final.merge(zoznam_nemocnic[['pzs_6', 'kraj']], how='left', on='pzs_6')\n",
    "final = final.merge(programovy_profil[['cislo_programu', 'nazov_programu']].drop_duplicates(), how='left', on='cislo_programu')"
   ]
  },
  {
   "cell_type": "code",
   "execution_count": null,
   "metadata": {},
   "outputs": [],
   "source": [
    "pivot = pd.pivot_table(final, values='id_hp', index=['cislo_programu', 'nazov_programu'], columns=['uroven_nemocnice', 'uroven_hlavnej_ms'], aggfunc='count').fillna(0).astype(int)"
   ]
  },
  {
   "cell_type": "code",
   "execution_count": null,
   "metadata": {},
   "outputs": [],
   "source": [
    "from openpyxl import load_workbook\n",
    "from openpyxl.utils.dataframe import dataframe_to_rows\n",
    "\n",
    "template_name = f'TEMPLATE_pocet_MS_na_uroven_programu_iba_hlavne_{_rok}_{_verzia}.xlsx'\n",
    "output_name = f'Vystupy/pocet_MS_na_uroven_programu_iba_hlavne_{_rok}_{_verzia}_podla_krajov.xlsx'\n",
    "\n",
    "wb = load_workbook(template_name)\n",
    "\n",
    "for kraj in kraje:\n",
    "    ws = wb.create_sheet(kraj)\n",
    "    \n",
    "    pivot = pd.pivot_table(final[final['kraj'] == kraj], values='id_hp', index=['cislo_programu', 'nazov_programu'], columns=['kraj', 'uroven_nemocnice', 'uroven_hlavnej_ms'], aggfunc='count', fill_value=0).fillna(0).astype(int)\n",
    "    \n",
    "    for r in dataframe_to_rows(pivot):\n",
    "        ws.append(r)\n",
    "        \n",
    "    wb.save(output_name)\n",
    "\n",
    "\n",
    "\n",
    "pzs_6 = 'P43059'\n",
    "\n",
    "ws = wb.create_sheet(pzs_6)\n",
    "\n",
    "pivot = pd.pivot_table(final[final['pzs_6'] == pzs_6], values='id_hp', index=['cislo_programu', 'nazov_programu'], columns=['pzs_6', 'uroven_nemocnice', 'uroven_hlavnej_ms'], aggfunc='count').fillna(0).astype(int)\n",
    "\n",
    "for r in dataframe_to_rows(pivot):\n",
    "    ws.append(r)\n",
    "    \n",
    "wb.save(output_name)"
   ]
  },
  {
   "cell_type": "markdown",
   "metadata": {},
   "source": [
    "# Export"
   ]
  },
  {
   "cell_type": "code",
   "execution_count": null,
   "metadata": {},
   "outputs": [],
   "source": [
    "vystupne_stlpce = ['id_hp', 'vek_roky', 'vek_dni', 'hmotnost', 'upv', 'diagnozy', 'vykony', 'drg', 'erv', 'typ_starostlivosti', 'typ_hospitalizacie', 'druh_prijatia', 'dovod_prijatia', 'dovod_prepustenia', 'posledna_dgn_prijem', 'posledna_dgn_prepustenie', 'posledny_pohyb_poistenca', 'diagnozy_z_01', 'vykony_z_01', 'novorodenec', 'obdobie_od', 'obdobie_do', 'datum_od', 'datum_do', 'osetrovacia_doba', 'id_poistenca', 'datum_narodenia', 'pohlavie', 'kod_pobytu', 'kod_zp', 'pzs_12', 'IDENTIFZAR', 'pzs_8', 'pzs_6', 'pzs_ico', 'id_hp_pzs', 'ms', 'uroven_ms']\n",
    "\n",
    "final.filter(vystupne_stlpce).to_csv(f'Vystupy/osn_vsetka_starostlivost_{_rok}_ms_{_verzia}.csv', sep=';', index=False)\n"
   ]
  },
  {
   "cell_type": "code",
   "execution_count": null,
   "metadata": {},
   "outputs": [],
   "source": [
    "final.groupby(['hlavna_ms', 'pzs_8'])['id_hp'].count().rename('pocet_hospitalizacnych_pripadov').to_csv(f'Vystupy/pocet_MS_na_nemocnicu_iba_hlavne_{_rok}_{_verzia}.csv')\n",
    "final_exploded.rename({'ms_list': 'ms'}, axis=1).groupby(['ms', 'pzs_8'])['id_hp'].count().rename('pocet_hospitalizacnych_pripadov').to_csv(f'Vystupy/pocet_MS_na_nemocnicu_{_rok}_{_verzia}.csv')\n"
   ]
  },
  {
   "cell_type": "code",
   "execution_count": null,
   "metadata": {},
   "outputs": [],
   "source": [
    "final.groupby(['hlavna_ms', 'pzs_ico', 'typ_hospitalizacie'])['id_hp'].count().rename('pocet_hospitalizacnych_pripadov').to_csv(f'Vystupy/pocet_MS_na_ico_iba_hlavne_{_rok}_{_verzia}.csv')"
   ]
  },
  {
   "cell_type": "markdown",
   "metadata": {},
   "source": [
    "## Kontrola s pôvodným výstupom"
   ]
  },
  {
   "cell_type": "code",
   "execution_count": null,
   "metadata": {},
   "outputs": [],
   "source": [
    "final_old = nacitaj_vsetku_starostlivost_s_ms(_rok, _verzia)\n",
    "\n",
    "merged = final.merge(final_old[['id_hp', 'ms']], on='id_hp', how='outer')"
   ]
  },
  {
   "cell_type": "code",
   "execution_count": null,
   "metadata": {},
   "outputs": [],
   "source": [
    "len(merged[merged['ms_x'] != merged['ms_y']])"
   ]
  },
  {
   "cell_type": "code",
   "execution_count": null,
   "metadata": {},
   "outputs": [],
   "source": [
    "a=merged[merged['ms_x'] != merged['ms_y']]"
   ]
  }
 ],
 "metadata": {
  "kernelspec": {
   "display_name": "Python 3",
   "language": "python",
   "name": "python3"
  },
  "language_info": {
   "codemirror_mode": {
    "name": "ipython",
    "version": 3
   },
   "file_extension": ".py",
   "mimetype": "text/x-python",
   "name": "python",
   "nbconvert_exporter": "python",
   "pygments_lexer": "ipython3",
   "version": "3.10.12"
  }
 },
 "nbformat": 4,
 "nbformat_minor": 2
}
