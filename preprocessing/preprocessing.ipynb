{
 "cells": [
  {
   "cell_type": "markdown",
   "id": "0",
   "metadata": {},
   "source": [
    "# Úvodné nastavenie"
   ]
  },
  {
   "cell_type": "markdown",
   "id": "1",
   "metadata": {},
   "source": [
    "## Načítanie knižníc"
   ]
  },
  {
   "cell_type": "code",
   "execution_count": null,
   "id": "2",
   "metadata": {},
   "outputs": [],
   "source": [
    "%load_ext autoreload"
   ]
  },
  {
   "cell_type": "code",
   "execution_count": null,
   "id": "3",
   "metadata": {},
   "outputs": [],
   "source": [
    "from pathlib import Path\n",
    "import pandas as pd \n",
    "import numpy as np\n",
    "from datetime import datetime\n",
    "import random\n",
    "import os\n",
    "import re\n",
    "\n",
    "\n"
   ]
  },
  {
   "cell_type": "code",
   "execution_count": null,
   "id": "4",
   "metadata": {},
   "outputs": [],
   "source": [
    "# Aby fungovalo nacitanie spolocnych funkcii, je nutne ich nainstalovat cez `pip install .` na urovni, kde sa nachadza pyproject.toml\n",
    "\n",
    "from data_loading import load_data_zp, load_zoznam_obci, load_psc_2_zuj, load_pzs_12\n",
    "from OSN_common.helpers import norm_path, standardize_text\n",
    "from OSN_common.constants import COLUMNS_274, COLUMNS_VS\n",
    "\n",
    "%autoreload 2\n",
    "\n",
    "# from OSN_common.nacitanie_dat import nacitaj_prevodovy_subor, nacitaj_zoznam_obci"
   ]
  },
  {
   "cell_type": "markdown",
   "id": "5",
   "metadata": {},
   "source": [
    "## Konfigurácia vstupných a výstupných súborov"
   ]
  },
  {
   "cell_type": "code",
   "execution_count": null,
   "id": "6",
   "metadata": {},
   "outputs": [
    {
     "name": "stdout",
     "output_type": "stream",
     "text": [
      "Ukladam data do priecinku Vystupy/20250505_133302\n"
     ]
    }
   ],
   "source": [
    "_paths = {\n",
    "    \"vystupy\": Path('.') / \"Vystupy\"\n",
    "}\n",
    "\n",
    "_datum = datetime.now().strftime(\"%Y%m%d_%H%M%S\")\n",
    "\n",
    "_paths['vystupy'] = _paths['vystupy'] / _datum\n",
    "_paths['vystupy'].mkdir()\n",
    "\n",
    "_paths['validacia'] = _paths['vystupy'] / 'validacia'\n",
    "_paths['validacia'].mkdir()\n",
    "\n",
    "print(f'Ukladam data do priecinku {_paths[\"vystupy\"]}')\n",
    "\n",
    "data_folder = norm_path(Path(os.environ.get('OSN_data')) / \"11_Dátové súbory a prevodníky\" / \"06_Dáta od zdravotných poisťovní\")"
   ]
  },
  {
   "cell_type": "markdown",
   "id": "2fae219b",
   "metadata": {},
   "source": [
    "## Nastavenie roku a zoznamu poisťovní"
   ]
  },
  {
   "cell_type": "code",
   "execution_count": null,
   "id": "7c15b4d8",
   "metadata": {},
   "outputs": [],
   "source": [
    "_rok = \"2024\"\n",
    "_spracovat = [\"24\", \"27\"]"
   ]
  },
  {
   "cell_type": "markdown",
   "id": "b0377183",
   "metadata": {},
   "source": [
    "## Nastavenie validácií"
   ]
  },
  {
   "cell_type": "code",
   "execution_count": null,
   "id": "995c156b",
   "metadata": {},
   "outputs": [],
   "source": [
    "VALIDATION_COLUMNS = ['kod_zp', 'pzs_6', 'id_hp', 'id_hp_pzs', 'id_poistenca', 'nazov_validacie', 'ovplyvnene_tabulky', 'zavaznost', 'odovodnenie']\n",
    "VALIDATION_DEFINITIONS = pd.read_excel(data_folder / 'Validácie' / 'Validacie-rocnej-davky-2024-OSN.xlsx', sheet_name='validacie', index_col=0).to_dict(orient='index')\n",
    "\n",
    "VALIDATIONS = {kod_zp: pd.DataFrame(columns=VALIDATION_COLUMNS) for kod_zp in _spracovat}"
   ]
  },
  {
   "cell_type": "code",
   "execution_count": null,
   "id": "535dfdb7",
   "metadata": {},
   "outputs": [],
   "source": [
    "def format_with_row_columns(text: str) -> str:\n",
    "    \"\"\"Convert {column_name} in text to {row[column_name]} for DataFrame row access.\n",
    "    \n",
    "    e.g. \"ID poistenca: {id_poistenca}\" -> \"ID poistenca: {row[id_poistenca]}\"\n",
    "    \"\"\"\n",
    "    pattern = r'\\{([a-zA-Z_][a-zA-Z0-9_]*)\\}'\n",
    "    return re.sub(pattern, lambda m: f\"{{row[{m.group(1)}]}}\", text)\n",
    "\n",
    "def add_validation_columns(df: pd.DataFrame, nazov_validacie: str, ovplyvnene_tabulky: str, zavaznost: int, odovodnenie: str) -> pd.DataFrame:\n",
    "    \"\"\"Add validation columns to the DataFrame.\"\"\"\n",
    "    odovodnenia = df.apply(lambda row: format_with_row_columns(odovodnenie).format(row=row), axis=1)\n",
    "    out = df.filter(VALIDATION_COLUMNS).copy()\n",
    "    out['nazov_validacie'] = nazov_validacie\n",
    "    out['ovplyvnene_tabulky'] = ovplyvnene_tabulky\n",
    "    out['zavaznost'] = zavaznost\n",
    "    out['odovodnenie'] = odovodnenia\n",
    "    return out\n",
    "\n",
    "def register_validation(invalid_df: pd.DataFrame, id_validacie: str):\n",
    "    \"\"\"Register the validation in the validation dictionary.\"\"\"\n",
    "    invalid = add_validation_columns(invalid_df, **VALIDATION_DEFINITIONS[id_validacie])\n",
    "\n",
    "    for kod_zp in _spracovat:\n",
    "        if kod_zp in invalid['kod_zp'].values:\n",
    "            VALIDATIONS[kod_zp] = pd.concat([VALIDATIONS[kod_zp], invalid[invalid['kod_zp']==kod_zp][VALIDATION_COLUMNS]], ignore_index=True)"
   ]
  },
  {
   "cell_type": "markdown",
   "id": "7",
   "metadata": {},
   "source": [
    "# Načítanie dát"
   ]
  },
  {
   "cell_type": "code",
   "execution_count": null,
   "id": "8",
   "metadata": {},
   "outputs": [
    {
     "name": "stdout",
     "output_type": "stream",
     "text": [
      "Nacitavam data pre poistovnu dovera\n",
      "Nacitavam data zo suboru 2024_24_01_UZS_JZS.csv\n",
      "Nacitavam data zo suboru 2024_24_02_HP.csv\n"
     ]
    },
    {
     "name": "stdout",
     "output_type": "stream",
     "text": [
      "Nacitavam data zo suboru 2024_24_03_PREKLAD.csv\n",
      "Nacitavam data zo suboru 2024_24_04_VDG.csv\n",
      "Nacitavam data zo suboru 2024_24_05_VYKON.csv\n",
      "Nacitavam data zo suboru 2024_24_06_PPDRG.csv\n",
      "Nacitavam data zo suboru 2024_24_09_POISTENCI.csv\n",
      "Nacitavam data zo suboru 2024_24_14_SUMAR.csv\n",
      "Nacitavam data pre poistovnu union\n",
      "Nacitavam data zo suboru 2024_27_01_UZS_JZS.csv\n",
      "Nacitavam data zo suboru 2024_27_02_HP.csv\n",
      "Nacitavam data zo suboru 2024_27_03_PREKLAD.csv\n",
      "Nacitavam data zo suboru 2024_27_04_VDG.csv\n",
      "Nacitavam data zo suboru 2024_27_05_VYKON.csv\n",
      "Nacitavam data zo suboru 2024_27_06_PPDRG.csv\n",
      "Nacitavam data zo suboru 2024_27_09_POISTENCI.csv\n",
      "Nacitavam data zo suboru 2024_27_14_SUMAR.csv\n"
     ]
    }
   ],
   "source": [
    "_data = load_data_zp(data_folder, _rok, _spracovat)\n"
   ]
  },
  {
   "cell_type": "markdown",
   "id": "9",
   "metadata": {},
   "source": [
    "# Predspracovanie dát"
   ]
  },
  {
   "cell_type": "markdown",
   "id": "10",
   "metadata": {},
   "source": [
    "## Priprav dat UZS_JZS (`uzs`)"
   ]
  },
  {
   "cell_type": "markdown",
   "id": "11",
   "metadata": {},
   "source": [
    "### Predspracuj data zo suboru 01_UZS_JZS"
   ]
  },
  {
   "cell_type": "code",
   "execution_count": null,
   "id": "12",
   "metadata": {},
   "outputs": [
    {
     "data": {
      "text/plain": [
       "493777"
      ]
     },
     "execution_count": null,
     "metadata": {},
     "output_type": "execute_result"
    }
   ],
   "source": [
    "# Najdi relevantne tabuľky\n",
    "_uzs = pd.concat([_data[k]['uzs_jzs'] for k in _spracovat], ignore_index=True)\n",
    "\n",
    "len(_uzs)"
   ]
  },
  {
   "cell_type": "code",
   "execution_count": null,
   "id": "13",
   "metadata": {},
   "outputs": [
    {
     "data": {
      "text/plain": [
       "493777"
      ]
     },
     "execution_count": null,
     "metadata": {},
     "output_type": "execute_result"
    }
   ],
   "source": [
    "# Vyluc riadky, kde typ hospitalizacie je \"pripocitatelna polozka\"\n",
    "_uzs = _uzs[_uzs['typ_hospitalizacie'] != 'Z']\n",
    "\n",
    "len(_uzs)"
   ]
  },
  {
   "cell_type": "code",
   "execution_count": null,
   "id": "ca27a8e5",
   "metadata": {},
   "outputs": [
    {
     "data": {
      "text/plain": [
       "Index(['kod_zp', 'id_poistenca', 'obdobie', 'pzs_12', 'id_hp', 'novorodenec',\n",
       "       'datum_od', 'datum_do', 'pohyb_poistenca', 'dgn_prijem',\n",
       "       'dgn_prepustenie', 'kod_jednodnoveho_vykonu', 'kod_hlavneho_vykonu',\n",
       "       'typ_hospitalizacie', 'pzs_12_odosielatel', 'datum_ziadanky',\n",
       "       'typ_starostlivosti', 'id_navrhu_planovana', 'uhrada_hp', 'uhrada_pp',\n",
       "       'uhrada_imzs', 'uhrada_emzs', 'kod_ms', 'uroven_ms', 'kod_programu'],\n",
       "      dtype='object')"
      ]
     },
     "execution_count": null,
     "metadata": {},
     "output_type": "execute_result"
    }
   ],
   "source": [
    "_uzs.columns"
   ]
  },
  {
   "cell_type": "markdown",
   "id": "15",
   "metadata": {},
   "source": [
    "### VALIDATION id_hp_chybajuce_01\n"
   ]
  },
  {
   "cell_type": "code",
   "execution_count": null,
   "id": "16",
   "metadata": {},
   "outputs": [],
   "source": [
    "# Prirad cislo riadku ako ID_HP pre chybajuce ID\n",
    "# Takato hospitalizacia sa neda naparovat na ostatne subory (nie je problem v pripade JZS), a pri ostatnych je to lepsie ako ich vyhodit\n",
    "if _uzs.id_hp.isna().any():\n",
    "    _uzs.loc[_uzs.id_hp.isna(), 'id_hp'] = 'x' + _uzs[_uzs.id_hp.isna()].index.map(str)"
   ]
  },
  {
   "cell_type": "code",
   "execution_count": null,
   "id": "c8758827",
   "metadata": {},
   "outputs": [],
   "source": [
    "# Exportuj riadky, kde chybalo ID hospitalizacie a typ je DRG alebo UH.\n",
    "\n",
    "id_validacie = 'id_hp_chybajuce_01'\n",
    "\n",
    "invalid = _uzs[_uzs['id_hp'].str.startswith('x') & _uzs['typ_starostlivosti'].isin(['DRG', 'UH'])].copy()\n",
    "invalid['pzs_6'] = invalid['pzs_12'].str[:6]\n",
    "invalid['id_hp_pzs'] = pd.NA\n",
    "\n",
    "register_validation(invalid, id_validacie)\n"
   ]
  },
  {
   "cell_type": "code",
   "execution_count": null,
   "id": "25b5a2dd",
   "metadata": {},
   "outputs": [],
   "source": [
    "# Vypíš záporné úhrady\n",
    "UHRADY_COLUMNS = ['uhrada_hp', 'uhrada_pp', 'uhrada_imzs', 'uhrada_emzs']\n",
    "\n",
    "id_validacie = 'uhrada_zaporna_01'\n",
    "\n",
    "invalid = _uzs[_uzs[UHRADY_COLUMNS].lt(0).any(axis=1)].copy()\n",
    "invalid['pzs_6'] = invalid['pzs_12'].str[:6]\n",
    "invalid['id_hp_pzs'] = pd.NA\n",
    "\n",
    "register_validation(invalid, id_validacie)"
   ]
  },
  {
   "cell_type": "code",
   "execution_count": null,
   "id": "17",
   "metadata": {},
   "outputs": [],
   "source": [
    "# Ocisti kody vykonov a diagnoz na standardizovany tvar - len male pismena a cisla.\n",
    "\n",
    "_stlpce_s_kodmi = ['kod_hlavneho_vykonu', 'kod_jednodnoveho_vykonu', 'dgn_prijem', 'dgn_prepustenie']\n",
    "\n",
    "_uzs[_stlpce_s_kodmi] = _uzs[_stlpce_s_kodmi].apply(lambda col: col.apply(lambda t: standardize_text(t) if pd.notna(t) else t))"
   ]
  },
  {
   "cell_type": "code",
   "execution_count": null,
   "id": "18",
   "metadata": {},
   "outputs": [],
   "source": [
    "# Chceme pocitat pocet spravenych vykonov, tak vytvor kombinaciu vykon-obdobie,\n",
    "# aby sa vykon spravne zapocital viackrat, ak bol pocas jednej hospitalizacie\n",
    "# robeny viackrat.\n",
    "# Vytvor zoznam vykonov v tvare, ako ho pouzivame pre algoritmus. \n",
    "# Kedze uzs data neobsahuju datum vykonu, iba obdobie, v ktorom bola dodana starostlivost, pouzi namiesto dna xx\n",
    "# Kedze uzs data neobsahuju lokalizaciu vykonu, pouzi kod Z \"neznama lokalizacia\"\n",
    "\n",
    "_uzs['operacny_vykon'] = _uzs['kod_hlavneho_vykonu'] + '&Z&' + _uzs['obdobie'].str.replace('-', '') + 'xx'\n",
    "_uzs['jednodnovy_vykon'] = _uzs['kod_jednodnoveho_vykonu'] + '&Z&' + _uzs['obdobie'].str.replace('-', '') + 'xx'\n",
    "\n",
    "_uzs = _uzs.drop(columns=['kod_hlavneho_vykonu', 'kod_jednodnoveho_vykonu'])\n"
   ]
  },
  {
   "cell_type": "markdown",
   "id": "19",
   "metadata": {},
   "source": [
    "### Zjednoť dáta v `uzs`"
   ]
  },
  {
   "cell_type": "code",
   "execution_count": null,
   "id": "20",
   "metadata": {},
   "outputs": [],
   "source": [
    "# Zjednot celu tabulku tak, aby id_hp bolo unikatnym identifikatorom (kazdy riadok samostatne id_hp).\n",
    "\n",
    "# Pomocná funkcia na jednoriadkový zápis odstránenia prvku z množiny\n",
    "def _discard(s, e):\n",
    "    s.discard(e)\n",
    "    return s\n",
    "\n",
    "# pomocná funkcia na jednoriadkový zápis odstránenia nan hodnôt\n",
    "def _dropna(a):\n",
    "    return a[pd.notnull(a)]\n",
    "\n",
    "# pomocna funkcia na vlozenie prvku na zaciatok\n",
    "def _insert_first(l, a):\n",
    "    l.insert(0, a)\n",
    "    return l\n",
    "\n",
    "# Tabuľka `uzs` zoskupená podľa id_hp, na ktorom sa budú agregovať jednotlivé stĺpce\n",
    "_grouped_uzs = _uzs.sort_values(by=['obdobie', 'datum_od', 'datum_do'], ascending=True, na_position='first').groupby(by=['kod_zp', 'id_hp'])\n",
    "\n",
    "# Tabuľka, do ktorej sa budú ukladať výstupné zjednotenia\n",
    "zjednotene_uzs = pd.DataFrame()"
   ]
  },
  {
   "cell_type": "code",
   "execution_count": null,
   "id": "21",
   "metadata": {},
   "outputs": [],
   "source": [
    "# 'datum_od' vezmi najmensi\n",
    "# 'datum_do' vezmi najvacsi\n",
    "# 'obdobie_od' vezmi najmensie obdobie\n",
    "# 'obdobie_do' vezmi najvacsie obdobie\n",
    "# (Mozeme si dovolit pouzit first a last kedze je to zoradene, min a max su o dost pomalsie)\n",
    "\n",
    "zjednotene_uzs['datum_od'] = _grouped_uzs['datum_od'].first()\n",
    "zjednotene_uzs['datum_do'] = _grouped_uzs['datum_do'].last()\n",
    "zjednotene_uzs['obdobie_od'] = _grouped_uzs['obdobie'].first()\n",
    "zjednotene_uzs['obdobie_do'] = _grouped_uzs['obdobie'].last()"
   ]
  },
  {
   "cell_type": "code",
   "execution_count": null,
   "id": "22",
   "metadata": {},
   "outputs": [],
   "source": [
    "# vykony: vytvor zoznam vykonanych vykonov a k tomu prisluchajuce typy vykonov\n",
    "\n",
    "zjednotene_uzs['vykony'] = _grouped_uzs[['operacny_vykon', 'jednodnovy_vykon']].apply(lambda z: '~'.join(_dropna(z.values.flatten()))).replace('', pd.NA)\n",
    "# typ_vykonu sa nenachadza v datach za 2024\n",
    "# zjednotene_uzs['typ_vykonu'] = _grouped_uzs[['typ_vykonu']].apply(lambda z: '~'.join(_dropna(z.values.flatten()))).replace('', pd.NA)\n"
   ]
  },
  {
   "cell_type": "code",
   "execution_count": null,
   "id": "23",
   "metadata": {},
   "outputs": [],
   "source": [
    "# diagnozy: \n",
    "#   posledna znama diagnoza pri prepusteni je hlavna diagnoza\n",
    "#       ak nebola ziadna dianoza pri prepusteni, vezmi poslednu znamu diagnozu pri prijati \n",
    "#   vytvor mnozinu vsetkych diagnoz, bude obsahovat aj hlavnu diagnozu na zaciatku\n",
    "\n",
    "zjednotene_uzs['posledna_dgn_prepustenie'] = _grouped_uzs['dgn_prepustenie'].last()\n",
    "zjednotene_uzs['posledna_dgn_prijem'] = _grouped_uzs['dgn_prijem'].last()\n",
    "zjednotene_uzs['hlavna_diagnoza'] = zjednotene_uzs['posledna_dgn_prepustenie'].fillna(zjednotene_uzs['posledna_dgn_prijem'])\n",
    "\n",
    "zjednotene_uzs['diagnozy'] = _grouped_uzs[['dgn_prijem', 'dgn_prepustenie']].apply(lambda z: set(_dropna(z.values.flatten())))\n",
    "zjednotene_uzs['diagnozy'] = zjednotene_uzs[['hlavna_diagnoza', 'diagnozy']].apply(lambda r: '~'.join(_insert_first(list(_discard(r['diagnozy'], r['hlavna_diagnoza'])), r['hlavna_diagnoza'])), axis=1)"
   ]
  },
  {
   "cell_type": "code",
   "execution_count": null,
   "id": "24",
   "metadata": {},
   "outputs": [],
   "source": [
    "# 'typ_hospitalizacie', 'typ_starostlivosti', 'novorodenec', 'pzs_12' a 'pzs_12_odosielatel' vezmi prve\n",
    "# 'pohyb_poistenca', 'id_poistenca' vezmi posledne (stavalo sa pri porodoch, ze jedno id_hp, malo dvoch poistencov, kedze najprv to bolo pisane na matku az neskor na dieta)\n",
    "\n",
    "zjednotene_uzs['typ_hospitalizacie'] = _grouped_uzs['typ_hospitalizacie'].first()\n",
    "zjednotene_uzs['typ_starostlivosti'] = _grouped_uzs['typ_starostlivosti'].first()\n",
    "zjednotene_uzs['novorodenec'] = _grouped_uzs['novorodenec'].first()\n",
    "zjednotene_uzs['pzs_12'] = _grouped_uzs['pzs_12'].first()\n",
    "zjednotene_uzs['pzs_12_odosielatel'] = _grouped_uzs['pzs_12_odosielatel'].first()\n",
    "\n",
    "zjednotene_uzs['posledny_pohyb_poistenca'] = _grouped_uzs['pohyb_poistenca'].last()\n",
    "zjednotene_uzs['id_poistenca'] = _grouped_uzs['id_poistenca'].last()\n"
   ]
  },
  {
   "cell_type": "code",
   "execution_count": null,
   "id": "25",
   "metadata": {},
   "outputs": [
    {
     "name": "stdout",
     "output_type": "stream",
     "text": [
      "487137\n",
      "kod_zp                           2\n",
      "id_hp                       487137\n",
      "datum_od                       453\n",
      "datum_do                       366\n",
      "obdobie_od                      24\n",
      "obdobie_do                      12\n",
      "vykony                       31266\n",
      "posledna_dgn_prepustenie      6955\n",
      "posledna_dgn_prijem           7156\n",
      "hlavna_diagnoza               7133\n",
      "diagnozy                     21787\n",
      "typ_hospitalizacie               7\n",
      "typ_starostlivosti               4\n",
      "novorodenec                      3\n",
      "pzs_12                        1845\n",
      "pzs_12_odosielatel           10807\n",
      "posledny_pohyb_poistenca       385\n",
      "id_poistenca                301650\n",
      "dtype: int64\n"
     ]
    }
   ],
   "source": [
    "# Vypis statistiky\n",
    "\n",
    "# napoveda k nazvom stlpcov v povodnom R kode:\n",
    "# ID_POI_ZP = id_poistenca\n",
    "# ID_HOSP_ZP = id_hp\n",
    "# DAT_PRIJ = datum_od\n",
    "# DAT_PREP = datum_do\n",
    "# KOD_VYK_OPER = kod_operacneho_vykonu\n",
    "# TYP_ZS = typ_hospitalizacie\n",
    "# ins_name = kod_zp\n",
    "# nemP01 = pzs_8\n",
    "# id_hosp_nem = id_hp_pzs_8\n",
    "# diag_uzs = dgn_prijem\n",
    "# vykon_uzs = kod_vykonu_obdobie\n",
    "\n",
    "print(len(zjednotene_uzs))\n",
    "print(zjednotene_uzs.reset_index().nunique())"
   ]
  },
  {
   "cell_type": "markdown",
   "id": "26",
   "metadata": {},
   "source": [
    "## Priprava dat DRG"
   ]
  },
  {
   "cell_type": "markdown",
   "id": "27",
   "metadata": {},
   "source": [
    "### Priprav data zo suboru 02_HP_UDAJE"
   ]
  },
  {
   "cell_type": "code",
   "execution_count": null,
   "id": "28",
   "metadata": {},
   "outputs": [
    {
     "data": {
      "text/plain": [
       "362404"
      ]
     },
     "execution_count": null,
     "metadata": {},
     "output_type": "execute_result"
    }
   ],
   "source": [
    "# Najdi relevantne tabulky\n",
    "_drg_full = pd.concat([_data[i]['hp'] for i in _spracovat], ignore_index=True)\n",
    "\n",
    "len(_drg_full)"
   ]
  },
  {
   "cell_type": "code",
   "execution_count": null,
   "id": "29",
   "metadata": {},
   "outputs": [
    {
     "name": "stdout",
     "output_type": "stream",
     "text": [
      "362404\n",
      "kod_zp                               2\n",
      "id_hp_pzs                        68719\n",
      "id_hp                           362404\n",
      "id_poistenca                    234073\n",
      "pzs_6                               90\n",
      "datum_od                         71156\n",
      "datum_do                         45501\n",
      "osetrovacia_doba                   144\n",
      "dni_priepustka                      18\n",
      "vek_dni                            366\n",
      "vek_roky                           104\n",
      "hmotnost                          1786\n",
      "upv                                694\n",
      "datum_narodenia                  33540\n",
      "druh_prijatia                        9\n",
      "dovod_prijatia                       7\n",
      "dovod_prepustenia                   10\n",
      "hlavna_diagnoza                   6428\n",
      "lokalizacia_hlavnej_diagnozy         4\n",
      "drg                               1113\n",
      "erv                               9954\n",
      "zlucene_hp                        3931\n",
      "uhrada_hp                       107662\n",
      "uhrada_pp                         9235\n",
      "uhrada_imzs                      30361\n",
      "uhrada_emzs                      41133\n",
      "typ_starostlivosti                   2\n",
      "typ_kontraktu                        3\n",
      "dtype: int64\n"
     ]
    }
   ],
   "source": [
    "# Vyhod nepotrebne stlpce (v tomto pripade ziadne) a duplikaty\n",
    "\n",
    "# napoveda k nazvom stlpcov v povodnom R subore\n",
    "# ID_HP_DZP = id_hp\n",
    "# vek_zapis = vek_roky\n",
    "# HMOTNOST = hmotnost\n",
    "# UPV = upv\n",
    "# KOD_DIAG_HL = hlavna_diagnoza\n",
    "# KOD_DRG = drg\n",
    "# DAT_OD = datum_od\n",
    "# DAT_DO = datum_do\n",
    "# KOD_PZS = pzs_6\n",
    "# TYP_ZS = typ_starostlivosti\n",
    "# ins_name = kod_zp\n",
    "# ID_HP_PZS = id_hp_pzs\n",
    "\n",
    "drg = _drg_full.drop_duplicates()\n",
    "\n",
    "print(len(drg))\n",
    "print(drg.nunique())\n"
   ]
  },
  {
   "cell_type": "code",
   "execution_count": null,
   "id": "5aa5196a",
   "metadata": {},
   "outputs": [],
   "source": [
    "# VALIDATION chybajuce data\n",
    "\n",
    "id_validacie = 'druh_prijatia_chybajuci'\n",
    "invalid = drg[drg['druh_prijatia'].isna()]\n",
    "register_validation(invalid, id_validacie)\n",
    "id_validacie = 'dovod_prijatia_chybajuci'\n",
    "invalid = drg[drg['dovod_prijatia'].isna()]\n",
    "register_validation(invalid, id_validacie)\n",
    "id_validacie = 'dovod_prepustenia_chybajuci'\n",
    "invalid = drg[drg['dovod_prepustenia'].isna()]\n",
    "register_validation(invalid, id_validacie)\n",
    "id_validacie = 'drg_chybajuci'\n",
    "invalid = drg[drg['drg'].isna()]\n",
    "register_validation(invalid, id_validacie)\n",
    "id_validacie = 'erv_chybajuci'\n",
    "invalid = drg[drg['erv'].isna()]\n",
    "register_validation(invalid, id_validacie)"
   ]
  },
  {
   "cell_type": "code",
   "execution_count": null,
   "id": "eaf920f6",
   "metadata": {},
   "outputs": [],
   "source": [
    "# VALIDATION zaporne uhrady\n",
    "\n",
    "id_validacie = 'uhrada_zaporna_02'\n",
    "invalid = drg[drg[UHRADY_COLUMNS].lt(0).any(axis=1)].copy()\n",
    "register_validation(invalid, id_validacie)"
   ]
  },
  {
   "cell_type": "markdown",
   "id": "30",
   "metadata": {},
   "source": [
    "### Priprav data zo suboru 03_HP_PREKLADY"
   ]
  },
  {
   "cell_type": "code",
   "execution_count": null,
   "id": "31",
   "metadata": {},
   "outputs": [
    {
     "name": "stdout",
     "output_type": "stream",
     "text": [
      "462047\n",
      "kod_zp           2\n",
      "id_hp       362401\n",
      "pzs_12        1126\n",
      "datum_od       466\n",
      "datum_do       443\n",
      "dtype: int64\n"
     ]
    }
   ],
   "source": [
    "# vyber relevantne tabulky\n",
    "preklady = pd.concat([_data[i]['preklady'] for i in _spracovat], ignore_index=True)\n",
    "\n",
    "print(len(preklady))\n",
    "print(preklady.nunique())"
   ]
  },
  {
   "cell_type": "code",
   "execution_count": null,
   "id": "32",
   "metadata": {},
   "outputs": [
    {
     "name": "stdout",
     "output_type": "stream",
     "text": [
      "362404\n",
      "kod_zp                               2\n",
      "id_hp_pzs                        68719\n",
      "id_hp                           362404\n",
      "id_poistenca                    234073\n",
      "pzs_6                               90\n",
      "datum_od                         71156\n",
      "datum_do                         45501\n",
      "osetrovacia_doba                   144\n",
      "dni_priepustka                      18\n",
      "vek_dni                            366\n",
      "vek_roky                           104\n",
      "hmotnost                          1786\n",
      "upv                                694\n",
      "datum_narodenia                  33540\n",
      "druh_prijatia                        9\n",
      "dovod_prijatia                       7\n",
      "dovod_prepustenia                   10\n",
      "hlavna_diagnoza                   6428\n",
      "lokalizacia_hlavnej_diagnozy         4\n",
      "drg                               1113\n",
      "erv                               9954\n",
      "zlucene_hp                        3931\n",
      "uhrada_hp                       107662\n",
      "uhrada_pp                         9235\n",
      "uhrada_imzs                      30361\n",
      "uhrada_emzs                      41133\n",
      "typ_starostlivosti                   2\n",
      "typ_kontraktu                        3\n",
      "pzs_12                            1111\n",
      "dtype: int64\n"
     ]
    }
   ],
   "source": [
    "# Priprav na pripojenie k suboru 02_HP_UDAJE\n",
    "# vytvor pzs_6 ako prvych 6 cislic z pzs_12\n",
    "# Prirad prve pzs_12 na ktore bolo hp prijate a koresponduje s uvedenym pzs_6 \n",
    "\n",
    "preklady['pzs_6'] = preklady['pzs_12'].str[:6]\n",
    "\n",
    "_grouped_preklady = preklady.sort_values(by=['datum_od', 'datum_do'], ascending=True).groupby(by=['kod_zp', 'id_hp', 'pzs_6'])\n",
    "drg = drg.merge(_grouped_preklady['pzs_12'].first(), on=['kod_zp', 'id_hp', 'pzs_6'], how='left')\n",
    "\n",
    "print(len(drg))\n",
    "print(drg.nunique())"
   ]
  },
  {
   "cell_type": "markdown",
   "id": "f373a1b7",
   "metadata": {},
   "source": [
    "#### VALIDATION preklady_rozni_poskytovatelia"
   ]
  },
  {
   "cell_type": "code",
   "execution_count": null,
   "id": "33",
   "metadata": {},
   "outputs": [],
   "source": [
    "# Exportuj preklady, ktore pre rovnaky id_hp maju zaznamenany preklad medzi roznymi poskytovatelmi\n",
    "\n",
    "id_validacie = 'preklady_rozni_poskytovatelia'\n",
    "\n",
    "_unique_pzs6 = preklady.groupby(['kod_zp', 'id_hp'])['pzs_6'].unique()\n",
    "_unique_pzs6 = _unique_pzs6[_unique_pzs6.str.len() > 1]\n",
    "\n",
    "invalid = drg.set_index(['kod_zp', 'id_hp']).loc[_unique_pzs6.index].reset_index()\n",
    "invalid['unique_pzs6'] = _unique_pzs6.values\n",
    "\n",
    "register_validation(invalid, id_validacie)"
   ]
  },
  {
   "cell_type": "code",
   "execution_count": null,
   "id": "34",
   "metadata": {},
   "outputs": [],
   "source": [
    "# Exportuj zoznam hospitalizacii, ktore nie su zaznamenane v subore 03_PREKLADY\n",
    "\n",
    "id_validacie = 'preklad_chybajuci'\n",
    "\n",
    "invalid = drg[drg['pzs_12'].isna()]\n",
    "\n",
    "register_validation(invalid, id_validacie)"
   ]
  },
  {
   "cell_type": "markdown",
   "id": "35",
   "metadata": {},
   "source": [
    "### Priprav data zo suboru 04_HP_VDG"
   ]
  },
  {
   "cell_type": "code",
   "execution_count": null,
   "id": "36",
   "metadata": {},
   "outputs": [
    {
     "data": {
      "text/plain": [
       "688547"
      ]
     },
     "execution_count": null,
     "metadata": {},
     "output_type": "execute_result"
    }
   ],
   "source": [
    "# Najdi relevantne tabulky\n",
    "\n",
    "vdg = pd.concat([_data[i]['vdg'] for i in _spracovat], ignore_index=True)\n",
    "\n",
    "len(vdg)"
   ]
  },
  {
   "cell_type": "code",
   "execution_count": null,
   "id": "37",
   "metadata": {},
   "outputs": [
    {
     "name": "stdout",
     "output_type": "stream",
     "text": [
      "688545\n",
      "kod_zp          2\n",
      "id_hp      236503\n",
      "vdg          9063\n",
      "lok_vdg         4\n",
      "dtype: int64\n"
     ]
    }
   ],
   "source": [
    "# Vyhod duplicity\n",
    "\n",
    "vdg = vdg.drop_duplicates()\n",
    "\n",
    "print(len(vdg))\n",
    "print(vdg.nunique())"
   ]
  },
  {
   "cell_type": "code",
   "execution_count": null,
   "id": "38",
   "metadata": {},
   "outputs": [],
   "source": [
    "# Vytvor mnozinu vedlajsich diagnoz\n",
    "\n",
    "vdg['vdg'] = vdg['vdg'].apply(lambda t: standardize_text(t) if pd.notna(t) else t)\n",
    "_vedlajsie_diagnozy = vdg.groupby(['kod_zp', 'id_hp'])[['vdg', 'lok_vdg']].agg(lambda z: '~'.join([x for x in z if pd.notna(x)])).rename(columns={'vdg': 'vedlajsie_diagnozy', 'lok_vdg': 'lokalizacie_vedlajsich_diagnoz'})"
   ]
  },
  {
   "cell_type": "code",
   "execution_count": null,
   "id": "39",
   "metadata": {},
   "outputs": [
    {
     "name": "stdout",
     "output_type": "stream",
     "text": [
      "362404\n"
     ]
    }
   ],
   "source": [
    "# Pripoj vedlajsie diagnozy zo suboru 04_HP_VDG k suboru 02_HP\n",
    "\n",
    "drg = drg.merge(_vedlajsie_diagnozy, how='left', on=['kod_zp', 'id_hp'])\n",
    "\n",
    "print(len(drg))"
   ]
  },
  {
   "cell_type": "markdown",
   "id": "40",
   "metadata": {},
   "source": [
    "### Priprav data zo suboru 05_HP_ZV"
   ]
  },
  {
   "cell_type": "code",
   "execution_count": null,
   "id": "41",
   "metadata": {},
   "outputs": [],
   "source": [
    "# Vyber relevantne tabulky \n",
    "\n",
    "vykony = pd.concat([_data[i]['vykony'] for i in _spracovat], ignore_index=True)"
   ]
  },
  {
   "cell_type": "code",
   "execution_count": null,
   "id": "42",
   "metadata": {},
   "outputs": [],
   "source": [
    "# Vytvor identifikator vykonu na zaklade jeho kodu, datumu vykonania a\n",
    "# lokalizacie. Tiez na zaklade jeho kodu, roku a mesiaca vykonania na porovnanie\n",
    "# so suborom 01_UZS_JZS.\n",
    "\n",
    "vykony['kod_vykonu'] = vykony['kod_vykonu'].apply(standardize_text)\n",
    "vykony.loc[:, ['kod_vykonu']] = vykony['kod_vykonu'] + '&' + vykony['lokalizacia_vykonu'].fillna('Z') + '&' + vykony['datum_vykonu'].dt.strftime(r'%Y%m%d').fillna('xxxxxxxx')"
   ]
  },
  {
   "cell_type": "code",
   "execution_count": null,
   "id": "43",
   "metadata": {},
   "outputs": [
    {
     "name": "stdout",
     "output_type": "stream",
     "text": [
      "362404\n"
     ]
    }
   ],
   "source": [
    "# Vytvor zoznam vykonov a Pripoj vykony zo suboru 05_HP_ZV k suboru 02_HP\n",
    "\n",
    "_zoznamy_vykonov = vykony.groupby(['kod_zp', 'id_hp'])['kod_vykonu'].apply(lambda z: '~'.join(z)).rename('vykony')\n",
    "\n",
    "drg = drg.merge(_zoznamy_vykonov, how='left', on=['kod_zp', 'id_hp'])\n",
    "\n",
    "print(len(drg))"
   ]
  },
  {
   "cell_type": "markdown",
   "id": "44",
   "metadata": {},
   "source": [
    "### Priprav data zo suboru 06_PPDRG"
   ]
  },
  {
   "cell_type": "code",
   "execution_count": null,
   "id": "45",
   "metadata": {},
   "outputs": [],
   "source": [
    "# Vyber relevantne tabulky \n",
    "\n",
    "ppdrg = pd.concat([_data[i]['ppdrg'] for i in _spracovat], ignore_index=True)"
   ]
  },
  {
   "cell_type": "code",
   "execution_count": null,
   "id": "b68b741f",
   "metadata": {},
   "outputs": [
    {
     "data": {
      "text/plain": [
       "Index(['kod_zp', 'id_hp', 'kod_drg_pp', 'cena_drg_pp'], dtype='object')"
      ]
     },
     "execution_count": null,
     "metadata": {},
     "output_type": "execute_result"
    }
   ],
   "source": [
    "ppdrg.columns"
   ]
  },
  {
   "cell_type": "code",
   "execution_count": null,
   "id": "ad92eae6",
   "metadata": {},
   "outputs": [],
   "source": [
    "# Validation: cena je zaporna\n",
    "\n",
    "id_validacie = 'cena_pp_zaporna'\n",
    "\n",
    "invalid = ppdrg[ppdrg['cena_drg_pp'].lt(0)].copy()\n",
    "invalid['pzs_6'] = pd.NA\n",
    "invalid['id_hp_pzs'] = pd.NA\n",
    "invalid['id_poistenca'] = pd.NA\n",
    "\n",
    "register_validation(invalid, id_validacie)"
   ]
  },
  {
   "cell_type": "code",
   "execution_count": null,
   "id": "46",
   "metadata": {},
   "outputs": [],
   "source": [
    "# Pre kazde id_hp vytvor zoznam pripocitatelnych poloziek a ich cien\n",
    "\n",
    "_pripocitatelne_polozky = ppdrg.groupby(['kod_zp', 'id_hp'])[['kod_drg_pp', 'cena_drg_pp']].agg({'kod_drg_pp': lambda z: '~'.join(z), 'cena_drg_pp': lambda z: '~'.join([str(x) for x in z])})"
   ]
  },
  {
   "cell_type": "code",
   "execution_count": null,
   "id": "47",
   "metadata": {},
   "outputs": [
    {
     "name": "stdout",
     "output_type": "stream",
     "text": [
      "362404\n",
      "kod_zp                                 2\n",
      "id_hp_pzs                          68719\n",
      "id_hp                             362404\n",
      "id_poistenca                      234073\n",
      "pzs_6                                 90\n",
      "datum_od                           71156\n",
      "datum_do                           45501\n",
      "osetrovacia_doba                     144\n",
      "dni_priepustka                        18\n",
      "vek_dni                              366\n",
      "vek_roky                             104\n",
      "hmotnost                            1786\n",
      "upv                                  694\n",
      "datum_narodenia                    33540\n",
      "druh_prijatia                          9\n",
      "dovod_prijatia                         7\n",
      "dovod_prepustenia                     10\n",
      "hlavna_diagnoza                     6428\n",
      "lokalizacia_hlavnej_diagnozy           4\n",
      "drg                                 1113\n",
      "erv                                 9954\n",
      "zlucene_hp                          3931\n",
      "uhrada_hp                         107662\n",
      "uhrada_pp                           9235\n",
      "uhrada_imzs                        30361\n",
      "uhrada_emzs                        41133\n",
      "typ_starostlivosti                     2\n",
      "typ_kontraktu                          3\n",
      "pzs_12                              1111\n",
      "vedlajsie_diagnozy                120114\n",
      "lokalizacie_vedlajsich_diagnoz      7107\n",
      "vykony                            239286\n",
      "kod_drg_pp                          6132\n",
      "cena_drg_pp                         5626\n",
      "dtype: int64\n"
     ]
    }
   ],
   "source": [
    "drg = drg.merge(_pripocitatelne_polozky, how='left', on=['kod_zp', 'id_hp'])\n",
    "\n",
    "print(len(drg))\n",
    "print(drg.nunique())"
   ]
  },
  {
   "cell_type": "markdown",
   "id": "48",
   "metadata": {},
   "source": [
    "## Doplnenie DRG dat z UZS_JZS"
   ]
  },
  {
   "cell_type": "code",
   "execution_count": null,
   "id": "49",
   "metadata": {},
   "outputs": [
    {
     "name": "stdout",
     "output_type": "stream",
     "text": [
      "362404\n",
      "kod_zp                                 2\n",
      "id_hp_pzs                          68719\n",
      "id_hp                             362404\n",
      "id_poistenca_02                   234073\n",
      "pzs_6                                 90\n",
      "datum_od_02                        71156\n",
      "datum_do_02                        45501\n",
      "osetrovacia_doba                     144\n",
      "dni_priepustka                        18\n",
      "vek_dni                              366\n",
      "vek_roky                             104\n",
      "hmotnost                            1786\n",
      "upv                                  694\n",
      "datum_narodenia                    33540\n",
      "druh_prijatia                          9\n",
      "dovod_prijatia                         7\n",
      "dovod_prepustenia                     10\n",
      "hlavna_diagnoza_02                  6428\n",
      "lokalizacia_hlavnej_diagnozy           4\n",
      "drg                                 1113\n",
      "erv                                 9954\n",
      "zlucene_hp                          3931\n",
      "uhrada_hp                         107662\n",
      "uhrada_pp                           9235\n",
      "uhrada_imzs                        30361\n",
      "uhrada_emzs                        41133\n",
      "typ_starostlivosti_02                  2\n",
      "typ_kontraktu                          3\n",
      "pzs_12_02                           1111\n",
      "vedlajsie_diagnozy                120114\n",
      "lokalizacie_vedlajsich_diagnoz      7107\n",
      "vykony_02                         239286\n",
      "kod_drg_pp                          6132\n",
      "cena_drg_pp                         5626\n",
      "datum_od_01                          423\n",
      "datum_do_01                          366\n",
      "obdobie_od                            14\n",
      "obdobie_do                            12\n",
      "vykony_01                          28087\n",
      "posledna_dgn_prepustenie            6805\n",
      "posledna_dgn_prijem                 6812\n",
      "hlavna_diagnoza_01                  6805\n",
      "diagnozy                           20561\n",
      "typ_hospitalizacie                     5\n",
      "typ_starostlivosti_01                  2\n",
      "novorodenec                            3\n",
      "pzs_12_01                           1110\n",
      "pzs_12_odosielatel                  8911\n",
      "posledny_pohyb_poistenca             324\n",
      "id_poistenca_01                   234073\n",
      "dtype: int64\n"
     ]
    }
   ],
   "source": [
    "# Pripoj data z 01_UZS_JZS k existujucim datam z 02_HP_UDAJE\n",
    "\n",
    "final = drg.merge(zjednotene_uzs, how='left', on=['kod_zp', 'id_hp'], suffixes=['_02', '_01'])\n",
    "\n",
    "print(len(final))\n",
    "\n",
    "print(final.nunique())"
   ]
  },
  {
   "cell_type": "markdown",
   "id": "50",
   "metadata": {},
   "source": [
    "###  Zjednot udaje zo suborov 01_UZS_JZS a 02_HP_UDAJE\n",
    "\n",
    "Prioritu dostava subor 02_HP_UDAJE (`02`)"
   ]
  },
  {
   "cell_type": "markdown",
   "id": "51",
   "metadata": {},
   "source": [
    "#### ID poistenca"
   ]
  },
  {
   "cell_type": "code",
   "execution_count": null,
   "id": "52",
   "metadata": {},
   "outputs": [],
   "source": [
    "if int(_rok) > 2021:\n",
    "    id_validacie = 'id_poistenca_nezhodny'\n",
    "\n",
    "    final['id_poistenca'] = final['id_poistenca_02'].fillna(final['id_poistenca_01'])\n",
    "\n",
    "    invalid = final[final['id_poistenca_02'] != final['id_poistenca_01']]\n",
    "    \n",
    "    register_validation(invalid, id_validacie)\n",
    "\n",
    "    final = final.drop(columns=['id_poistenca_01', 'id_poistenca_02'])"
   ]
  },
  {
   "cell_type": "markdown",
   "id": "53",
   "metadata": {},
   "source": [
    "####   Typ zdravotnej starostlivosti"
   ]
  },
  {
   "cell_type": "code",
   "execution_count": null,
   "id": "54",
   "metadata": {},
   "outputs": [],
   "source": [
    "# Typ starostlivosti\n",
    "id_validacie = 'typ_starostlivosti_nezhodny'\n",
    "\n",
    "invalid = final[final['typ_starostlivosti_02'] != final['typ_starostlivosti_01']]\n",
    "\n",
    "register_validation(invalid, id_validacie)\n",
    "\n",
    "# Add separate validation for UH type in T02\n",
    "id_validacie = 'typ_starostlivosti_UH_v_02'\n",
    "\n",
    "invalid = final[final['typ_starostlivosti_02'] == 'UH']\n",
    "\n",
    "register_validation(invalid, id_validacie)\n",
    "\n",
    "# resolve invalid cases (Priority T02, 'UH')\n",
    "final['typ_starostlivosti'] = final['typ_starostlivosti_02'].fillna(final['typ_starostlivosti_01']).fillna('UH')\n",
    "final = final.drop(columns=['typ_starostlivosti_01', 'typ_starostlivosti_02'])"
   ]
  },
  {
   "cell_type": "markdown",
   "id": "55",
   "metadata": {},
   "source": [
    "#### Kod poskytovatela pzs_12"
   ]
  },
  {
   "cell_type": "code",
   "execution_count": null,
   "id": "56",
   "metadata": {},
   "outputs": [],
   "source": [
    "final['pzs_12'] = final['pzs_12_02'].fillna(final['pzs_12_01'])\n",
    "final = final.drop(columns=['pzs_12_01', 'pzs_12_02'])\n"
   ]
  },
  {
   "cell_type": "markdown",
   "id": "57",
   "metadata": {},
   "source": [
    "#### Datumy"
   ]
  },
  {
   "cell_type": "code",
   "execution_count": null,
   "id": "58",
   "metadata": {},
   "outputs": [],
   "source": [
    "id_validacie = 'datumy_nezhodne'\n",
    "\n",
    "invalid = final[final[['datum_od_01', 'datum_od_02']].notna().all(axis=1) & ((final['datum_od_02'] - final['datum_od_01']).dt.days != 0) | final[['datum_do_01', 'datum_do_02']].notna().all(axis=1) & ((final['datum_do_02'] - final['datum_do_01']).dt.days != 0)]\n",
    "\n",
    "register_validation(invalid, id_validacie)\n",
    "\n",
    "final['datum_od'] = final['datum_od_02'].fillna(final['datum_od_01'])\n",
    "final['datum_do'] = final['datum_do_02'].fillna(final['datum_do_01'])\n",
    "\n",
    "final = final.drop(columns=['datum_od_01', 'datum_do_01', 'datum_od_02', 'datum_do_02'])"
   ]
  },
  {
   "cell_type": "markdown",
   "id": "59",
   "metadata": {},
   "source": [
    "#### Diagnozy"
   ]
  },
  {
   "cell_type": "code",
   "execution_count": null,
   "id": "60",
   "metadata": {},
   "outputs": [],
   "source": [
    "# kod hlavnej diagnozy a drg zjednot na standardny tvar male pismena, cisla \n",
    "final[['hlavna_diagnoza_02', 'drg']] = final[['hlavna_diagnoza_02', 'drg']].apply(lambda col: col.apply(lambda t: standardize_text(t) if pd.notna(t) else t))"
   ]
  },
  {
   "cell_type": "code",
   "execution_count": null,
   "id": "61",
   "metadata": {},
   "outputs": [],
   "source": [
    "id_validacie = 'hlavna_diagnoza_nezhodna'\n",
    "\n",
    "invalid = final[final['hlavna_diagnoza_01'] != final['hlavna_diagnoza_02']]\n",
    "\n",
    "register_validation(invalid, id_validacie)\n",
    "\n",
    "id_validacie = 'hlavna_diagnoza_chybajuca_02'\n",
    "\n",
    "invalid = final[final['hlavna_diagnoza_02'].isna()]\n",
    "\n",
    "register_validation(invalid, id_validacie)\n",
    "\n",
    "final['hlavna_diagnoza'] = final['hlavna_diagnoza_02'].fillna(final['hlavna_diagnoza_01'])\n",
    "\n",
    "final = final.drop(columns=['hlavna_diagnoza_01', 'hlavna_diagnoza_02'])"
   ]
  },
  {
   "cell_type": "code",
   "execution_count": null,
   "id": "62",
   "metadata": {},
   "outputs": [],
   "source": [
    "# Ako vedlajsie diagnozy pouzi vedlajsie diagnozy z 02 a ponechaj pre analyticke ucely diagnozy z 01\n",
    "\n",
    "final = final.rename(columns={'diagnozy': 'diagnozy_z_01'})"
   ]
  },
  {
   "cell_type": "code",
   "execution_count": null,
   "id": "63",
   "metadata": {},
   "outputs": [],
   "source": [
    "# Vytvor stlpec `diagnozy` obsahujuci hlavnu diagnozu na zaciatku\n",
    "\n",
    "_spojka = np.where(final['vedlajsie_diagnozy'].notna(), '~', '')\n",
    "\n",
    "final['diagnozy'] = final['hlavna_diagnoza'].fillna('') + _spojka + final['vedlajsie_diagnozy'].fillna('')\n",
    "\n",
    "final = final.drop(columns=['hlavna_diagnoza', 'vedlajsie_diagnozy'])"
   ]
  },
  {
   "cell_type": "markdown",
   "id": "64",
   "metadata": {},
   "source": [
    "#### Vykony"
   ]
  },
  {
   "cell_type": "code",
   "execution_count": null,
   "id": "65",
   "metadata": {},
   "outputs": [],
   "source": [
    "# Ako vykony pouzi vykony z 02 a ponechaj pre analyticke ucely vykony z 01\n",
    "\n",
    "final = final.rename(columns={'vykony_02': 'vykony', 'vykony_01': 'vykony_z_01'}) "
   ]
  },
  {
   "cell_type": "markdown",
   "id": "66",
   "metadata": {},
   "source": [
    "## Pripojenie dalsich hospitalizacnych pripadov z UZS_JZS"
   ]
  },
  {
   "cell_type": "code",
   "execution_count": null,
   "id": "67",
   "metadata": {},
   "outputs": [
    {
     "data": {
      "text/plain": [
       "124733"
      ]
     },
     "execution_count": null,
     "metadata": {},
     "output_type": "execute_result"
    }
   ],
   "source": [
    "# Vyber iba tie hp, ktoré sa nenachádzajú v drg dátach\n",
    "# uz nebudeme potrebovat stlpec s hlavnou diagnozou\n",
    "\n",
    "zjednotene_uzs = zjednotene_uzs.reset_index()\n",
    "_doplnkove_uzs = zjednotene_uzs[~zjednotene_uzs['id_hp'].isin(final['id_hp'])]\n",
    "_doplnkove_uzs = _doplnkove_uzs.drop(columns=['hlavna_diagnoza'])\n",
    "_doplnkove_uzs[['diagnozy_z_01', 'vykony_z_01']] = _doplnkove_uzs[['diagnozy', 'vykony']]\n",
    "\n",
    "len(_doplnkove_uzs)"
   ]
  },
  {
   "cell_type": "code",
   "execution_count": null,
   "id": "68",
   "metadata": {},
   "outputs": [
    {
     "name": "stdout",
     "output_type": "stream",
     "text": [
      "487137\n",
      "index                             407022\n",
      "kod_zp                                 2\n",
      "id_hp_pzs                          68719\n",
      "id_hp                             487137\n",
      "pzs_6                                 90\n",
      "osetrovacia_doba                     144\n",
      "dni_priepustka                        18\n",
      "vek_dni                              366\n",
      "vek_roky                             104\n",
      "hmotnost                            1786\n",
      "upv                                  694\n",
      "datum_narodenia                    33540\n",
      "druh_prijatia                          9\n",
      "dovod_prijatia                         7\n",
      "dovod_prepustenia                     10\n",
      "lokalizacia_hlavnej_diagnozy           4\n",
      "drg                                 1113\n",
      "erv                                 9954\n",
      "zlucene_hp                          3931\n",
      "uhrada_hp                         107662\n",
      "uhrada_pp                           9235\n",
      "uhrada_imzs                        30361\n",
      "uhrada_emzs                        41133\n",
      "typ_kontraktu                          3\n",
      "lokalizacie_vedlajsich_diagnoz      7107\n",
      "vykony                            246668\n",
      "kod_drg_pp                          6132\n",
      "cena_drg_pp                         5626\n",
      "obdobie_od                            24\n",
      "obdobie_do                            12\n",
      "vykony_z_01                        31266\n",
      "posledna_dgn_prepustenie            6955\n",
      "posledna_dgn_prijem                 7156\n",
      "diagnozy_z_01                      21787\n",
      "typ_hospitalizacie                     7\n",
      "novorodenec                            3\n",
      "pzs_12_odosielatel                 10807\n",
      "posledny_pohyb_poistenca             385\n",
      "id_poistenca                      301650\n",
      "typ_starostlivosti                     4\n",
      "pzs_12                              1848\n",
      "datum_od                           71177\n",
      "datum_do                           45501\n",
      "diagnozy                          170364\n",
      "dtype: int64\n"
     ]
    }
   ],
   "source": [
    "final = pd.concat([final, _doplnkove_uzs]).reset_index()\n",
    "\n",
    "print(len(final))\n",
    "print(final.nunique())"
   ]
  },
  {
   "cell_type": "markdown",
   "id": "69",
   "metadata": {},
   "source": [
    "## finalna uprava vsetkych hospitalizacii"
   ]
  },
  {
   "cell_type": "markdown",
   "id": "70",
   "metadata": {},
   "source": [
    "### Pripojenie dat zo suboru 09_UZS_POISTENCI"
   ]
  },
  {
   "cell_type": "code",
   "execution_count": null,
   "id": "71",
   "metadata": {},
   "outputs": [
    {
     "name": "stdout",
     "output_type": "stream",
     "text": [
      "2777596\n",
      "kod_zp                          2\n",
      "id_poistenca              2664505\n",
      "datum_narodenia             35788\n",
      "pohlavie                        2\n",
      "datum_poistenia_od          10941\n",
      "datum_poistenia_do           1999\n",
      "dovod_ukoncenia                22\n",
      "kod_prechodneho_pobytu       2868\n",
      "psc_prechodneho_pobytu       2102\n",
      "kod_trvaleho_pobytu          2926\n",
      "psc_trvaleho_pobytu         13807\n",
      "dtype: int64\n"
     ]
    }
   ],
   "source": [
    "poistenci = pd.concat([_data[i]['poistenci'] for i in _spracovat], ignore_index=True)\n",
    "\n",
    "print(len(poistenci))\n",
    "print(poistenci.nunique())"
   ]
  },
  {
   "cell_type": "code",
   "execution_count": null,
   "id": "72",
   "metadata": {},
   "outputs": [
    {
     "name": "stdout",
     "output_type": "stream",
     "text": [
      "2493186\n",
      "kod_zp                          2\n",
      "id_poistenca              2465833\n",
      "datum_narodenia             35097\n",
      "pohlavie                        2\n",
      "datum_poistenia_od          10803\n",
      "datum_poistenia_do            924\n",
      "dovod_ukoncenia                20\n",
      "kod_prechodneho_pobytu       2861\n",
      "psc_prechodneho_pobytu       2087\n",
      "kod_trvaleho_pobytu          2926\n",
      "psc_trvaleho_pobytu         13805\n",
      "dtype: int64\n"
     ]
    }
   ],
   "source": [
    "# Vylúč záznamy, ktorým skončilo poistenie pred daným rokom\n",
    "\n",
    "poistenci = poistenci[~(poistenci['datum_poistenia_do'].dt.year < int(_rok))]\n",
    "\n",
    "# Vylúč záznamy, ktoré skončili v danom roku a prešli do inej poisťovne\n",
    "\n",
    "poistenci = poistenci[~((poistenci['datum_poistenia_do'] < f'{_rok}-12-31') & poistenci['dovod_ukoncenia'].isin(['24','25','27']))]\n",
    "\n",
    "# Vylúč záznamy, ktorým začína poistenie až v budúcom roku\n",
    "\n",
    "poistenci = poistenci[~(poistenci['datum_poistenia_od'].dt.year > int(_rok))]\n",
    "\n",
    "print(len(poistenci))\n",
    "print(poistenci.nunique())"
   ]
  },
  {
   "cell_type": "code",
   "execution_count": null,
   "id": "73",
   "metadata": {},
   "outputs": [
    {
     "data": {
      "text/plain": [
       "2493119"
      ]
     },
     "execution_count": null,
     "metadata": {},
     "output_type": "execute_result"
    }
   ],
   "source": [
    "# Vylúč duplicity\n",
    "poistenci = poistenci.drop_duplicates()\n",
    "\n",
    "len(poistenci)"
   ]
  },
  {
   "cell_type": "code",
   "execution_count": null,
   "id": "74",
   "metadata": {},
   "outputs": [],
   "source": [
    "# Skontroluj platný dôvod ukončenia\n",
    "\n",
    "platne_dovody_ukoncenia = ['24', '25', '27', 'M', 'K', 'C', 'E', 'P', 'T', 'R', 'Z']\n",
    "\n",
    "id_validacie = 'poistenci_dovod_ukoncenia_neplatny'\n",
    "\n",
    "invalid = poistenci[poistenci['dovod_ukoncenia'].notna() & ~poistenci['dovod_ukoncenia'].isin(platne_dovody_ukoncenia)].copy()\n",
    "invalid['pzs_6'] = pd.NA\n",
    "invalid['id_hp'] = pd.NA\n",
    "invalid['id_hp_pzs'] = pd.NA\n",
    "\n",
    "register_validation(invalid, id_validacie)"
   ]
  },
  {
   "cell_type": "code",
   "execution_count": null,
   "id": "75",
   "metadata": {},
   "outputs": [
    {
     "name": "stdout",
     "output_type": "stream",
     "text": [
      "2493119\n",
      "kod_zp                          2\n",
      "id_poistenca              2465833\n",
      "datum_narodenia             35097\n",
      "pohlavie                        2\n",
      "datum_poistenia_od          10803\n",
      "datum_poistenia_do            924\n",
      "dovod_ukoncenia                20\n",
      "kod_prechodneho_pobytu       2861\n",
      "psc_prechodneho_pobytu       2087\n",
      "kod_trvaleho_pobytu          2926\n",
      "psc_trvaleho_pobytu         13805\n",
      "dtype: int64\n"
     ]
    }
   ],
   "source": [
    "# Najdi poistencov, ktori maju viac ako jeden datum narodenia a vyhod ich\n",
    "\n",
    "# Pozn. možno bude nutné spätne ponechať tzv. fiktivnych poistencov, su to id_poistenca, u ktorych sa moze objavit viacnasobny datum narodenia, pretoze sa pouziju pre viacerych pacientov, ktorych poistenie je nezname alebo utajene. Ak takí existujú, ich zoznam sa nachádza v súbore poznamky.txt pri pri ostatných súboroch od poisťovne.   \n",
    "\n",
    "id_validacie = 'poistenci_viac_datumov_narodenia'\n",
    "\n",
    "invalid = poistenci[poistenci.groupby('id_poistenca')['datum_narodenia'].transform('nunique') > 1]\n",
    "invalid['pzs_6'] = pd.NA\n",
    "invalid['id_hp'] = pd.NA\n",
    "invalid['id_hp_pzs'] = pd.NA\n",
    "\n",
    "register_validation(invalid, id_validacie)\n",
    "\n",
    "print(len(poistenci))\n",
    "print(poistenci.nunique())"
   ]
  },
  {
   "cell_type": "code",
   "execution_count": null,
   "id": "76",
   "metadata": {},
   "outputs": [],
   "source": [
    "# Vytvor kod pobytu a psc pobytu primarne z prechodneho pobytu\n",
    "\n",
    "poistenci['kod_pobytu'] = poistenci['kod_prechodneho_pobytu'].fillna(poistenci['kod_trvaleho_pobytu'])\n",
    "poistenci['psc_pobytu'] = poistenci['psc_prechodneho_pobytu'].fillna(poistenci['psc_trvaleho_pobytu'])"
   ]
  },
  {
   "cell_type": "code",
   "execution_count": null,
   "id": "77",
   "metadata": {},
   "outputs": [
    {
     "name": "stdout",
     "output_type": "stream",
     "text": [
      "2465833\n",
      "kod_zp                   2\n",
      "id_poistenca       2465833\n",
      "pohlavie                 2\n",
      "datum_narodenia      35097\n",
      "psc_pobytu            5699\n",
      "kod_pobytu            2929\n",
      "dtype: int64\n"
     ]
    }
   ],
   "source": [
    "# Vyber posledny zaznamenany pobyt\n",
    "poistenci = poistenci.groupby(by=['kod_zp', 'id_poistenca', 'pohlavie', 'datum_narodenia'])[['psc_pobytu', 'kod_pobytu']].last().reset_index()\n",
    "\n",
    "print(len(poistenci))\n",
    "print(poistenci.nunique())"
   ]
  },
  {
   "cell_type": "code",
   "execution_count": null,
   "id": "78",
   "metadata": {},
   "outputs": [],
   "source": [
    "# Skontroluj zaznamenaný ZUJ kód a PSČ pobytu\n",
    "\n",
    "poistenci['psc_pobytu'] = poistenci['psc_pobytu'].str.replace(' ', '')\n",
    "\n",
    "id_validacie = 'poistenci_ZUJ_a_PSC_chybajuce'\n",
    "\n",
    "invalid = poistenci[poistenci['kod_pobytu'].isna() & poistenci['psc_pobytu'].isna()].copy()\n",
    "invalid['pzs_6'] = pd.NA\n",
    "invalid['id_hp'] = pd.NA\n",
    "invalid['id_hp_pzs'] = pd.NA\n",
    "register_validation(invalid, id_validacie)\n",
    "\n",
    "obce = load_zoznam_obci('Inputs/KÓDY_OBCE.xlsx')\n",
    "psc = load_psc_2_zuj('Inputs/psc_na_zuj.csv')\n",
    "\n",
    "id_validacie = \"poistenci_ZUJ_nedohladane\"\n",
    "\n",
    "invalid = poistenci[poistenci['kod_pobytu'].notna() & ~poistenci['kod_pobytu'].isin(obce['ZUJ'])].copy()\n",
    "invalid['pzs_6'] = pd.NA\n",
    "invalid['id_hp'] = pd.NA\n",
    "invalid['id_hp_pzs'] = pd.NA\n",
    "register_validation(invalid, id_validacie)\n",
    "\n",
    "id_validacie = \"poistenci_PSC_nedohladane\"\n",
    "\n",
    "invalid = poistenci[poistenci['psc_pobytu'].notna() & ~poistenci['psc_pobytu'].isin(psc['psc'].unique())].copy()\n",
    "invalid['pzs_6'] = pd.NA\n",
    "invalid['id_hp'] = pd.NA\n",
    "invalid['id_hp_pzs'] = pd.NA\n",
    "register_validation(invalid, id_validacie)\n",
    "\n",
    "id_validacie = \"poistenci_pohlavie_chybajuce\"\n",
    "\n",
    "invalid = poistenci[poistenci['pohlavie'].isna()].copy()\n",
    "invalid['pzs_6'] = pd.NA\n",
    "invalid['id_hp'] = pd.NA\n",
    "invalid['id_hp_pzs'] = pd.NA\n",
    "register_validation(invalid, id_validacie)"
   ]
  },
  {
   "cell_type": "code",
   "execution_count": null,
   "id": "79",
   "metadata": {},
   "outputs": [],
   "source": [
    "# Pre chýbajúci alebo neplatný ZUJ kód priraď ZUJ kód podľa PSČ (vyber náhodne jeden zo ZUJ kódov pokrytých daným PSČ proporčne k počtu obyvateľov v danom ZUJ kóde - predpočítané v prevodovom subore psc_na_zuj)\n",
    "\n",
    "doplnenie_zuj = poistenci[poistenci['psc_pobytu'].isin(psc['psc'].unique()) & ~poistenci['kod_pobytu'].isin(obce['ZUJ'].unique())]\n",
    "\n",
    "poistenci.loc[doplnenie_zuj.index, ['kod_pobytu']] = doplnenie_zuj.merge(psc.groupby('psc').agg({'ZUJ': list, 'ZUJ_pravdepodobnost': list}), left_on='psc_pobytu', right_index=True).apply(lambda r: random.choices(r['ZUJ'], r['ZUJ_pravdepodobnost'])[0], axis=1)"
   ]
  },
  {
   "cell_type": "code",
   "execution_count": null,
   "id": "80",
   "metadata": {},
   "outputs": [],
   "source": [
    "# Vytvor exporty vyfiltrovaných poistencov\n",
    "\n",
    "poistenci.to_csv(_paths['vystupy'] / f'poistenci_vyfiltrovani_{_rok}.csv', sep=';', index=False)"
   ]
  },
  {
   "cell_type": "code",
   "execution_count": null,
   "id": "81",
   "metadata": {},
   "outputs": [],
   "source": [
    "# Pripoj data zo suboru 09_UZS_POISTENCI\n",
    "\n",
    "final = final.merge(poistenci, how='left', on=['kod_zp', 'id_poistenca'], suffixes=['_02', '_09'])"
   ]
  },
  {
   "cell_type": "code",
   "execution_count": null,
   "id": "82",
   "metadata": {},
   "outputs": [],
   "source": [
    "# Exportuj ID poistencov, ktore mame v datach o hospitalizaciach ale nie v datach o poistencoch\n",
    "\n",
    "id_validacie = \"id_poistenca_nedohladane\"\n",
    "\n",
    "invalid = final[~final['id_poistenca'].isin(poistenci['id_poistenca'])]\n",
    "\n",
    "register_validation(invalid, id_validacie)"
   ]
  },
  {
   "cell_type": "code",
   "execution_count": null,
   "id": "83",
   "metadata": {},
   "outputs": [],
   "source": [
    "# vyexportuj pripady, kde sa nezhoduju datumy narodenia, a datum z 02 nie je novorodenec (datum narodenia skor ako v decembri minuleho roka)\n",
    "# zjednot datumy narodenia, primarny je z 09\n",
    "\n",
    "if int(_rok) > 2021:\n",
    "    \n",
    "    id_validacie = 'datum_narodenia_nezhodny'\n",
    "\n",
    "    invalid = final[final[['datum_narodenia_02', 'datum_narodenia_09']].notna().all(axis=1) & (final['datum_narodenia_02'] != final['datum_narodenia_09']) & (final['datum_narodenia_02'] < pd.Timestamp(year=int(_rok)-1, month=12, day=1))]\n",
    "\n",
    "    register_validation(invalid, id_validacie)\n",
    "    \n",
    "    final['datum_narodenia'] = final['datum_narodenia_09'].fillna(final['datum_narodenia_02'])\n",
    "\n",
    "    final = final.drop(columns=['datum_narodenia_02', 'datum_narodenia_09'])"
   ]
  },
  {
   "cell_type": "markdown",
   "id": "84",
   "metadata": {},
   "source": [
    "### Kod poskytovatela pzs_8"
   ]
  },
  {
   "cell_type": "code",
   "execution_count": null,
   "id": "85",
   "metadata": {},
   "outputs": [
    {
     "data": {
      "text/plain": [
       "487137"
      ]
     },
     "execution_count": null,
     "metadata": {},
     "output_type": "execute_result"
    }
   ],
   "source": [
    "# Pridaj kod nemocnice podla prevodovnika na zaklade kodov oddeleni.\n",
    "\n",
    "_pzs_12_prevodnik = load_pzs_12('Inputs/pzs_12_prevodnik.csv')\n",
    "\n",
    "final = final.merge(_pzs_12_prevodnik, how='left', on='pzs_12')\n",
    "\n",
    "len(final)"
   ]
  },
  {
   "cell_type": "code",
   "execution_count": null,
   "id": "87",
   "metadata": {},
   "outputs": [],
   "source": [
    "final['pzs_6'] = final['pzs_6_x'].fillna(final['pzs_6_y'])\n",
    "\n",
    "final = final.drop(columns=['pzs_6_x', 'pzs_6_y'])"
   ]
  },
  {
   "cell_type": "code",
   "execution_count": null,
   "id": "86",
   "metadata": {},
   "outputs": [],
   "source": [
    "# Exportuj kody oddeleni, ktorym nevieme priradit kod nemocnice\n",
    "\n",
    "final[final['pzs_8'].isna()][['id_hp', 'pzs_6', 'pzs_8', 'pzs_12']].to_csv(_paths['validacia'] / 'pzs_12_nedohladane_v_prevodniku.csv', sep=';', index=False)\n",
    "\n",
    "id_validacie = \"pzs_12_nedohladane_v_datach_nczi\"\n",
    "\n",
    "invalid = final[final['pzs_8'].fillna('xxxxxxxx').str.endswith('xx')]\n",
    "\n",
    "register_validation(invalid, id_validacie)"
   ]
  },
  {
   "cell_type": "code",
   "execution_count": null,
   "id": "88",
   "metadata": {},
   "outputs": [],
   "source": [
    "# Ak sa nepripojil kod nemocnice, lebo hospitalizacia nema zaznam v subore\n",
    "# 03_HP_PREKLADY, alebo je hospitalizacia z 01_UZS_JZS vytvor kod nemocnice \n",
    "# ako 'KOD_PZS + 0 + Y', kde Y sa zisti z polozky ID_HP_PZS ako (Z)RRYXXXXX. \n",
    "# Y by nikdy nemalo byt 0, ale nemocnice si ho tak niekedy udavaju, takze sprav zmenu na 1.\n",
    "\n",
    "_y=final['id_hp_pzs'].str.extract('^Z?\\d\\d(\\d)').replace('0', '1')\n",
    "\n",
    "final['pzs_8'] = final['pzs_8'].fillna(final['pzs_6'] + '0' + _y[0])"
   ]
  },
  {
   "cell_type": "markdown",
   "id": "89",
   "metadata": {},
   "source": [
    "### Vyradenie hospitalizacii nekonciacich vo vybranom roku"
   ]
  },
  {
   "cell_type": "code",
   "execution_count": null,
   "id": "90",
   "metadata": {},
   "outputs": [
    {
     "data": {
      "text/plain": [
       "487137"
      ]
     },
     "execution_count": null,
     "metadata": {},
     "output_type": "execute_result"
    }
   ],
   "source": [
    "id_validacie = 'konci_v_zlom_obdobi'\n",
    "\n",
    "_konci_v_zlom_obdobi = ((final['datum_do'].notna()) & (final['datum_do'].dt.year != int(_rok)))\n",
    "\n",
    "invalid = final[_konci_v_zlom_obdobi]\n",
    "\n",
    "register_validation(invalid, id_validacie)\n",
    "\n",
    "final = final.drop(final[_konci_v_zlom_obdobi].index)\n",
    "\n",
    "len(final)"
   ]
  },
  {
   "cell_type": "markdown",
   "id": "91",
   "metadata": {},
   "source": [
    "### Dlzka osetrovacej doby"
   ]
  },
  {
   "cell_type": "code",
   "execution_count": null,
   "id": "92",
   "metadata": {},
   "outputs": [],
   "source": [
    "# Napocitaj dlzku osetrovacej doby ako rozdiel v dnoch medzi datumom prepustenia a datumom prijatia. Pouzi v pripade, ze nebola dlzka osetrovacej doby reportovana.\n",
    "\n",
    "def vypocitaj_dlzku_osetrovacej_doby(datum_prijatia, datum_prepustenia):\n",
    "    if datum_prepustenia < datum_prijatia:\n",
    "        return 1\n",
    "    return max(1,(datum_prepustenia - datum_prijatia).days)\n",
    "\n",
    "\n",
    "_vypocitana_dlzka_osetrovania = final.apply(lambda row: vypocitaj_dlzku_osetrovacej_doby(row['datum_od'], row['datum_do']), axis=1).astype('Int16')"
   ]
  },
  {
   "cell_type": "code",
   "execution_count": null,
   "id": "93",
   "metadata": {},
   "outputs": [],
   "source": [
    "id_validacie = \"osetrovacia_doba_0\"\n",
    "\n",
    "invalid = final[final['osetrovacia_doba'].notna() & (final['osetrovacia_doba'] == 0)]\n",
    "\n",
    "register_validation(invalid, id_validacie)\n",
    "\n",
    "final.loc[final['osetrovacia_doba'].notna() & (final['osetrovacia_doba'] == 0), 'osetrovacia_doba'] = pd.NA"
   ]
  },
  {
   "cell_type": "code",
   "execution_count": null,
   "id": "94",
   "metadata": {},
   "outputs": [],
   "source": [
    "final.loc[:,'osetrovacia_doba'] = final['osetrovacia_doba'].fillna(_vypocitana_dlzka_osetrovania)\n",
    "final.loc[final['typ_starostlivosti'].isin(['JZS', 'JZS2']), 'osetrovacia_doba'] = final.loc[final['typ_starostlivosti'].isin(['JZS', 'JZS2']), 'osetrovacia_doba'].fillna(1)"
   ]
  },
  {
   "cell_type": "markdown",
   "id": "95",
   "metadata": {},
   "source": [
    "### Vek"
   ]
  },
  {
   "cell_type": "code",
   "execution_count": null,
   "id": "96",
   "metadata": {},
   "outputs": [],
   "source": [
    "# Natipuj vek podla datumov hospitalizacii a narodenia a toho, co bolo napisane.\n",
    "# Z datumov hospitalizacii sa najde minimalny a podla neho a datumu narodenia\n",
    "# sa urci vek pri hospitalizacii. \n",
    "\n",
    "final['datum_prijatia'] = final[['datum_od', 'datum_do']].min(axis=1)"
   ]
  },
  {
   "cell_type": "code",
   "execution_count": null,
   "id": "97",
   "metadata": {},
   "outputs": [],
   "source": [
    "# Vypocitaj vek presne zo zadanych datumov prijatia a narodenia\n",
    "\n",
    "def vypocitaj_vek(datum_prijatia, datum_narodenia):\n",
    "    if datum_prijatia < datum_narodenia:\n",
    "        return 0, 1\n",
    "    vek_roky = datum_prijatia.year - datum_narodenia.year - ((datum_prijatia.month, datum_prijatia.day) < (datum_narodenia.month, datum_narodenia.day))\n",
    "    if vek_roky == 0:\n",
    "        return vek_roky, (datum_prijatia - datum_narodenia).days\n",
    "    return vek_roky, pd.NA\n",
    "\n",
    "final[['vypocitany_vek_roky', 'vypocitany_vek_dni']] = final.apply(lambda row: vypocitaj_vek(row['datum_prijatia'], row['datum_narodenia']), axis=1, result_type='expand')"
   ]
  },
  {
   "cell_type": "code",
   "execution_count": null,
   "id": "98",
   "metadata": {},
   "outputs": [],
   "source": [
    "# Pre pripady, ze je znamy datum narodenia ale neznamy datum prijatia, mozeme odhadnut vek ako jednoduchy rozdiel medzi aktualnym rokom a rokom narodenia\n",
    "\n",
    "final['odhadnuty_vek_roky'] = final.apply(lambda row: int(_rok) - row['datum_narodenia'].year, axis=1)"
   ]
  },
  {
   "cell_type": "code",
   "execution_count": null,
   "id": "99",
   "metadata": {},
   "outputs": [],
   "source": [
    "# Nakoniec ak je vyplneny vek v dnoch alebo hmotnost, vek je 0 rokov.\n",
    "\n",
    "final.loc[(final['vek_dni'] > 0) | (final['hmotnost'] > 0), ['odhadnuty_vek_0']] = 0"
   ]
  },
  {
   "cell_type": "code",
   "execution_count": null,
   "id": "100",
   "metadata": {},
   "outputs": [],
   "source": [
    "# Prioritu ma zaznamenany vek v rokoch, doplna sa vypocitanym alebo odhadnutym vekom\n",
    "\n",
    "final['vek_roky'] = final['vek_roky'].fillna(final['odhadnuty_vek_0'])\n",
    "final['vek_roky'] = final['vek_roky'].fillna(final['vypocitany_vek_roky'])\n",
    "final['vek_dni'] = final['vek_dni'].fillna(final['vypocitany_vek_dni'])\n",
    "final['vek_roky'] = final['vek_roky'].fillna(final['odhadnuty_vek_roky'])\n",
    "\n",
    "\n",
    "final = final.drop(\n",
    "    columns=['datum_prijatia', 'vypocitany_vek_roky', 'vypocitany_vek_dni', 'odhadnuty_vek_roky', 'odhadnuty_vek_0']\n",
    "    )"
   ]
  },
  {
   "cell_type": "code",
   "execution_count": null,
   "id": "101",
   "metadata": {},
   "outputs": [],
   "source": [
    "# Exportuj zaznamy, ktore maju nestandardne hodnoty\n",
    "# Vysoky vek\n",
    "id_validacie=\"vek_vysoky\"\n",
    "invalid=final[final['vek_roky'] > 109]\n",
    "register_validation(invalid, id_validacie)\n",
    "\n",
    "# Novorodenci bez hmotnosti (dopln dohodnutu hodnotu 2500)\n",
    "id_validacie=\"novorodenec_bez_hmotnosti\"\n",
    "invalid=final[(final['vek_roky'] == 0) & (final['vek_dni'] <= 28) & (final['hmotnost'].isna())]\n",
    "register_validation(invalid, id_validacie)\n",
    "\n",
    "final.loc[(final['vek_roky'] == 0) & ((final['vek_dni'] <= 28) | final['vek_dni'].isna()) & (final['hmotnost'].isna()), 'hmotnost'] = 2500\n",
    "\n",
    "# Chybajuci vek (aj napriek carovaniu so vsetkym moznym)\n",
    "id_validacie=\"vek_chybajuci\"\n",
    "invalid=final[final['vek_roky'].isna()]\n",
    "register_validation(invalid, id_validacie)"
   ]
  },
  {
   "cell_type": "code",
   "execution_count": null,
   "id": "102",
   "metadata": {},
   "outputs": [],
   "source": [
    "# TODO premysliet, ci nie je vhodnejsie ako najpravdivejsi vek povazovat ten z tabulky 09."
   ]
  },
  {
   "cell_type": "code",
   "execution_count": null,
   "id": "103",
   "metadata": {},
   "outputs": [],
   "source": [
    "final['vek_roky'] = pd.to_numeric(final['vek_roky'], errors='coerce').astype('Int16')\n",
    "final['vek_dni'] = pd.to_numeric(final['vek_dni'], errors='coerce').astype('Int16')"
   ]
  },
  {
   "cell_type": "markdown",
   "id": "104",
   "metadata": {},
   "source": [
    "### Vylucenie hospitalizacii, ktore boli zlucene kvoli DRG"
   ]
  },
  {
   "cell_type": "code",
   "execution_count": null,
   "id": "105",
   "metadata": {},
   "outputs": [],
   "source": [
    "# Zo stlpca s ciastkovymi hospitalizaciami odstran medzery (2021 ich nema, ale\n",
    "# radsej pre isototu to treba spravit) a ak je ako oddelovac pouzita bodka\n",
    "# (mala by byt pouzivana len ciarka, ak nie je treba to vratit poistovni)\n",
    "# zmen ju na ciarku\n",
    "\n",
    "final['zlucene_hp'] = final['zlucene_hp'].str.replace(' ', \"\").str.replace('.', ',')"
   ]
  },
  {
   "cell_type": "code",
   "execution_count": null,
   "id": "106",
   "metadata": {},
   "outputs": [],
   "source": [
    "# Vyber riadky, ktore maju nieco v ciastkovej hospitalizacii\n",
    "_zlucene = final[final['zlucene_hp'].notna()][['pzs_8', 'zlucene_hp']].drop_duplicates()"
   ]
  },
  {
   "cell_type": "code",
   "execution_count": null,
   "id": "107",
   "metadata": {},
   "outputs": [],
   "source": [
    "# Rozdel ciastkove hospitalizacie samostatne do riadkov\n",
    "\n",
    "_zlucene = _zlucene.set_index(['pzs_8']).apply(lambda col: col.str.split(',').explode()).reset_index()"
   ]
  },
  {
   "cell_type": "code",
   "execution_count": null,
   "id": "108",
   "metadata": {},
   "outputs": [],
   "source": [
    "# Vytvor jedinecne id pre ciastkove hospitalizacie\n",
    "_zlucene['id_hp_pzs_pzs_8'] = _zlucene['zlucene_hp'] + '_' + _zlucene['pzs_8']"
   ]
  },
  {
   "cell_type": "code",
   "execution_count": null,
   "id": "109",
   "metadata": {},
   "outputs": [],
   "source": [
    "# Najdi id hospitalizacii prisluchajucich jedinecnym id\n",
    "\n",
    "final['id_hp_pzs_pzs_8'] = final['id_hp_pzs'] + '_' + final['pzs_8']\n",
    "\n",
    "_id_na_vylucenie = final[final['id_hp_pzs_pzs_8'].isin(_zlucene['id_hp_pzs_pzs_8'])]['id_hp']"
   ]
  },
  {
   "cell_type": "code",
   "execution_count": null,
   "id": "110",
   "metadata": {},
   "outputs": [],
   "source": [
    "# Exportuj ciastkove hospitalizacie\n",
    "final.loc[final['id_hp'].isin(_id_na_vylucenie),['id_hp', 'id_hp_pzs']].to_csv(_paths['validacia'] / 'zlucene_hospitalizacie.csv', sep=';', index=False)"
   ]
  },
  {
   "cell_type": "code",
   "execution_count": null,
   "id": "111",
   "metadata": {},
   "outputs": [
    {
     "data": {
      "text/plain": [
       "479468"
      ]
     },
     "execution_count": null,
     "metadata": {},
     "output_type": "execute_result"
    }
   ],
   "source": [
    "# Vyhod ciastkove hospitalizacie\n",
    "\n",
    "final = final.drop(final[final['id_hp'].isin(_id_na_vylucenie)].index)\n",
    "\n",
    "final = final.drop(columns=['id_hp_pzs_pzs_8'])\n",
    "\n",
    "len(final)"
   ]
  },
  {
   "cell_type": "markdown",
   "id": "112",
   "metadata": {},
   "source": [
    "### Reporting chybajucich dat"
   ]
  },
  {
   "cell_type": "code",
   "execution_count": null,
   "id": "113",
   "metadata": {},
   "outputs": [],
   "source": [
    "final = final.replace('', np.nan)\n",
    "\n",
    "id_validacie = 'id_poistenca_chybajuce'\n",
    "invalid = final[final['id_poistenca'].isna()]\n",
    "register_validation(invalid, id_validacie)\n",
    "\n",
    "id_validacie = 'typ_starostlivosti_chybajuci'\n",
    "invalid = final[final['typ_starostlivosti'].isna()]\n",
    "register_validation(invalid, id_validacie)\n",
    "\n",
    "id_validacie = 'pzs_12_chybajuce'\n",
    "invalid = final[final['pzs_12'].isna()]\n",
    "register_validation(invalid, id_validacie)\n",
    "\n",
    "id_validacie = 'datumy_chybajuce'\n",
    "invalid = final[(final['datum_od'].isna()) | (final['datum_do'].isna() & (~final['typ_starostlivosti'].isin(['JZS', 'JZS2'])))]\n",
    "register_validation(invalid, id_validacie)\n",
    "\n",
    "id_validacie = 'hlavna_diagnoza_chybajuca'\n",
    "invalid = final[final['diagnozy'].str.startswith('~', na=False)]\n",
    "register_validation(invalid, id_validacie)\n",
    "\n",
    "id_validacie = 'diagnozy_chybajuce'\n",
    "invalid = final[final['diagnozy'].isna()]\n",
    "register_validation(invalid, id_validacie)"
   ]
  },
  {
   "cell_type": "markdown",
   "id": "114",
   "metadata": {},
   "source": [
    "## Upratanie finalnych dat"
   ]
  },
  {
   "cell_type": "code",
   "execution_count": null,
   "id": "115",
   "metadata": {},
   "outputs": [
    {
     "name": "stdout",
     "output_type": "stream",
     "text": [
      "479468\n",
      "id_hp                             479468\n",
      "vek_roky                             104\n",
      "vek_dni                              366\n",
      "hmotnost                            1779\n",
      "upv                                  692\n",
      "diagnozy                          169350\n",
      "lokalizacia_hlavnej_diagnozy           4\n",
      "lokalizacie_vedlajsich_diagnoz      7047\n",
      "vykony                            245726\n",
      "drg                                 1113\n",
      "erv                                 9711\n",
      "typ_starostlivosti                     4\n",
      "typ_hospitalizacie                     7\n",
      "druh_prijatia                          9\n",
      "dovod_prijatia                         7\n",
      "dovod_prepustenia                     10\n",
      "posledna_dgn_prijem                 7145\n",
      "posledna_dgn_prepustenie            6940\n",
      "posledny_pohyb_poistenca             384\n",
      "diagnozy_z_01                      21614\n",
      "vykony_z_01                        31107\n",
      "novorodenec                            3\n",
      "obdobie_od                            24\n",
      "obdobie_do                            12\n",
      "datum_od                           70563\n",
      "datum_do                           45074\n",
      "osetrovacia_doba                     203\n",
      "dni_priepustka                        18\n",
      "id_poistenca                      301648\n",
      "datum_narodenia                    33705\n",
      "pohlavie                               2\n",
      "kod_pobytu                          2915\n",
      "kod_zp                                 2\n",
      "pzs_12                              1848\n",
      "IDENTIFZAR                           361\n",
      "pzs_8                                364\n",
      "pzs_6                                273\n",
      "pzs_ico                              273\n",
      "id_hp_pzs                          68229\n",
      "kod_drg_pp                          6071\n",
      "cena_drg_pp                         5574\n",
      "pzs_12_odosielatel                 10798\n",
      "zlucene_hp                          3825\n",
      "dtype: int64\n"
     ]
    }
   ],
   "source": [
    "# Popresuvaj stlpce a vypis statistiky\n",
    "\n",
    "final = final[COLUMNS_VS]\n",
    "\n",
    "print(len(final))\n",
    "print(final.nunique())"
   ]
  },
  {
   "cell_type": "code",
   "execution_count": null,
   "id": "116",
   "metadata": {},
   "outputs": [],
   "source": [
    "# Exportuj do csv\n",
    "\n",
    "final.to_csv(_paths['vystupy'] / f'osn_vsetka_starostlivost_{_rok}_{\"_\".join(_spracovat)}.csv', sep=';', index=False)"
   ]
  },
  {
   "cell_type": "markdown",
   "id": "117",
   "metadata": {},
   "source": [
    "## Priprava dat pre 274"
   ]
  },
  {
   "cell_type": "code",
   "execution_count": null,
   "id": "118",
   "metadata": {},
   "outputs": [],
   "source": [
    "final_274 = pd.DataFrame(columns=COLUMNS_274.values())\n",
    "final_274['dgn_prijem'] = final['posledna_dgn_prijem']\n",
    "final_274['dgn_prepustenie'] = final['posledna_dgn_prepustenie']\n",
    "final_274['pohyb_poistenca'] = final['posledny_pohyb_poistenca']\n",
    "final_274['novorodenec'] = final['novorodenec']\n",
    "final_274['pzs_12_odosielatel'] = final['pzs_12_odosielatel']\n",
    "final_274['id_poistenca'] = final['id_poistenca']\n",
    "final_274['pohlavie_poistenca'] = final['pohlavie']\n",
    "# final_274['typ_vykonu'] = final['typ_vykonu'].str.replace('~', '@')\n",
    "\n",
    "_vykony_list = final['vykony'].str.split('~')\n",
    "_kody_vykonov = _vykony_list.apply(lambda z: [x.split('&')[0] for x in z] if isinstance(z, list) else z)\n",
    "_lokalizacie_vykonov = _vykony_list.apply(lambda z: [x.split('&')[1] for x in z] if isinstance(z, list) else z)\n",
    "_datumy_vykonov = _vykony_list.apply(lambda z: [x.split('&')[2] for x in z] if isinstance(z, list) else z)\n",
    "\n",
    "final_274['kod_hlavneho_vykonu'] = _kody_vykonov.str[0]\n",
    "final_274['typ_hospitalizacie'] = final['typ_hospitalizacie']\n",
    "final_274['datum_prijatia'] = final['datum_od'].dt.date\n",
    "final_274['datum_prepustenia'] = final['datum_do'].dt.date\n",
    "final_274['id_hp'] = final['id_hp']\n",
    "final_274['upv'] = final['upv']\n",
    "final_274['kody_vykonov'] = _kody_vykonov.str.join('@')\n",
    "final_274['lokalizacie_vykonov'] = _lokalizacie_vykonov.str.join('@')\n",
    "final_274['datumy_vykonov'] = _datumy_vykonov.str.join('@')\n",
    "final_274['datum_narodenia'] = final['datum_narodenia']\n",
    "final_274['druh_prijatia'] = final['druh_prijatia']\n",
    "final_274['dovod_prijatia'] = final['dovod_prijatia']\n",
    "final_274['vek_dni'] = final['vek_dni']\n",
    "final_274['vek_roky'] = final['vek_roky']\n",
    "final_274['hmotnost'] = final['hmotnost']\n",
    "final_274['druh_prepustenia'] = final['dovod_prepustenia']\n",
    "final_274['kod_hlavnej_diagnozy'] = final['diagnozy'].str.split('~').str[0]\n",
    "final_274['lokalizacia_hlavnej_diagnozy'] = final['lokalizacia_hlavnej_diagnozy']\n",
    "final_274['kody_vedlajsich_diagnoz'] = final['diagnozy'].str.split('~').apply(lambda z: '@'.join(z[1:]) if len(z) > 1 else pd.NA)\n",
    "final_274['lokalizacie_vedlajsich_diagnoz'] = final['lokalizacie_vedlajsich_diagnoz'].str.replace('~', '@')\n",
    "final_274['dlzka_osetrovacej_doby'] = final['osetrovacia_doba']\n",
    "final_274['dni_priepustka'] = final['dni_priepustka']\n",
    "final_274['drg'] = final['drg']\n",
    "final_274['erv'] = final['erv']\n",
    "final_274['kod_drg_pp'] = final['kod_drg_pp'].str.replace('~', '@')\n",
    "final_274['cena_drg_pp'] = final['cena_drg_pp'].str.replace('~', '@')\n",
    "final_274['cas_prijatia'] = final['datum_od'].dt.time\n",
    "final_274['cas_prepustenia'] = final['datum_do'].dt.time\n",
    "final_274['zlucovane_hp'] = final['zlucene_hp']\n",
    "final_274['pzs_ico'] = final['pzs_ico']\n",
    "final_274['id_hp_pzs'] = final['id_hp_pzs']\n",
    "\n",
    "pzs_ico_centralne_riadenie = ['37957937', '00606715', '00165549', '17336007', '00610470', '00610381', '17335825', '00165336', '00607231', '31813861', '00606707', '00365327', '00227811', '35971126', '36513458', '36644331', '36603350', '36601284']\n",
    "final_274 = final_274.query('pzs_ico.isin(@pzs_ico_centralne_riadenie)')"
   ]
  },
  {
   "cell_type": "code",
   "execution_count": null,
   "id": "120",
   "metadata": {},
   "outputs": [],
   "source": [
    "# Exportuj do csv\n",
    "\n",
    "final_274.to_csv(_paths['vystupy'] / f'f274_{\"_\".join(_spracovat)}_osn_vsetka_starostlivost_f274_{_rok}.csv', sep='|', index=False)"
   ]
  },
  {
   "cell_type": "markdown",
   "id": "121",
   "metadata": {},
   "source": [
    "## Priprava dat pre algoritmus"
   ]
  },
  {
   "cell_type": "code",
   "execution_count": null,
   "id": "122",
   "metadata": {},
   "outputs": [],
   "source": [
    "# Pridaj stlpec s odbornostami (aktualne prazdny) a vyber iba chcene stlpce\n",
    "\n",
    "_verzia_algoritmu = 'v2024.2'\n",
    "\n",
    "if _verzia_algoritmu == 'v2024.1':\n",
    "    _for_algorithm = final[['id_hp', 'vek_roky', 'vek_dni', 'hmotnost', 'upv', 'diagnozy', 'vykony', 'drg']]\n",
    "    _for_algorithm.insert(7, \"odbornosti\", pd.NA)\n",
    "            \n",
    "    _doplneny_vek_dni = _for_algorithm[_for_algorithm['vek_roky'] >= 1]['vek_dni'].fillna(0)\n",
    "    _for_algorithm.loc[_doplneny_vek_dni.index,['vek_dni']] = _doplneny_vek_dni\n",
    "elif _verzia_algoritmu == 'v2024.2':\n",
    "    _for_algorithm = final[['id_hp', 'vek_roky', 'hmotnost', 'upv', 'diagnozy', 'vykony', 'drg']]\n"
   ]
  },
  {
   "cell_type": "code",
   "execution_count": null,
   "id": "123",
   "metadata": {},
   "outputs": [],
   "source": [
    "# Dopln dalsie numericke hodnoty na 0\n",
    "\n",
    "_doplnena_hmotnost = _for_algorithm[~(_for_algorithm['vek_roky'] == 0)]['hmotnost'].fillna(0)\n",
    "_for_algorithm.loc[_doplnena_hmotnost.index,['hmotnost']] = _doplnena_hmotnost\n",
    "\n",
    "_for_algorithm.loc[:, ['upv']] = _for_algorithm['upv'].fillna(0)"
   ]
  },
  {
   "cell_type": "code",
   "execution_count": null,
   "id": "124",
   "metadata": {},
   "outputs": [
    {
     "name": "stdout",
     "output_type": "stream",
     "text": [
      "479468\n",
      "id_hp       479468\n",
      "vek_roky       104\n",
      "hmotnost      1779\n",
      "upv            693\n",
      "diagnozy    169350\n",
      "vykony      245726\n",
      "drg           1113\n",
      "dtype: int64\n"
     ]
    }
   ],
   "source": [
    "# Vyexportuj do csv\n",
    "\n",
    "print(len(_for_algorithm))\n",
    "\n",
    "print(_for_algorithm.nunique())\n",
    "\n",
    "_for_algorithm.to_csv(_paths['vystupy'] / f'osn_vsetka_starostlivost_{_rok}_pre_algoritmus_{_verzia_algoritmu}.csv', sep=';', header=False, index=False)\n"
   ]
  },
  {
   "cell_type": "markdown",
   "id": "127",
   "metadata": {},
   "source": [
    "# Validácia s tabuľkou 13"
   ]
  },
  {
   "cell_type": "code",
   "execution_count": null,
   "id": "128",
   "metadata": {},
   "outputs": [
    {
     "data": {
      "text/plain": [
       "685"
      ]
     },
     "execution_count": null,
     "metadata": {},
     "output_type": "execute_result"
    }
   ],
   "source": [
    "# Najdi relevantne tabuľky\n",
    "sumar = pd.concat([_data[k]['sumar'] for k in _spracovat], ignore_index=True)\n",
    "sumar['pocet'] = sumar['pocet'].astype('Int32')\n",
    "\n",
    "len(sumar)"
   ]
  },
  {
   "cell_type": "code",
   "execution_count": null,
   "id": "129",
   "metadata": {},
   "outputs": [],
   "source": [
    "# Vytvor sumar z final v rovnakom tvare, ako je vykazovany poistovanmi v tabulke 13 a porovnaj\n",
    "\n",
    "_final_sumar = final.groupby(by=['kod_zp', 'pzs_6', 'typ_starostlivosti'])['id_hp'].count().astype('Int32').rename('pocet')\n",
    "\n",
    "sumar = sumar.merge(_final_sumar, on=['kod_zp', 'pzs_6', 'typ_starostlivosti'], how='outer', suffixes=['_vykazany', '_spocitany'])\n",
    "\n",
    "sumar['rozdiel_absolutny'] = sumar['pocet_vykazany'].fillna(0) - sumar['pocet_spocitany'].fillna(0)\n",
    "sumar['rozdiel_relativny'] = (sumar['rozdiel_absolutny'] / sumar[['pocet_spocitany', 'pocet_vykazany']].max(axis=1)).abs()\n",
    "sumar = sumar.set_index(['kod_zp', 'pzs_6', 'typ_starostlivosti'])"
   ]
  },
  {
   "cell_type": "code",
   "execution_count": null,
   "id": "5ddc19b8",
   "metadata": {},
   "outputs": [
    {
     "data": {
      "application/vnd.microsoft.datawrangler.viewer.v0+json": {
       "columns": [
        {
         "name": "('kod_zp', 'pzs_6', 'typ_starostlivosti')",
         "rawType": "object",
         "type": "unknown"
        },
        {
         "name": "pocet_vykazany",
         "rawType": "Int32",
         "type": "integer"
        },
        {
         "name": "pocet_spocitany",
         "rawType": "Int32",
         "type": "integer"
        },
        {
         "name": "rozdiel_absolutny",
         "rawType": "Int32",
         "type": "integer"
        },
        {
         "name": "rozdiel_relativny",
         "rawType": "Float64",
         "type": "float"
        }
       ],
       "conversionMethod": "pd.DataFrame",
       "ref": "d3f3a19b-95c4-4166-93a1-949703334f99",
       "rows": [
        [
         "('24', 'N19681', 'DRG')",
         "838",
         "838",
         "0",
         "0.0"
        ],
        [
         "('24', 'N19681', 'JZS')",
         "62",
         "59",
         "3",
         "0.04838709677419355"
        ],
        [
         "('24', 'N19681', 'JZS2')",
         "1",
         "1",
         "0",
         "0.0"
        ],
        [
         "('24', 'N21149', 'DRG')",
         "1399",
         "1381",
         "18",
         "0.012866333095067906"
        ],
        [
         "('24', 'N21149', 'JZS2')",
         "140",
         "140",
         "0",
         "0.0"
        ],
        [
         "('24', 'N21149', 'UH')",
         null,
         "28",
         "-28",
         "1.0"
        ],
        [
         "('24', 'N22001', 'DRG')",
         "3960",
         "3840",
         "120",
         "0.030303030303030304"
        ],
        [
         "('24', 'N22001', 'JZS')",
         "1162",
         "1162",
         "0",
         "0.0"
        ],
        [
         "('24', 'N22001', 'JZS2')",
         "980",
         "980",
         "0",
         "0.0"
        ],
        [
         "('24', 'N22399', 'DRG')",
         "2729",
         "2604",
         "125",
         "0.04580432392817882"
        ],
        [
         "('24', 'N22399', 'JZS2')",
         "437",
         "437",
         "0",
         "0.0"
        ],
        [
         "('24', 'N22951', 'JZS')",
         "157",
         "157",
         "0",
         "0.0"
        ],
        [
         "('24', 'N27353', 'JZS')",
         "95",
         "95",
         "0",
         "0.0"
        ],
        [
         "('24', 'N28081', 'JZS')",
         "98",
         "98",
         "0",
         "0.0"
        ],
        [
         "('24', 'N32499', 'JZS')",
         "240",
         "240",
         "0",
         "0.0"
        ],
        [
         "('24', 'N33067', 'DRG')",
         "9409",
         "9293",
         "116",
         "0.012328621532575194"
        ],
        [
         "('24', 'N33067', 'JZS2')",
         "1490",
         "1490",
         "0",
         "0.0"
        ],
        [
         "('24', 'N33067', 'UH')",
         null,
         "792",
         "-792",
         "1.0"
        ],
        [
         "('24', 'N34535', 'DRG')",
         "1172",
         "1150",
         "22",
         "0.01877133105802048"
        ],
        [
         "('24', 'N34535', 'JZS2')",
         "234",
         "234",
         "0",
         "0.0"
        ],
        [
         "('24', 'N38843', 'DRG')",
         "2119",
         "2112",
         "7",
         "0.0033034450212364322"
        ],
        [
         "('24', 'N41521', 'JZS')",
         "93",
         "93",
         "0",
         "0.0"
        ],
        [
         "('24', 'N41659', 'DRG')",
         "107",
         "107",
         "0",
         "0.0"
        ],
        [
         "('24', 'N41659', 'JZS')",
         "2011",
         "2026",
         "-15",
         "0.007403751233958539"
        ],
        [
         "('24', 'N42231', 'DRG')",
         "6518",
         "6397",
         "121",
         "0.01856397667996318"
        ],
        [
         "('24', 'N42231', 'JZS')",
         "2835",
         "2836",
         "-1",
         "0.0003526093088857546"
        ],
        [
         "('24', 'N42231', 'JZS2')",
         "454",
         "454",
         "0",
         "0.0"
        ],
        [
         "('24', 'N42231', 'UH')",
         null,
         "328",
         "-328",
         "1.0"
        ],
        [
         "('24', 'N47369', 'JZS')",
         "258",
         "258",
         "0",
         "0.0"
        ],
        [
         "('24', 'N48965', 'JZS')",
         "327",
         "327",
         "0",
         "0.0"
        ],
        [
         "('24', 'N49813', 'DRG')",
         "1392",
         "1335",
         "57",
         "0.040948275862068964"
        ],
        [
         "('24', 'N49813', 'JZS2')",
         "653",
         "653",
         "0",
         "0.0"
        ],
        [
         "('24', 'N50139', 'DRG')",
         "3355",
         "3262",
         "93",
         "0.027719821162444112"
        ],
        [
         "('24', 'N50139', 'JZS2')",
         "1000",
         "1000",
         "0",
         "0.0"
        ],
        [
         "('24', 'N50139', 'UH')",
         null,
         "36",
         "-36",
         "1.0"
        ],
        [
         "('24', 'N51751', 'DRG')",
         "1467",
         "1412",
         "55",
         "0.03749147920927062"
        ],
        [
         "('24', 'N51751', 'JZS2')",
         "185",
         "185",
         "0",
         "0.0"
        ],
        [
         "('24', 'N56229', 'DRG')",
         "2153",
         "2119",
         "34",
         "0.01579191825359963"
        ],
        [
         "('24', 'N56229', 'JZS2')",
         "188",
         "188",
         "0",
         "0.0"
        ],
        [
         "('24', 'N61173', 'DRG')",
         "645",
         "645",
         "0",
         "0.0"
        ],
        [
         "('24', 'N61173', 'JZS2')",
         "560",
         "560",
         "0",
         "0.0"
        ],
        [
         "('24', 'N66395', 'JZS')",
         "190",
         "190",
         "0",
         "0.0"
        ],
        [
         "('24', 'N68103', 'JZS')",
         "332",
         "332",
         "0",
         "0.0"
        ],
        [
         "('24', 'N71098', 'JZS')",
         "336",
         "335",
         "1",
         "0.002976190476190476"
        ],
        [
         "('24', 'N75723', 'JZS')",
         "292",
         "292",
         "0",
         "0.0"
        ],
        [
         "('24', 'N80847', 'DRG')",
         "2555",
         "2487",
         "68",
         "0.026614481409001956"
        ],
        [
         "('24', 'N80847', 'JZS2')",
         "255",
         "255",
         "0",
         "0.0"
        ],
        [
         "('24', 'N81227', 'JZS')",
         "187",
         "187",
         "0",
         "0.0"
        ],
        [
         "('24', 'N84209', 'DRG')",
         "3709",
         "3643",
         "66",
         "0.01779455378808304"
        ],
        [
         "('24', 'N84209', 'JZS2')",
         "555",
         "555",
         "0",
         "0.0"
        ]
       ],
       "shape": {
        "columns": 4,
        "rows": 722
       }
      },
      "text/html": [
       "<div>\n",
       "<style scoped>\n",
       "    .dataframe tbody tr th:only-of-type {\n",
       "        vertical-align: middle;\n",
       "    }\n",
       "\n",
       "    .dataframe tbody tr th {\n",
       "        vertical-align: top;\n",
       "    }\n",
       "\n",
       "    .dataframe thead th {\n",
       "        text-align: right;\n",
       "    }\n",
       "</style>\n",
       "<table border=\"1\" class=\"dataframe\">\n",
       "  <thead>\n",
       "    <tr style=\"text-align: right;\">\n",
       "      <th></th>\n",
       "      <th></th>\n",
       "      <th></th>\n",
       "      <th>pocet_vykazany</th>\n",
       "      <th>pocet_spocitany</th>\n",
       "      <th>rozdiel_absolutny</th>\n",
       "      <th>rozdiel_relativny</th>\n",
       "    </tr>\n",
       "    <tr>\n",
       "      <th>kod_zp</th>\n",
       "      <th>pzs_6</th>\n",
       "      <th>typ_starostlivosti</th>\n",
       "      <th></th>\n",
       "      <th></th>\n",
       "      <th></th>\n",
       "      <th></th>\n",
       "    </tr>\n",
       "  </thead>\n",
       "  <tbody>\n",
       "    <tr>\n",
       "      <th rowspan=\"5\" valign=\"top\">24</th>\n",
       "      <th rowspan=\"3\" valign=\"top\">N19681</th>\n",
       "      <th>DRG</th>\n",
       "      <td>838</td>\n",
       "      <td>838</td>\n",
       "      <td>0</td>\n",
       "      <td>0.0</td>\n",
       "    </tr>\n",
       "    <tr>\n",
       "      <th>JZS</th>\n",
       "      <td>62</td>\n",
       "      <td>59</td>\n",
       "      <td>3</td>\n",
       "      <td>0.048387</td>\n",
       "    </tr>\n",
       "    <tr>\n",
       "      <th>JZS2</th>\n",
       "      <td>1</td>\n",
       "      <td>1</td>\n",
       "      <td>0</td>\n",
       "      <td>0.0</td>\n",
       "    </tr>\n",
       "    <tr>\n",
       "      <th rowspan=\"2\" valign=\"top\">N21149</th>\n",
       "      <th>DRG</th>\n",
       "      <td>1399</td>\n",
       "      <td>1381</td>\n",
       "      <td>18</td>\n",
       "      <td>0.012866</td>\n",
       "    </tr>\n",
       "    <tr>\n",
       "      <th>JZS2</th>\n",
       "      <td>140</td>\n",
       "      <td>140</td>\n",
       "      <td>0</td>\n",
       "      <td>0.0</td>\n",
       "    </tr>\n",
       "    <tr>\n",
       "      <th>...</th>\n",
       "      <th>...</th>\n",
       "      <th>...</th>\n",
       "      <td>...</td>\n",
       "      <td>...</td>\n",
       "      <td>...</td>\n",
       "      <td>...</td>\n",
       "    </tr>\n",
       "    <tr>\n",
       "      <th rowspan=\"5\" valign=\"top\">27</th>\n",
       "      <th rowspan=\"3\" valign=\"top\">P97554</th>\n",
       "      <th>DRG</th>\n",
       "      <td>388</td>\n",
       "      <td>376</td>\n",
       "      <td>12</td>\n",
       "      <td>0.030928</td>\n",
       "    </tr>\n",
       "    <tr>\n",
       "      <th>JZS</th>\n",
       "      <td>4</td>\n",
       "      <td>4</td>\n",
       "      <td>0</td>\n",
       "      <td>0.0</td>\n",
       "    </tr>\n",
       "    <tr>\n",
       "      <th>UH</th>\n",
       "      <td>32</td>\n",
       "      <td>32</td>\n",
       "      <td>0</td>\n",
       "      <td>0.0</td>\n",
       "    </tr>\n",
       "    <tr>\n",
       "      <th>P99327</th>\n",
       "      <th>JZS</th>\n",
       "      <td>56</td>\n",
       "      <td>56</td>\n",
       "      <td>0</td>\n",
       "      <td>0.0</td>\n",
       "    </tr>\n",
       "    <tr>\n",
       "      <th>P99795</th>\n",
       "      <th>UH</th>\n",
       "      <td>7</td>\n",
       "      <td>7</td>\n",
       "      <td>0</td>\n",
       "      <td>0.0</td>\n",
       "    </tr>\n",
       "  </tbody>\n",
       "</table>\n",
       "<p>722 rows × 4 columns</p>\n",
       "</div>"
      ],
      "text/plain": [
       "                                  pocet_vykazany  pocet_spocitany  \\\n",
       "kod_zp pzs_6  typ_starostlivosti                                    \n",
       "24     N19681 DRG                            838              838   \n",
       "              JZS                             62               59   \n",
       "              JZS2                             1                1   \n",
       "       N21149 DRG                           1399             1381   \n",
       "              JZS2                           140              140   \n",
       "...                                          ...              ...   \n",
       "27     P97554 DRG                            388              376   \n",
       "              JZS                              4                4   \n",
       "              UH                              32               32   \n",
       "       P99327 JZS                             56               56   \n",
       "       P99795 UH                               7                7   \n",
       "\n",
       "                                  rozdiel_absolutny  rozdiel_relativny  \n",
       "kod_zp pzs_6  typ_starostlivosti                                        \n",
       "24     N19681 DRG                                 0                0.0  \n",
       "              JZS                                 3           0.048387  \n",
       "              JZS2                                0                0.0  \n",
       "       N21149 DRG                                18           0.012866  \n",
       "              JZS2                                0                0.0  \n",
       "...                                             ...                ...  \n",
       "27     P97554 DRG                                12           0.030928  \n",
       "              JZS                                 0                0.0  \n",
       "              UH                                  0                0.0  \n",
       "       P99327 JZS                                 0                0.0  \n",
       "       P99795 UH                                  0                0.0  \n",
       "\n",
       "[722 rows x 4 columns]"
      ]
     },
     "execution_count": null,
     "metadata": {},
     "output_type": "execute_result"
    }
   ],
   "source": [
    "sumar"
   ]
  },
  {
   "cell_type": "code",
   "execution_count": null,
   "id": "130",
   "metadata": {},
   "outputs": [],
   "source": [
    "sumar.to_csv(_paths['validacia'] / 'sumar_porovnanie.csv', sep=';', index=True)\n",
    "\n",
    "id_validacie = 'sumar_vysoke_rozdiely'\n",
    "invalid = sumar[sumar['rozdiel_relativny'] > 0.05].reset_index().copy()\n",
    "invalid['id_hp'] = pd.NA\n",
    "invalid['id_hp_pzs'] = pd.NA\n",
    "invalid['id_poistenca'] = pd.NA\n",
    "register_validation(invalid, id_validacie)"
   ]
  },
  {
   "cell_type": "code",
   "execution_count": null,
   "id": "131",
   "metadata": {},
   "outputs": [
    {
     "data": {
      "application/vnd.microsoft.datawrangler.viewer.v0+json": {
       "columns": [
        {
         "name": "index",
         "rawType": "int64",
         "type": "integer"
        },
        {
         "name": "typ_starostlivosti",
         "rawType": "object",
         "type": "string"
        },
        {
         "name": "kod_zp",
         "rawType": "object",
         "type": "string"
        },
        {
         "name": "rozdiel_absolutny",
         "rawType": "Int32",
         "type": "integer"
        }
       ],
       "conversionMethod": "pd.DataFrame",
       "ref": "51d0d927-0d31-4a40-9230-587b3a396dc6",
       "rows": [
        [
         "0",
         "DRG",
         "24",
         "4146"
        ],
        [
         "1",
         "DRG",
         "27",
         "1564"
        ],
        [
         "2",
         "JZS",
         "24",
         "315"
        ],
        [
         "3",
         "JZS",
         "27",
         "282"
        ],
        [
         "4",
         "JZS2",
         "24",
         "-6"
        ],
        [
         "5",
         "UH",
         "24",
         "-12021"
        ],
        [
         "6",
         "UH",
         "27",
         "0"
        ]
       ],
       "shape": {
        "columns": 3,
        "rows": 7
       }
      },
      "text/html": [
       "<div>\n",
       "<style scoped>\n",
       "    .dataframe tbody tr th:only-of-type {\n",
       "        vertical-align: middle;\n",
       "    }\n",
       "\n",
       "    .dataframe tbody tr th {\n",
       "        vertical-align: top;\n",
       "    }\n",
       "\n",
       "    .dataframe thead th {\n",
       "        text-align: right;\n",
       "    }\n",
       "</style>\n",
       "<table border=\"1\" class=\"dataframe\">\n",
       "  <thead>\n",
       "    <tr style=\"text-align: right;\">\n",
       "      <th></th>\n",
       "      <th>typ_starostlivosti</th>\n",
       "      <th>kod_zp</th>\n",
       "      <th>rozdiel_absolutny</th>\n",
       "    </tr>\n",
       "  </thead>\n",
       "  <tbody>\n",
       "    <tr>\n",
       "      <th>0</th>\n",
       "      <td>DRG</td>\n",
       "      <td>24</td>\n",
       "      <td>4146</td>\n",
       "    </tr>\n",
       "    <tr>\n",
       "      <th>1</th>\n",
       "      <td>DRG</td>\n",
       "      <td>27</td>\n",
       "      <td>1564</td>\n",
       "    </tr>\n",
       "    <tr>\n",
       "      <th>2</th>\n",
       "      <td>JZS</td>\n",
       "      <td>24</td>\n",
       "      <td>315</td>\n",
       "    </tr>\n",
       "    <tr>\n",
       "      <th>3</th>\n",
       "      <td>JZS</td>\n",
       "      <td>27</td>\n",
       "      <td>282</td>\n",
       "    </tr>\n",
       "    <tr>\n",
       "      <th>4</th>\n",
       "      <td>JZS2</td>\n",
       "      <td>24</td>\n",
       "      <td>-6</td>\n",
       "    </tr>\n",
       "    <tr>\n",
       "      <th>5</th>\n",
       "      <td>UH</td>\n",
       "      <td>24</td>\n",
       "      <td>-12021</td>\n",
       "    </tr>\n",
       "    <tr>\n",
       "      <th>6</th>\n",
       "      <td>UH</td>\n",
       "      <td>27</td>\n",
       "      <td>0</td>\n",
       "    </tr>\n",
       "  </tbody>\n",
       "</table>\n",
       "</div>"
      ],
      "text/plain": [
       "  typ_starostlivosti kod_zp  rozdiel_absolutny\n",
       "0                DRG     24               4146\n",
       "1                DRG     27               1564\n",
       "2                JZS     24                315\n",
       "3                JZS     27                282\n",
       "4               JZS2     24                 -6\n",
       "5                 UH     24             -12021\n",
       "6                 UH     27                  0"
      ]
     },
     "execution_count": null,
     "metadata": {},
     "output_type": "execute_result"
    }
   ],
   "source": [
    "sumar.groupby(['typ_starostlivosti', 'kod_zp'])['rozdiel_absolutny'].sum().reset_index()"
   ]
  },
  {
   "cell_type": "code",
   "execution_count": null,
   "id": "132",
   "metadata": {},
   "outputs": [
    {
     "data": {
      "text/plain": [
       "typ_starostlivosti  kod_zp\n",
       "DRG                 24       -1957.0\n",
       "                    27           0.0\n",
       "JZS                 24          <NA>\n",
       "                    27          <NA>\n",
       "JZS2                24          -8.0\n",
       "UH                  24          <NA>\n",
       "                    27          <NA>\n",
       "dtype: Float64"
      ]
     },
     "execution_count": null,
     "metadata": {},
     "output_type": "execute_result"
    }
   ],
   "source": [
    "# Ako by sa zmenili pocty, pokial by sa pripocitali aj vylucene HP \n",
    "\n",
    "sumar.groupby(['typ_starostlivosti', 'kod_zp'])['rozdiel_absolutny'].sum() - drg[drg['id_hp'].isin(_id_na_vylucenie)].groupby(['typ_starostlivosti', 'kod_zp'])['id_hp'].count().fillna(0)"
   ]
  },
  {
   "cell_type": "markdown",
   "id": "125",
   "metadata": {},
   "source": [
    "# Rozdeľ validačné výstupy podľa poisťovní"
   ]
  },
  {
   "cell_type": "code",
   "execution_count": null,
   "id": "126",
   "metadata": {},
   "outputs": [],
   "source": [
    "for _kod in _spracovat:\n",
    "    with pd.ExcelWriter(_paths['validacia'] / f'validacia_{_rok}_{_kod}.xlsx', engine='openpyxl') as writer:\n",
    "        VALIDATIONS[_kod].to_excel(writer, sheet_name='validacny_protokol', index=False)\n",
    "        VALIDATIONS[_kod][['nazov_validacie', 'zavaznost']].value_counts().to_frame('count').to_excel(writer, sheet_name=f'statistiky_validacie', index=True)\n",
    "        if _kod in sumar.index:\n",
    "            sumar.loc[_kod].to_excel(writer, sheet_name=f'sumar_porovnanie', index=True)"
   ]
  }
 ],
 "metadata": {
  "kernelspec": {
   "display_name": "osn",
   "language": "python",
   "name": "python3"
  },
  "language_info": {
   "codemirror_mode": {
    "name": "ipython",
    "version": 3
   },
   "file_extension": ".py",
   "mimetype": "text/x-python",
   "name": "python",
   "nbconvert_exporter": "python",
   "pygments_lexer": "ipython3"
  }
 },
 "nbformat": 4,
 "nbformat_minor": 5
}
