{
 "cells": [
  {
   "cell_type": "markdown",
   "id": "0",
   "metadata": {},
   "source": [
    "# Úvodné nastavenie"
   ]
  },
  {
   "cell_type": "markdown",
   "id": "1",
   "metadata": {},
   "source": [
    "## Načítanie knižníc"
   ]
  },
  {
   "cell_type": "code",
   "execution_count": 1,
   "id": "2",
   "metadata": {},
   "outputs": [],
   "source": [
    "%load_ext autoreload"
   ]
  },
  {
   "cell_type": "code",
   "execution_count": 2,
   "id": "3",
   "metadata": {},
   "outputs": [],
   "source": [
    "from pathlib import Path\n",
    "import pandas as pd \n",
    "import numpy as np\n",
    "from datetime import datetime\n",
    "import random\n",
    "import os\n",
    "\n",
    "\n"
   ]
  },
  {
   "cell_type": "code",
   "execution_count": 3,
   "id": "4",
   "metadata": {},
   "outputs": [],
   "source": [
    "# Aby fungovalo nacitanie spolocnych funkcii, je nutne ich nainstalovat cez `pip install .` na urovni, kde sa nachadza pyproject.toml\n",
    "\n",
    "from data_loading import load_data_zp, load_zoznam_obci, load_psc_2_zuj, load_pzs_12\n",
    "from OSN_common.helpers import norm_path, standardize_text\n",
    "from OSN_common.constants import COLUMNS_274, COLUMNS_VS\n",
    "\n",
    "%autoreload 2\n",
    "\n",
    "# from OSN_common.nacitanie_dat import nacitaj_prevodovy_subor, nacitaj_zoznam_obci"
   ]
  },
  {
   "cell_type": "markdown",
   "id": "5",
   "metadata": {},
   "source": [
    "## Konfigurácia výstupných súborov"
   ]
  },
  {
   "cell_type": "code",
   "execution_count": 4,
   "id": "6",
   "metadata": {},
   "outputs": [
    {
     "name": "stdout",
     "output_type": "stream",
     "text": [
      "Ukladam data do priecinku Vystupy/20250325_160256\n"
     ]
    }
   ],
   "source": [
    "_paths = {\n",
    "    \"vystupy\": Path('.') / \"Vystupy\"\n",
    "}\n",
    "\n",
    "_datum = datetime.now().strftime(\"%Y%m%d_%H%M%S\")\n",
    "\n",
    "_paths['vystupy'] = _paths['vystupy'] / _datum\n",
    "_paths['vystupy'].mkdir()\n",
    "\n",
    "_paths['validacia'] = _paths['vystupy'] / 'validacia'\n",
    "_paths['validacia'].mkdir()\n",
    "\n",
    "print(f'Ukladam data do priecinku {_paths[\"vystupy\"]}')"
   ]
  },
  {
   "cell_type": "markdown",
   "id": "7",
   "metadata": {},
   "source": [
    "# Načítanie dát"
   ]
  },
  {
   "cell_type": "code",
   "execution_count": 5,
   "id": "8",
   "metadata": {},
   "outputs": [
    {
     "name": "stdout",
     "output_type": "stream",
     "text": [
      "Nacitavam data pre poistovnu dovera\n",
      "Nacitavam data zo suboru 2023_24_01_UZS_JZS_oprava.csv\n",
      "Nacitavam data zo suboru 2023_24_02_HP_oprava.csv\n",
      "Nacitavam data zo suboru 2023_24_03_PREKLAD_oprava.csv\n",
      "Nacitavam data zo suboru 2023_24_04_VDG.csv\n",
      "Nacitavam data zo suboru 2023_24_05_VYKON.csv\n",
      "Nacitavam data zo suboru 2023_24_06_PPDRG.csv\n",
      "Nacitavam data zo suboru 2023_24_09_POISTENCI_oprava.csv\n",
      "Nacitavam data zo suboru 2023_24_13_SUMAR.csv\n",
      "Nacitavam data pre poistovnu union\n",
      "Nacitavam data zo suboru 2023_27_01_UZS_JZS_oprava.csv\n",
      "Nacitavam data zo suboru 2023_27_02_HP_oprava.csv\n",
      "Nacitavam data zo suboru 2023_27_03_PREKLAD_oprava.csv\n",
      "Nacitavam data zo suboru 2023_27_04_VDG_oprava.csv\n",
      "Nacitavam data zo suboru 2023_27_05_VYKON_oprava.csv\n",
      "Nacitavam data zo suboru 2023_27_06_PPDRG_oprava.csv\n",
      "Nacitavam data zo suboru 2023_27_09_POISTENCI_oprava.csv\n",
      "Nacitavam data zo suboru 2023_27_13_SUMAR_oprava.csv\n"
     ]
    }
   ],
   "source": [
    "_rok = \"2023\"\n",
    "_spracovat = [\"24\", \"27\"]\n",
    "\n",
    "data_folder = norm_path(Path(os.environ.get('OSN_data')) / \"11_Dátové súbory a prevodníky\" / \"06_Dáta od zdravotných poisťovní\")\n",
    "\n",
    "_data = load_data_zp(data_folder, _rok, _spracovat)\n"
   ]
  },
  {
   "cell_type": "markdown",
   "id": "9",
   "metadata": {},
   "source": [
    "# Predspracovanie dát"
   ]
  },
  {
   "cell_type": "markdown",
   "id": "10",
   "metadata": {},
   "source": [
    "## Priprav dat UZS_JZS (`uzs`)"
   ]
  },
  {
   "cell_type": "markdown",
   "id": "11",
   "metadata": {},
   "source": [
    "### Predspracuj data zo suboru 01_UZS_JZS"
   ]
  },
  {
   "cell_type": "code",
   "execution_count": 6,
   "id": "12",
   "metadata": {},
   "outputs": [
    {
     "data": {
      "text/plain": [
       "488847"
      ]
     },
     "execution_count": 6,
     "metadata": {},
     "output_type": "execute_result"
    }
   ],
   "source": [
    "# Najdi relevantne tabuľky\n",
    "_uzs = pd.concat([_data[k]['uzs_jzs'] for k in _spracovat], ignore_index=True)\n",
    "\n",
    "len(_uzs)"
   ]
  },
  {
   "cell_type": "code",
   "execution_count": 7,
   "id": "13",
   "metadata": {},
   "outputs": [
    {
     "data": {
      "text/plain": [
       "488847"
      ]
     },
     "execution_count": 7,
     "metadata": {},
     "output_type": "execute_result"
    }
   ],
   "source": [
    "# Vyluc riadky, kde typ hospitalizacie je \"pripocitatelna polozka\"\n",
    "_uzs = _uzs[_uzs['typ_hospitalizacie'] != 'Z']\n",
    "\n",
    "len(_uzs)"
   ]
  },
  {
   "cell_type": "code",
   "execution_count": 8,
   "id": "14",
   "metadata": {},
   "outputs": [],
   "source": [
    "_reportovane_stlpce = ['kod_zp','id_hp']\n",
    "_argumenty_reportu = {'sep': ';', 'index': False}"
   ]
  },
  {
   "cell_type": "code",
   "execution_count": 9,
   "id": "15",
   "metadata": {},
   "outputs": [],
   "source": [
    "# Exportuj riadky, kde chyba ID hospitalizacie a typ je DRG alebo UH.\n",
    "\n",
    "_uzs[_uzs['id_hp'].isna() & _uzs['typ_starostlivosti'].isin(['DRG', 'UH'])][_reportovane_stlpce + ['id_poistenca', 'typ_starostlivosti', 'pzs_12', 'obdobie']].to_csv(_paths['validacia'] / 'id_hp_chybajuce_01.csv', **_argumenty_reportu)\n"
   ]
  },
  {
   "cell_type": "code",
   "execution_count": 10,
   "id": "16",
   "metadata": {},
   "outputs": [],
   "source": [
    "# Prirad cislo riadku ako ID_HP pre chybajuce ID\n",
    "# Takato hospitalizacia sa neda naparovat na ostatne subory (nie je problem v pripade JZS), a pri ostatnych je to lepsie ako ich vyhodit\n",
    "if _uzs.id_hp.isna().any():\n",
    "    _uzs.loc[_uzs.id_hp.isna(), 'id_hp'] = 'x' + _uzs[_uzs.id_hp.isna()].index.map(str)"
   ]
  },
  {
   "cell_type": "code",
   "execution_count": 11,
   "id": "17",
   "metadata": {},
   "outputs": [],
   "source": [
    "# Ocisti kody vykonov a diagnoz na standardizovany tvar - len male pismena a cisla.\n",
    "\n",
    "_stlpce_s_kodmi = ['kod_operacneho_vykonu', 'kod_jednodnoveho_vykonu', 'dgn_prijem', 'dgn_prepustenie']\n",
    "\n",
    "_uzs[_stlpce_s_kodmi] = _uzs[_stlpce_s_kodmi].apply(lambda col: col.apply(lambda t: standardize_text(t) if pd.notna(t) else t))"
   ]
  },
  {
   "cell_type": "code",
   "execution_count": 12,
   "id": "18",
   "metadata": {},
   "outputs": [],
   "source": [
    "# Chceme pocitat pocet spravenych vykonov, tak vytvor kombinaciu vykon-obdobie,\n",
    "# aby sa vykon spravne zapocital viackrat, ak bol pocas jednej hospitalizacie\n",
    "# robeny viackrat.\n",
    "# Vytvor zoznam vykonov v tvare, ako ho pouzivame pre algoritmus. \n",
    "# Kedze uzs data neobsahuju datum vykonu, iba obdobie, v ktorom bola dodana starostlivost, pouzi namiesto dna xx\n",
    "# Kedze uzs data neobsahuju lokalizaciu vykonu, pouzi kod Z \"neznama lokalizacia\"\n",
    "\n",
    "_uzs['operacny_vykon'] = _uzs['kod_operacneho_vykonu'] + '&Z&' + _uzs['obdobie'].str.replace('-', '') + 'xx'\n",
    "_uzs['jednodnovy_vykon'] = _uzs['kod_jednodnoveho_vykonu'] + '&Z&' + _uzs['obdobie'].str.replace('-', '') + 'xx'\n",
    "\n",
    "_uzs = _uzs.drop(columns=['kod_operacneho_vykonu', 'kod_jednodnoveho_vykonu'])\n"
   ]
  },
  {
   "cell_type": "markdown",
   "id": "19",
   "metadata": {},
   "source": [
    "### Zjednoť dáta v `uzs`"
   ]
  },
  {
   "cell_type": "code",
   "execution_count": 13,
   "id": "20",
   "metadata": {},
   "outputs": [],
   "source": [
    "# Zjednot celu tabulku tak, aby id_hp bolo unikatnym identifikatorom (kazdy riadok samostatne id_hp).\n",
    "\n",
    "# Pomocná funkcia na jednoriadkový zápis odstránenia prvku z množiny\n",
    "def _discard(s, e):\n",
    "    s.discard(e)\n",
    "    return s\n",
    "\n",
    "# pomocná funkcia na jednoriadkový zápis odstránenia nan hodnôt\n",
    "def _dropna(a):\n",
    "    return a[pd.notnull(a)]\n",
    "\n",
    "# pomocna funkcia na vlozenie prvku na zaciatok\n",
    "def _insert_first(l, a):\n",
    "    l.insert(0, a)\n",
    "    return l\n",
    "\n",
    "# Tabuľka `uzs` zoskupená podľa id_hp, na ktorom sa budú agregovať jednotlivé stĺpce\n",
    "_grouped_uzs = _uzs.sort_values(by=['obdobie', 'datum_od', 'datum_do'], ascending=True, na_position='first').groupby(by=['kod_zp', 'id_hp'])\n",
    "\n",
    "# Tabuľka, do ktorej sa budú ukladať výstupné zjednotenia\n",
    "zjednotene_uzs = pd.DataFrame()"
   ]
  },
  {
   "cell_type": "code",
   "execution_count": 14,
   "id": "21",
   "metadata": {},
   "outputs": [],
   "source": [
    "# 'datum_od' vezmi najmensi\n",
    "# 'datum_do' vezmi najvacsi\n",
    "# 'obdobie_od' vezmi najmensie obdobie\n",
    "# 'obdobie_do' vezmi najvacsie obdobie\n",
    "# (Mozeme si dovolit pouzit first a last kedze je to zoradene, min a max su o dost pomalsie)\n",
    "\n",
    "zjednotene_uzs['datum_od'] = _grouped_uzs['datum_od'].first()\n",
    "zjednotene_uzs['datum_do'] = _grouped_uzs['datum_do'].last()\n",
    "zjednotene_uzs['obdobie_od'] = _grouped_uzs['obdobie'].first()\n",
    "zjednotene_uzs['obdobie_do'] = _grouped_uzs['obdobie'].last()"
   ]
  },
  {
   "cell_type": "code",
   "execution_count": 15,
   "id": "22",
   "metadata": {},
   "outputs": [],
   "source": [
    "# vykony: vytvor zoznam vykonanych vykonov a k tomu prisluchajuce typy vykonov\n",
    "\n",
    "zjednotene_uzs['vykony'] = _grouped_uzs[['operacny_vykon', 'jednodnovy_vykon']].apply(lambda z: '~'.join(_dropna(z.values.flatten()))).replace('', pd.NA)\n",
    "zjednotene_uzs['typ_vykonu'] = _grouped_uzs[['typ_vykonu']].apply(lambda z: '~'.join(_dropna(z.values.flatten()))).replace('', pd.NA)\n"
   ]
  },
  {
   "cell_type": "code",
   "execution_count": 16,
   "id": "23",
   "metadata": {},
   "outputs": [],
   "source": [
    "# diagnozy: \n",
    "#   posledna znama diagnoza pri prepusteni je hlavna diagnoza\n",
    "#       ak nebola ziadna dianoza pri prepusteni, vezmi poslednu znamu diagnozu pri prijati \n",
    "#   vytvor mnozinu vsetkych diagnoz, bude obsahovat aj hlavnu diagnozu na zaciatku\n",
    "\n",
    "zjednotene_uzs['posledna_dgn_prepustenie'] = _grouped_uzs['dgn_prepustenie'].last()\n",
    "zjednotene_uzs['posledna_dgn_prijem'] = _grouped_uzs['dgn_prijem'].last()\n",
    "zjednotene_uzs['hlavna_diagnoza'] = zjednotene_uzs['posledna_dgn_prepustenie'].fillna(zjednotene_uzs['posledna_dgn_prijem'])\n",
    "\n",
    "zjednotene_uzs['diagnozy'] = _grouped_uzs[['dgn_prijem', 'dgn_prepustenie']].apply(lambda z: set(_dropna(z.values.flatten())))\n",
    "zjednotene_uzs['diagnozy'] = zjednotene_uzs[['hlavna_diagnoza', 'diagnozy']].apply(lambda r: '~'.join(_insert_first(list(_discard(r['diagnozy'], r['hlavna_diagnoza'])), r['hlavna_diagnoza'])), axis=1)"
   ]
  },
  {
   "cell_type": "code",
   "execution_count": 17,
   "id": "24",
   "metadata": {},
   "outputs": [],
   "source": [
    "# 'typ_hospitalizacie', 'typ_starostlivosti', 'novorodenec', 'pzs_12' a 'pzs_12_odosielatel' vezmi prve\n",
    "# 'pohyb_poistenca', 'id_poistenca' vezmi posledne (stavalo sa pri porodoch, ze jedno id_hp, malo dvoch poistencov, kedze najprv to bolo pisane na matku az neskor na dieta)\n",
    "\n",
    "zjednotene_uzs['typ_hospitalizacie'] = _grouped_uzs['typ_hospitalizacie'].first()\n",
    "zjednotene_uzs['typ_starostlivosti'] = _grouped_uzs['typ_starostlivosti'].first()\n",
    "zjednotene_uzs['novorodenec'] = _grouped_uzs['novorodenec'].first()\n",
    "zjednotene_uzs['pzs_12'] = _grouped_uzs['pzs_12'].first()\n",
    "zjednotene_uzs['pzs_12_odosielatel'] = _grouped_uzs['pzs_12_odosielatel'].first()\n",
    "\n",
    "zjednotene_uzs['posledny_pohyb_poistenca'] = _grouped_uzs['pohyb_poistenca'].last()\n",
    "zjednotene_uzs['id_poistenca'] = _grouped_uzs['id_poistenca'].last()\n"
   ]
  },
  {
   "cell_type": "code",
   "execution_count": 18,
   "id": "25",
   "metadata": {},
   "outputs": [
    {
     "name": "stdout",
     "output_type": "stream",
     "text": [
      "453684\n",
      "kod_zp                           2\n",
      "id_hp                       453684\n",
      "datum_od                       462\n",
      "datum_do                       365\n",
      "obdobie_od                      18\n",
      "obdobie_do                      13\n",
      "vykony                       17128\n",
      "typ_vykonu                     226\n",
      "posledna_dgn_prepustenie      6917\n",
      "posledna_dgn_prijem           6811\n",
      "hlavna_diagnoza               7065\n",
      "diagnozy                     47751\n",
      "typ_hospitalizacie               7\n",
      "typ_starostlivosti               4\n",
      "novorodenec                      4\n",
      "pzs_12                        1955\n",
      "pzs_12_odosielatel           10401\n",
      "posledny_pohyb_poistenca       410\n",
      "id_poistenca                284094\n",
      "dtype: int64\n"
     ]
    }
   ],
   "source": [
    "# Vypis statistiky\n",
    "\n",
    "# napoveda k nazvom stlpcov v povodnom R kode:\n",
    "# ID_POI_ZP = id_poistenca\n",
    "# ID_HOSP_ZP = id_hp\n",
    "# DAT_PRIJ = datum_od\n",
    "# DAT_PREP = datum_do\n",
    "# KOD_VYK_OPER = kod_operacneho_vykonu\n",
    "# TYP_ZS = typ_hospitalizacie\n",
    "# ins_name = kod_zp\n",
    "# nemP01 = pzs_8\n",
    "# id_hosp_nem = id_hp_pzs_8\n",
    "# diag_uzs = dgn_prijem\n",
    "# vykon_uzs = kod_vykonu_obdobie\n",
    "\n",
    "print(len(zjednotene_uzs))\n",
    "print(zjednotene_uzs.reset_index().nunique())"
   ]
  },
  {
   "cell_type": "markdown",
   "id": "26",
   "metadata": {},
   "source": [
    "## Priprava dat DRG"
   ]
  },
  {
   "cell_type": "markdown",
   "id": "27",
   "metadata": {},
   "source": [
    "### Priprav data zo suboru 02_HP_UDAJE"
   ]
  },
  {
   "cell_type": "code",
   "execution_count": 19,
   "id": "28",
   "metadata": {},
   "outputs": [
    {
     "data": {
      "text/plain": [
       "346035"
      ]
     },
     "execution_count": 19,
     "metadata": {},
     "output_type": "execute_result"
    }
   ],
   "source": [
    "# Najdi relevantne tabulky\n",
    "_drg_full = pd.concat([_data[i]['hp'] for i in _spracovat], ignore_index=True)\n",
    "\n",
    "len(_drg_full)"
   ]
  },
  {
   "cell_type": "code",
   "execution_count": 20,
   "id": "29",
   "metadata": {},
   "outputs": [
    {
     "name": "stdout",
     "output_type": "stream",
     "text": [
      "346035\n",
      "kod_zp                               2\n",
      "id_hp_pzs                        70250\n",
      "id_hp                           346035\n",
      "id_poistenca                    224049\n",
      "pzs_6                               90\n",
      "datum_od                         68135\n",
      "datum_do                         43349\n",
      "osetrovacia_doba                   146\n",
      "dni_priepustka                      19\n",
      "vek_dni                            367\n",
      "vek_roky                           103\n",
      "hmotnost                          1803\n",
      "upv                                704\n",
      "datum_narodenia                  33335\n",
      "druh_prijatia                        7\n",
      "dovod_prijatia                       5\n",
      "dovod_prepustenia                   10\n",
      "hlavna_diagnoza                   6452\n",
      "lokalizacia_hlavnej_diagnozy         4\n",
      "drg                               1120\n",
      "erv                               9351\n",
      "zlucene_hp                        3623\n",
      "typ_starostlivosti                   2\n",
      "dtype: int64\n"
     ]
    }
   ],
   "source": [
    "# Vyhod nepotrebne stlpce (v tomto pripade ziadne) a duplikaty\n",
    "\n",
    "# napoveda k nazvom stlpcov v povodnom R subore\n",
    "# ID_HP_DZP = id_hp\n",
    "# vek_zapis = vek_roky\n",
    "# HMOTNOST = hmotnost\n",
    "# UPV = upv\n",
    "# KOD_DIAG_HL = hlavna_diagnoza\n",
    "# KOD_DRG = drg\n",
    "# DAT_OD = datum_od\n",
    "# DAT_DO = datum_do\n",
    "# KOD_PZS = pzs_6\n",
    "# TYP_ZS = typ_starostlivosti\n",
    "# ins_name = kod_zp\n",
    "# ID_HP_PZS = id_hp_pzs\n",
    "\n",
    "drg = _drg_full.drop_duplicates()\n",
    "\n",
    "print(len(drg))\n",
    "print(drg.nunique())\n"
   ]
  },
  {
   "cell_type": "markdown",
   "id": "30",
   "metadata": {},
   "source": [
    "### Priprav data zo suboru 03_HP_PREKLADY"
   ]
  },
  {
   "cell_type": "code",
   "execution_count": 21,
   "id": "31",
   "metadata": {},
   "outputs": [
    {
     "name": "stdout",
     "output_type": "stream",
     "text": [
      "444182\n",
      "kod_zp           2\n",
      "id_hp       345701\n",
      "pzs_12        1232\n",
      "datum_od       474\n",
      "datum_do       457\n",
      "dtype: int64\n"
     ]
    }
   ],
   "source": [
    "# vyber relevantne tabulky\n",
    "preklady = pd.concat([_data[i]['preklady'] for i in _spracovat], ignore_index=True)\n",
    "\n",
    "print(len(preklady))\n",
    "print(preklady.nunique())"
   ]
  },
  {
   "cell_type": "code",
   "execution_count": 22,
   "id": "32",
   "metadata": {},
   "outputs": [
    {
     "name": "stdout",
     "output_type": "stream",
     "text": [
      "346035\n",
      "kod_zp                               2\n",
      "id_hp_pzs                        70250\n",
      "id_hp                           346035\n",
      "id_poistenca                    224049\n",
      "pzs_6                               90\n",
      "datum_od                         68135\n",
      "datum_do                         43349\n",
      "osetrovacia_doba                   146\n",
      "dni_priepustka                      19\n",
      "vek_dni                            367\n",
      "vek_roky                           103\n",
      "hmotnost                          1803\n",
      "upv                                704\n",
      "datum_narodenia                  33335\n",
      "druh_prijatia                        7\n",
      "dovod_prijatia                       5\n",
      "dovod_prepustenia                   10\n",
      "hlavna_diagnoza                   6452\n",
      "lokalizacia_hlavnej_diagnozy         4\n",
      "drg                               1120\n",
      "erv                               9351\n",
      "zlucene_hp                        3623\n",
      "typ_starostlivosti                   2\n",
      "pzs_12                            1216\n",
      "dtype: int64\n"
     ]
    }
   ],
   "source": [
    "# Priprav na pripojenie k suboru 02_HP_UDAJE\n",
    "# vytvor pzs_6 ako prvych 6 cislic z pzs_12\n",
    "# Prirad prve pzs_12 na ktore bolo hp prijate a koresponduje s uvedenym pzs_6 \n",
    "\n",
    "preklady['pzs_6'] = preklady['pzs_12'].str[:6]\n",
    "\n",
    "_grouped_preklady = preklady.sort_values(by=['datum_od', 'datum_do'], ascending=True).groupby(by=['kod_zp', 'id_hp', 'pzs_6'])\n",
    "drg = drg.merge(_grouped_preklady['pzs_12'].first(), on=['kod_zp', 'id_hp', 'pzs_6'], how='left')\n",
    "\n",
    "print(len(drg))\n",
    "print(drg.nunique())"
   ]
  },
  {
   "cell_type": "code",
   "execution_count": 23,
   "id": "33",
   "metadata": {},
   "outputs": [],
   "source": [
    "# Exportuj preklady, ktore pre rovnaky id_hp maju zaznamenany preklad medzi roznymi poskytovatelmi\n",
    "\n",
    "_pocty_pzs6 = preklady.groupby(['kod_zp', 'id_hp'])['pzs_6'].nunique()\n",
    "\n",
    "preklady.set_index(['kod_zp', 'id_hp']).loc[_pocty_pzs6[_pocty_pzs6 > 1].index].sort_values('datum_do').to_csv(_paths['validacia'] / 'preklady_rozni_poskytovatelia.csv', **{**_argumenty_reportu, 'index': True})"
   ]
  },
  {
   "cell_type": "code",
   "execution_count": 24,
   "id": "34",
   "metadata": {},
   "outputs": [],
   "source": [
    "# Exportuj zoznam hospitalizacii, ktore nie su zaznamenane v subore 03_PREKLADY\n",
    "\n",
    "drg[drg['pzs_12'].isna()][_reportovane_stlpce + ['pzs_6']].to_csv(_paths['validacia'] / 'preklad_chybajuci.csv', **_argumenty_reportu)"
   ]
  },
  {
   "cell_type": "markdown",
   "id": "35",
   "metadata": {},
   "source": [
    "### Priprav data zo suboru 04_HP_VDG"
   ]
  },
  {
   "cell_type": "code",
   "execution_count": 25,
   "id": "36",
   "metadata": {},
   "outputs": [
    {
     "data": {
      "text/plain": [
       "719478"
      ]
     },
     "execution_count": 25,
     "metadata": {},
     "output_type": "execute_result"
    }
   ],
   "source": [
    "# Najdi relevantne tabulky\n",
    "\n",
    "vdg = pd.concat([_data[i]['vdg'] for i in _spracovat], ignore_index=True)\n",
    "\n",
    "len(vdg)"
   ]
  },
  {
   "cell_type": "code",
   "execution_count": 26,
   "id": "37",
   "metadata": {},
   "outputs": [
    {
     "name": "stdout",
     "output_type": "stream",
     "text": [
      "719464\n",
      "kod_zp          2\n",
      "id_hp      233251\n",
      "vdg          9168\n",
      "lok_vdg         4\n",
      "dtype: int64\n"
     ]
    }
   ],
   "source": [
    "# Vyhod duplicity\n",
    "\n",
    "vdg = vdg.drop_duplicates()\n",
    "\n",
    "print(len(vdg))\n",
    "print(vdg.nunique())"
   ]
  },
  {
   "cell_type": "code",
   "execution_count": 27,
   "id": "38",
   "metadata": {},
   "outputs": [],
   "source": [
    "# Vytvor mnozinu vedlajsich diagnoz\n",
    "\n",
    "vdg['vdg'] = vdg['vdg'].apply(lambda t: standardize_text(t) if pd.notna(t) else t)\n",
    "_vedlajsie_diagnozy = vdg.groupby(['kod_zp', 'id_hp'])[['vdg', 'lok_vdg']].agg(lambda z: '~'.join([x for x in z if pd.notna(x)])).rename(columns={'vdg': 'vedlajsie_diagnozy', 'lok_vdg': 'lokalizacie_vedlajsich_diagnoz'})"
   ]
  },
  {
   "cell_type": "code",
   "execution_count": 28,
   "id": "39",
   "metadata": {},
   "outputs": [
    {
     "name": "stdout",
     "output_type": "stream",
     "text": [
      "346035\n"
     ]
    }
   ],
   "source": [
    "# Pripoj vedlajsie diagnozy zo suboru 04_HP_VDG k suboru 02_HP\n",
    "\n",
    "drg = drg.merge(_vedlajsie_diagnozy, how='left', on=['kod_zp', 'id_hp'])\n",
    "\n",
    "print(len(drg))"
   ]
  },
  {
   "cell_type": "markdown",
   "id": "40",
   "metadata": {},
   "source": [
    "### Priprav data zo suboru 05_HP_ZV"
   ]
  },
  {
   "cell_type": "code",
   "execution_count": 29,
   "id": "41",
   "metadata": {},
   "outputs": [],
   "source": [
    "# Vyber relevantne tabulky \n",
    "\n",
    "vykony = pd.concat([_data[i]['vykony'] for i in _spracovat], ignore_index=True)"
   ]
  },
  {
   "cell_type": "code",
   "execution_count": 30,
   "id": "42",
   "metadata": {},
   "outputs": [],
   "source": [
    "# Vytvor identifikator vykonu na zaklade jeho kodu, datumu vykonania a\n",
    "# lokalizacie. Tiez na zaklade jeho kodu, roku a mesiaca vykonania na porovnanie\n",
    "# so suborom 01_UZS_JZS.\n",
    "\n",
    "vykony.loc[:, ['kod_vykonu']] = vykony['kod_vykonu'].apply(standardize_text)\n",
    "vykony.loc[:, ['kod_vykonu']] = vykony['kod_vykonu'] + '&' + vykony['lokalizacia_vykonu'].fillna('Z') + '&' + vykony['datum_vykonu'].str.replace('-','').fillna('xxxxxxxx')"
   ]
  },
  {
   "cell_type": "code",
   "execution_count": 31,
   "id": "43",
   "metadata": {},
   "outputs": [
    {
     "name": "stdout",
     "output_type": "stream",
     "text": [
      "346035\n"
     ]
    }
   ],
   "source": [
    "# Vytvor zoznam vykonov a Pripoj vykony zo suboru 05_HP_ZV k suboru 02_HP\n",
    "\n",
    "_zoznamy_vykonov = vykony.groupby(['kod_zp', 'id_hp'])['kod_vykonu'].apply(lambda z: '~'.join(z)).rename('vykony')\n",
    "\n",
    "drg = drg.merge(_zoznamy_vykonov, how='left', on=['kod_zp', 'id_hp'])\n",
    "\n",
    "print(len(drg))"
   ]
  },
  {
   "cell_type": "markdown",
   "id": "44",
   "metadata": {},
   "source": [
    "### Priprav data zo suboru 06_PPDRG"
   ]
  },
  {
   "cell_type": "code",
   "execution_count": 32,
   "id": "45",
   "metadata": {},
   "outputs": [],
   "source": [
    "# Vyber relevantne tabulky \n",
    "\n",
    "ppdrg = pd.concat([_data[i]['ppdrg'] for i in _spracovat], ignore_index=True)"
   ]
  },
  {
   "cell_type": "code",
   "execution_count": 33,
   "id": "46",
   "metadata": {},
   "outputs": [],
   "source": [
    "# Pre kazde id_hp vytvor zoznam pripocitatelnych poloziek a ich cien\n",
    "\n",
    "_pripocitatelne_polozky = ppdrg.groupby(['kod_zp', 'id_hp'])[['kod_drg_pp', 'cena_drg_pp']].agg({'kod_drg_pp': lambda z: '~'.join(z), 'cena_drg_pp': lambda z: '~'.join([str(x) for x in z])})"
   ]
  },
  {
   "cell_type": "code",
   "execution_count": 34,
   "id": "47",
   "metadata": {},
   "outputs": [
    {
     "name": "stdout",
     "output_type": "stream",
     "text": [
      "346035\n",
      "kod_zp                                 2\n",
      "id_hp_pzs                          70250\n",
      "id_hp                             346035\n",
      "id_poistenca                      224049\n",
      "pzs_6                                 90\n",
      "datum_od                           68135\n",
      "datum_do                           43349\n",
      "osetrovacia_doba                     146\n",
      "dni_priepustka                        19\n",
      "vek_dni                              367\n",
      "vek_roky                             103\n",
      "hmotnost                            1803\n",
      "upv                                  704\n",
      "datum_narodenia                    33335\n",
      "druh_prijatia                          7\n",
      "dovod_prijatia                         5\n",
      "dovod_prepustenia                     10\n",
      "hlavna_diagnoza                     6452\n",
      "lokalizacia_hlavnej_diagnozy           4\n",
      "drg                                 1120\n",
      "erv                                 9351\n",
      "zlucene_hp                          3623\n",
      "typ_starostlivosti                     2\n",
      "pzs_12                              1216\n",
      "vedlajsie_diagnozy                124260\n",
      "lokalizacie_vedlajsich_diagnoz      7459\n",
      "vykony                            229256\n",
      "kod_drg_pp                          3787\n",
      "cena_drg_pp                         4798\n",
      "dtype: int64\n"
     ]
    }
   ],
   "source": [
    "drg = drg.merge(_pripocitatelne_polozky, how='left', on=['kod_zp', 'id_hp'])\n",
    "\n",
    "print(len(drg))\n",
    "print(drg.nunique())"
   ]
  },
  {
   "cell_type": "markdown",
   "id": "48",
   "metadata": {},
   "source": [
    "## Doplnenie DRG dat z UZS_JZS"
   ]
  },
  {
   "cell_type": "code",
   "execution_count": 35,
   "id": "49",
   "metadata": {},
   "outputs": [
    {
     "name": "stdout",
     "output_type": "stream",
     "text": [
      "346035\n",
      "kod_zp                                 2\n",
      "id_hp_pzs                          70250\n",
      "id_hp                             346035\n",
      "id_poistenca_02                   224049\n",
      "pzs_6                                 90\n",
      "datum_od_02                        68135\n",
      "datum_do_02                        43349\n",
      "osetrovacia_doba                     146\n",
      "dni_priepustka                        19\n",
      "vek_dni                              367\n",
      "vek_roky                             103\n",
      "hmotnost                            1803\n",
      "upv                                  704\n",
      "datum_narodenia                    33335\n",
      "druh_prijatia                          7\n",
      "dovod_prijatia                         5\n",
      "dovod_prepustenia                     10\n",
      "hlavna_diagnoza_02                  6452\n",
      "lokalizacia_hlavnej_diagnozy           4\n",
      "drg                                 1120\n",
      "erv                                 9351\n",
      "zlucene_hp                          3623\n",
      "typ_starostlivosti_02                  2\n",
      "pzs_12_02                           1216\n",
      "vedlajsie_diagnozy                124260\n",
      "lokalizacie_vedlajsich_diagnoz      7459\n",
      "vykony_02                         229256\n",
      "kod_drg_pp                          3787\n",
      "cena_drg_pp                         4798\n",
      "datum_od_01                          421\n",
      "datum_do_01                          365\n",
      "obdobie_od                            17\n",
      "obdobie_do                            13\n",
      "vykony_01                          12405\n",
      "typ_vykonu                           220\n",
      "posledna_dgn_prepustenie            6766\n",
      "posledna_dgn_prijem                 6456\n",
      "hlavna_diagnoza_01                  6766\n",
      "diagnozy                           45565\n",
      "typ_hospitalizacie                     5\n",
      "typ_starostlivosti_01                  2\n",
      "novorodenec                            4\n",
      "pzs_12_01                           1230\n",
      "pzs_12_odosielatel                  8450\n",
      "posledny_pohyb_poistenca             366\n",
      "id_poistenca_01                   224022\n",
      "dtype: int64\n"
     ]
    }
   ],
   "source": [
    "# Pripoj data z 01_UZS_JZS k existujucim datam z 02_HP_UDAJE\n",
    "\n",
    "final = drg.merge(zjednotene_uzs, how='left', on=['kod_zp', 'id_hp'], suffixes=['_02', '_01'])\n",
    "\n",
    "print(len(final))\n",
    "\n",
    "print(final.nunique())"
   ]
  },
  {
   "cell_type": "markdown",
   "id": "50",
   "metadata": {},
   "source": [
    "###  Zjednot udaje zo suborov 01_UZS_JZS a 02_HP_UDAJE\n",
    "\n",
    "Prioritu dostava subor 02_HP_UDAJE (`02`)"
   ]
  },
  {
   "cell_type": "markdown",
   "id": "51",
   "metadata": {},
   "source": [
    "#### ID poistenca"
   ]
  },
  {
   "cell_type": "code",
   "execution_count": 36,
   "id": "52",
   "metadata": {},
   "outputs": [],
   "source": [
    "if int(_rok) > 2021:\n",
    "\n",
    "    final[final['id_poistenca_02'] != final['id_poistenca_01']][_reportovane_stlpce + ['id_poistenca_01','id_poistenca_02']].to_csv(_paths['validacia'] / 'id_poistenca_nezhodne.csv', **_argumenty_reportu)\n",
    "\n",
    "    final['id_poistenca'] = final['id_poistenca_02'].fillna(final['id_poistenca_01'])\n",
    "\n",
    "    final = final.drop(columns=['id_poistenca_01', 'id_poistenca_02'])"
   ]
  },
  {
   "cell_type": "markdown",
   "id": "53",
   "metadata": {},
   "source": [
    "####   Typ zdravotnej starostlivosti"
   ]
  },
  {
   "cell_type": "code",
   "execution_count": 37,
   "id": "54",
   "metadata": {},
   "outputs": [],
   "source": [
    "#   Dovera vykazuje veci svojsky, tak u nej vznikaju nezhody medzi typom ZS zo\n",
    "#   suboru 01 a zo suboru 02. Pri zjednocovani do jedneho typu nam nezhody medzi\n",
    "#   typom UH a DRG momentalne nevadia, ale ak je typ JZS podla suboru 02, tak to\n",
    "#   prepise typ podla suboru 01.\n",
    "#   Ak indikator chyba, prirad non-DRG typ UH.\n",
    "#   Exportuj chybajuci typ starostlivosti a nezhodny typ starostlivosti\n",
    "\n",
    "\n",
    "final[final['typ_starostlivosti_02'] != final['typ_starostlivosti_01']][_reportovane_stlpce + ['typ_starostlivosti_01', 'typ_starostlivosti_02']].to_csv(_paths['validacia'] / 'typ_starostlivosti_nezhodny.csv', **_argumenty_reportu)\n",
    "\n",
    "final[final['typ_starostlivosti_02'] == 'UH'][_reportovane_stlpce + ['typ_starostlivosti_02']].to_csv(_paths['validacia'] / 'typ_starostlivosti_UH_v_02.csv', **_argumenty_reportu)\n",
    "\n",
    "final['typ_starostlivosti'] = final['typ_starostlivosti_02'].fillna(final['typ_starostlivosti_01']).fillna('UH')\n",
    "\n",
    "final = final.drop(columns=['typ_starostlivosti_01', 'typ_starostlivosti_02'])"
   ]
  },
  {
   "cell_type": "markdown",
   "id": "55",
   "metadata": {},
   "source": [
    "#### Kod poskytovatela pzs_12"
   ]
  },
  {
   "cell_type": "code",
   "execution_count": 38,
   "id": "56",
   "metadata": {},
   "outputs": [],
   "source": [
    "final[final['pzs_12_02'] != final['pzs_12_01']][_reportovane_stlpce + ['pzs_12_01', 'pzs_12_02']].to_csv(_paths['validacia'] / 'pzs_12_rozdielne.csv', **_argumenty_reportu)\n",
    "\n",
    "final['pzs_12'] = final['pzs_12_02'].fillna(final['pzs_12_01'])\n",
    "\n",
    "final = final.drop(columns=['pzs_12_01', 'pzs_12_02'])\n"
   ]
  },
  {
   "cell_type": "markdown",
   "id": "57",
   "metadata": {},
   "source": [
    "#### Datumy"
   ]
  },
  {
   "cell_type": "code",
   "execution_count": 39,
   "id": "58",
   "metadata": {},
   "outputs": [],
   "source": [
    "_nezhodne_datumy_od = final[['datum_od_01', 'datum_od_02']].notna().all(axis=1) & ((final['datum_od_02'] - final['datum_od_01']).dt.days != 0)\n",
    "_nezhodne_datumy_do = final[['datum_do_01', 'datum_do_02']].notna().all(axis=1) & ((final['datum_do_02'] - final['datum_do_01']).dt.days != 0)\n",
    "final[_nezhodne_datumy_do | _nezhodne_datumy_od][_reportovane_stlpce + ['datum_od_01','datum_od_02','datum_do_01','datum_do_02','typ_starostlivosti', 'obdobie_od', 'obdobie_do']].to_csv(_paths['validacia'] / 'datumy_nezhodne.csv', **_argumenty_reportu)\n",
    "\n",
    "final['datum_od'] = final['datum_od_02'].fillna(final['datum_od_01'])\n",
    "final['datum_do'] = final['datum_do_02'].fillna(final['datum_do_01'])\n",
    "\n",
    "final = final.drop(columns=['datum_od_01', 'datum_do_01', 'datum_od_02', 'datum_do_02'])"
   ]
  },
  {
   "cell_type": "markdown",
   "id": "59",
   "metadata": {},
   "source": [
    "#### Diagnozy"
   ]
  },
  {
   "cell_type": "code",
   "execution_count": 40,
   "id": "60",
   "metadata": {},
   "outputs": [],
   "source": [
    "# kod hlavnej diagnozy a drg zjednot na standardny tvar male pismena, cisla \n",
    "final[['hlavna_diagnoza_02', 'drg']] = final[['hlavna_diagnoza_02', 'drg']].apply(lambda col: col.apply(lambda t: standardize_text(t) if pd.notna(t) else t))"
   ]
  },
  {
   "cell_type": "code",
   "execution_count": 41,
   "id": "61",
   "metadata": {},
   "outputs": [],
   "source": [
    "# Vyexportuj rozdielne a chybajuce hlavne diagnozy\n",
    "\n",
    "final[final['hlavna_diagnoza_01'] != final['hlavna_diagnoza_02']][_reportovane_stlpce + ['hlavna_diagnoza_01', 'hlavna_diagnoza_02']].to_csv(_paths['validacia'] / 'hlavne_diagnozy_nezhodne.csv', **_argumenty_reportu)\n",
    "final[final['hlavna_diagnoza_02'].isna()][_reportovane_stlpce + ['hlavna_diagnoza_02', 'hlavna_diagnoza_01']].to_csv(_paths['validacia'] / 'hlavne_diagnozy_chybajuce_02.csv', **_argumenty_reportu)\n",
    "\n",
    "final['hlavna_diagnoza'] = final['hlavna_diagnoza_02'].fillna(final['hlavna_diagnoza_01'])\n",
    "\n",
    "final = final.drop(columns=['hlavna_diagnoza_01', 'hlavna_diagnoza_02'])"
   ]
  },
  {
   "cell_type": "code",
   "execution_count": 42,
   "id": "62",
   "metadata": {},
   "outputs": [],
   "source": [
    "# Ako vedlajsie diagnozy pouzi vedlajsie diagnozy z 02 a ponechaj pre analyticke ucely diagnozy z 01\n",
    "\n",
    "final = final.rename(columns={'diagnozy': 'diagnozy_z_01'})"
   ]
  },
  {
   "cell_type": "code",
   "execution_count": 43,
   "id": "63",
   "metadata": {},
   "outputs": [],
   "source": [
    "# Vytvor stlpec `diagnozy` obsahujuci hlavnu diagnozu na zaciatku\n",
    "\n",
    "_spojka = np.where(final['vedlajsie_diagnozy'].notna(), '~', '')\n",
    "\n",
    "final['diagnozy'] = final['hlavna_diagnoza'].fillna('') + _spojka + final['vedlajsie_diagnozy'].fillna('')\n",
    "\n",
    "final = final.drop(columns=['hlavna_diagnoza', 'vedlajsie_diagnozy'])"
   ]
  },
  {
   "cell_type": "markdown",
   "id": "64",
   "metadata": {},
   "source": [
    "#### Vykony"
   ]
  },
  {
   "cell_type": "code",
   "execution_count": 44,
   "id": "65",
   "metadata": {},
   "outputs": [],
   "source": [
    "# Ako vykony pouzi vykony z 02 a ponechaj pre analyticke ucely vykony z 01\n",
    "\n",
    "final = final.rename(columns={'vykony_02': 'vykony', 'vykony_01': 'vykony_z_01'}) "
   ]
  },
  {
   "cell_type": "markdown",
   "id": "66",
   "metadata": {},
   "source": [
    "## Pripojenie dalsich hospitalizacnych pripadov z UZS_JZS"
   ]
  },
  {
   "cell_type": "code",
   "execution_count": 45,
   "id": "67",
   "metadata": {},
   "outputs": [
    {
     "data": {
      "text/plain": [
       "107692"
      ]
     },
     "execution_count": 45,
     "metadata": {},
     "output_type": "execute_result"
    }
   ],
   "source": [
    "# Vyber iba tie hp, ktoré sa nenachádzajú v drg dátach\n",
    "# uz nebudeme potrebovat stlpec s hlavnou diagnozou\n",
    "\n",
    "zjednotene_uzs = zjednotene_uzs.reset_index()\n",
    "_doplnkove_uzs = zjednotene_uzs[~zjednotene_uzs['id_hp'].isin(final['id_hp'])]\n",
    "_doplnkove_uzs = _doplnkove_uzs.drop(columns=['hlavna_diagnoza'])\n",
    "_doplnkove_uzs[['diagnozy_z_01', 'vykony_z_01']] = _doplnkove_uzs[['diagnozy', 'vykony']]\n",
    "\n",
    "len(_doplnkove_uzs)"
   ]
  },
  {
   "cell_type": "code",
   "execution_count": 46,
   "id": "68",
   "metadata": {},
   "outputs": [
    {
     "name": "stdout",
     "output_type": "stream",
     "text": [
      "453727\n",
      "index                             387454\n",
      "kod_zp                                 2\n",
      "id_hp_pzs                          70250\n",
      "id_hp                             453727\n",
      "pzs_6                                 90\n",
      "osetrovacia_doba                     146\n",
      "dni_priepustka                        19\n",
      "vek_dni                              367\n",
      "vek_roky                             103\n",
      "hmotnost                            1803\n",
      "upv                                  704\n",
      "datum_narodenia                    33335\n",
      "druh_prijatia                          7\n",
      "dovod_prijatia                         5\n",
      "dovod_prepustenia                     10\n",
      "lokalizacia_hlavnej_diagnozy           4\n",
      "drg                                 1120\n",
      "erv                                 9351\n",
      "zlucene_hp                          3623\n",
      "lokalizacie_vedlajsich_diagnoz      7459\n",
      "vykony                            236440\n",
      "kod_drg_pp                          3787\n",
      "cena_drg_pp                         4798\n",
      "obdobie_od                            18\n",
      "obdobie_do                            13\n",
      "vykony_z_01                        17128\n",
      "typ_vykonu                           226\n",
      "posledna_dgn_prepustenie            6917\n",
      "posledna_dgn_prijem                 6811\n",
      "diagnozy_z_01                      47751\n",
      "typ_hospitalizacie                     7\n",
      "novorodenec                            4\n",
      "pzs_12_odosielatel                 10401\n",
      "posledny_pohyb_poistenca             410\n",
      "id_poistenca                      284118\n",
      "typ_starostlivosti                     4\n",
      "pzs_12                              1945\n",
      "datum_od                           68166\n",
      "datum_do                           43349\n",
      "diagnozy                          173515\n",
      "dtype: int64\n"
     ]
    }
   ],
   "source": [
    "final = pd.concat([final, _doplnkove_uzs]).reset_index()\n",
    "\n",
    "print(len(final))\n",
    "print(final.nunique())"
   ]
  },
  {
   "cell_type": "markdown",
   "id": "69",
   "metadata": {},
   "source": [
    "## finalna uprava vsetkych hospitalizacii"
   ]
  },
  {
   "cell_type": "markdown",
   "id": "70",
   "metadata": {},
   "source": [
    "### Pripojenie dat zo suboru 09_UZS_POISTENCI"
   ]
  },
  {
   "cell_type": "code",
   "execution_count": 47,
   "id": "71",
   "metadata": {},
   "outputs": [
    {
     "name": "stdout",
     "output_type": "stream",
     "text": [
      "5081106\n",
      "kod_zp                          2\n",
      "id_poistenca              3501979\n",
      "datum_narodenia             40325\n",
      "pohlavie                        2\n",
      "datum_poistenia_od          10667\n",
      "datum_poistenia_do          11062\n",
      "dovod_ukoncenia                46\n",
      "kod_prechodneho_pobytu       2873\n",
      "psc_prechodneho_pobytu       2169\n",
      "kod_trvaleho_pobytu          2929\n",
      "psc_trvaleho_pobytu         12926\n",
      "dtype: int64\n"
     ]
    }
   ],
   "source": [
    "poistenci = pd.concat([_data[i]['poistenci'] for i in _spracovat], ignore_index=True)\n",
    "\n",
    "print(len(poistenci))\n",
    "print(poistenci.nunique())"
   ]
  },
  {
   "cell_type": "code",
   "execution_count": 48,
   "id": "72",
   "metadata": {},
   "outputs": [
    {
     "name": "stdout",
     "output_type": "stream",
     "text": [
      "2446286\n",
      "kod_zp                          2\n",
      "id_poistenca              2419226\n",
      "datum_narodenia             35284\n",
      "pohlavie                        2\n",
      "datum_poistenia_od          10439\n",
      "datum_poistenia_do            922\n",
      "dovod_ukoncenia                20\n",
      "kod_prechodneho_pobytu       2853\n",
      "psc_prechodneho_pobytu       2073\n",
      "kod_trvaleho_pobytu          2927\n",
      "psc_trvaleho_pobytu         12775\n",
      "dtype: int64\n"
     ]
    }
   ],
   "source": [
    "# Vylúč záznamy, ktorým skončilo poistenie pred daným rokom\n",
    "\n",
    "poistenci = poistenci[~(poistenci['datum_poistenia_do'].dt.year < int(_rok))]\n",
    "\n",
    "# Vylúč záznamy, ktoré skončili v danom roku a prešli do inej poisťovne\n",
    "\n",
    "poistenci = poistenci[~((poistenci['datum_poistenia_do'] < f'{_rok}-12-31') & poistenci['dovod_ukoncenia'].isin(['24','25','27']))]\n",
    "\n",
    "# Vylúč záznamy, ktorým začína poistenie až v budúcom roku\n",
    "\n",
    "poistenci = poistenci[~(poistenci['datum_poistenia_od'].dt.year > int(_rok))]\n",
    "\n",
    "print(len(poistenci))\n",
    "print(poistenci.nunique())"
   ]
  },
  {
   "cell_type": "code",
   "execution_count": 49,
   "id": "73",
   "metadata": {},
   "outputs": [
    {
     "data": {
      "text/plain": [
       "2445946"
      ]
     },
     "execution_count": 49,
     "metadata": {},
     "output_type": "execute_result"
    }
   ],
   "source": [
    "# Vylúč duplicity\n",
    "poistenci = poistenci.drop_duplicates()\n",
    "\n",
    "len(poistenci)"
   ]
  },
  {
   "cell_type": "code",
   "execution_count": 50,
   "id": "74",
   "metadata": {},
   "outputs": [],
   "source": [
    "# Skontroluj platný dôvod ukončenia\n",
    "\n",
    "platne_dovody_ukoncenia = ['24', '25', '27', 'M', 'K', 'C', 'E', 'P', 'T', 'R', 'Z']\n",
    "\n",
    "poistenci[~poistenci['dovod_ukoncenia'].isin(platne_dovody_ukoncenia)].to_csv(_paths['validacia'] / 'poistenci_dovod_ukoncenia_neplatny.csv', **_argumenty_reportu)"
   ]
  },
  {
   "cell_type": "code",
   "execution_count": 51,
   "id": "75",
   "metadata": {},
   "outputs": [
    {
     "name": "stdout",
     "output_type": "stream",
     "text": [
      "2445946\n",
      "kod_zp                          2\n",
      "id_poistenca              2419226\n",
      "datum_narodenia             35284\n",
      "pohlavie                        2\n",
      "datum_poistenia_od          10439\n",
      "datum_poistenia_do            922\n",
      "dovod_ukoncenia                20\n",
      "kod_prechodneho_pobytu       2853\n",
      "psc_prechodneho_pobytu       2073\n",
      "kod_trvaleho_pobytu          2927\n",
      "psc_trvaleho_pobytu         12775\n",
      "dtype: int64\n"
     ]
    }
   ],
   "source": [
    "# Najdi poistencov, ktori maju viac ako jeden datum narodenia a vyhod ich\n",
    "\n",
    "# Pozn. možno bude nutné spätne ponechať tzv. fiktivnych poistencov, su to id_poistenca, u ktorych sa moze objavit viacnasobny datum narodenia, pretoze sa pouziju pre viacerych pacientov, ktorych poistenie je nezname alebo utajene. Ak takí existujú, ich zoznam sa nachádza v súbore poznamky.txt pri pri ostatných súboroch od poisťovne.   \n",
    "\n",
    "_pocty = poistenci.groupby(['kod_zp', 'id_poistenca'])['datum_narodenia'].nunique()\n",
    "_i = _pocty.iloc[np.where(_pocty > 1)[0]].index\n",
    "\n",
    "poistenci = poistenci.set_index(['kod_zp', 'id_poistenca'])\n",
    "poistenci.loc[_i].to_csv(_paths['validacia'] / 'poistenci_s_viac_datumami_narodenia.csv', **{**_argumenty_reportu, 'index':True})\n",
    "poistenci = poistenci.drop(_i).reset_index()\n",
    "\n",
    "print(len(poistenci))\n",
    "print(poistenci.nunique())"
   ]
  },
  {
   "cell_type": "code",
   "execution_count": 52,
   "id": "76",
   "metadata": {},
   "outputs": [],
   "source": [
    "# Vytvor kod pobytu a psc pobytu primarne z prechodneho pobytu\n",
    "\n",
    "poistenci['kod_pobytu'] = poistenci['kod_prechodneho_pobytu'].fillna(poistenci['kod_trvaleho_pobytu'])\n",
    "poistenci['psc_pobytu'] = poistenci['psc_prechodneho_pobytu'].fillna(poistenci['psc_trvaleho_pobytu'])"
   ]
  },
  {
   "cell_type": "code",
   "execution_count": 53,
   "id": "77",
   "metadata": {},
   "outputs": [
    {
     "name": "stdout",
     "output_type": "stream",
     "text": [
      "2419226\n",
      "kod_zp                   2\n",
      "id_poistenca       2419226\n",
      "pohlavie                 2\n",
      "datum_narodenia      35284\n",
      "psc_pobytu            5571\n",
      "kod_pobytu            2930\n",
      "dtype: int64\n"
     ]
    }
   ],
   "source": [
    "# Vyber posledny zaznamenany pobyt\n",
    "poistenci = poistenci.groupby(by=['kod_zp', 'id_poistenca', 'pohlavie', 'datum_narodenia'])[['psc_pobytu', 'kod_pobytu']].last().reset_index()\n",
    "\n",
    "print(len(poistenci))\n",
    "print(poistenci.nunique())"
   ]
  },
  {
   "cell_type": "code",
   "execution_count": 54,
   "id": "78",
   "metadata": {},
   "outputs": [],
   "source": [
    "# Skontroluj zaznamenaný ZUJ kód a PSČ pobytu\n",
    "\n",
    "poistenci['psc_pobytu'] = poistenci['psc_pobytu'].str.replace(' ', '')\n",
    "\n",
    "poistenci[poistenci['kod_pobytu'].isna() & poistenci['psc_pobytu'].isna()].to_csv(_paths['validacia'] / 'poistenci_ZUJ_a_PSC_chybajuce.csv', **_argumenty_reportu)\n",
    "\n",
    "obce = load_zoznam_obci('Inputs/KÓDY_OBCE.xlsx')\n",
    "psc = load_psc_2_zuj('Inputs/psc_na_zuj.csv')\n",
    "\n",
    "poistenci[poistenci['kod_pobytu'].notna() & ~poistenci['kod_pobytu'].isin(obce['ZUJ'])].to_csv(_paths['validacia'] / 'poistenci_ZUJ_nedohladane.csv', **_argumenty_reportu)\n",
    "poistenci[poistenci['psc_pobytu'].notna() & ~poistenci['psc_pobytu'].isin(psc['psc'].unique())].to_csv(_paths['validacia'] / 'poistenci_PSC_nedohladane.csv', **_argumenty_reportu)\n"
   ]
  },
  {
   "cell_type": "code",
   "execution_count": 55,
   "id": "79",
   "metadata": {},
   "outputs": [],
   "source": [
    "# Pre chýbajúci alebo neplatný ZUJ kód priraď ZUJ kód podľa PSČ (vyber náhodne jeden zo ZUJ kódov pokrytých daným PSČ proporčne k počtu obyvateľov v danom ZUJ kóde - predpočítané v prevodovom subore psc_na_zuj)\n",
    "\n",
    "doplnenie_zuj = poistenci[poistenci['psc_pobytu'].isin(psc['psc'].unique()) & ~poistenci['kod_pobytu'].isin(obce['ZUJ'].unique())]\n",
    "\n",
    "poistenci.loc[doplnenie_zuj.index, ['kod_pobytu']] = doplnenie_zuj.merge(psc.groupby('psc').agg({'ZUJ': list, 'ZUJ_pravdepodobnost': list}), left_on='psc_pobytu', right_index=True).apply(lambda r: random.choices(r['ZUJ'], r['ZUJ_pravdepodobnost'])[0], axis=1)"
   ]
  },
  {
   "cell_type": "code",
   "execution_count": 56,
   "id": "80",
   "metadata": {},
   "outputs": [],
   "source": [
    "# Vytvor exporty vyfiltrovaných poistencov\n",
    "\n",
    "poistenci.to_csv(_paths['vystupy'] / f'poistenci_vyfiltrovani_{_rok}.csv', **_argumenty_reportu)"
   ]
  },
  {
   "cell_type": "code",
   "execution_count": 57,
   "id": "81",
   "metadata": {},
   "outputs": [],
   "source": [
    "# Pripoj data zo suboru 09_UZS_POISTENCI\n",
    "\n",
    "final = final.merge(poistenci, how='left', on=['kod_zp', 'id_poistenca'], suffixes=['_02', '_09'])"
   ]
  },
  {
   "cell_type": "code",
   "execution_count": 58,
   "id": "82",
   "metadata": {},
   "outputs": [],
   "source": [
    "# Exportuj ID poistencov, ktore mame v datach o hospitalizaciach ale nie v datach o poistencoch\n",
    "\n",
    "final[~final['id_poistenca'].isin(poistenci['id_poistenca'])][_reportovane_stlpce + ['id_poistenca']].to_csv(_paths['validacia'] / 'id_poistenca_nedohladane.csv', **_argumenty_reportu)"
   ]
  },
  {
   "cell_type": "code",
   "execution_count": 59,
   "id": "83",
   "metadata": {},
   "outputs": [],
   "source": [
    "# vyexportuj pripady, kde sa nezhoduju datumy narodenia, a datum z 02 nie je novorodenec (datum narodenia skor ako v decembri minuleho roka)\n",
    "# zjednot datumy narodenia, primarny je z 09\n",
    "\n",
    "if int(_rok) > 2021:\n",
    "\n",
    "    _rozdielne_datumy = final[['datum_narodenia_02', 'datum_narodenia_09']].notna().all(axis=1) & (final['datum_narodenia_02'] != final['datum_narodenia_09']) & (final['datum_narodenia_02'] < pd.Timestamp(year=int(_rok)-1, month=12, day=1))\n",
    "\n",
    "    final[_rozdielne_datumy][_reportovane_stlpce + ['datum_narodenia_02', 'datum_narodenia_09']].to_csv(_paths['validacia'] / 'datum_narodenia_rozdielny.csv', **_argumenty_reportu)\n",
    "\n",
    "    final['datum_narodenia'] = final['datum_narodenia_09'].fillna(final['datum_narodenia_02'])\n",
    "\n",
    "    final = final.drop(columns=['datum_narodenia_02', 'datum_narodenia_09'])"
   ]
  },
  {
   "cell_type": "markdown",
   "id": "84",
   "metadata": {},
   "source": [
    "### Kod poskytovatela pzs_8"
   ]
  },
  {
   "cell_type": "code",
   "execution_count": 60,
   "id": "85",
   "metadata": {},
   "outputs": [
    {
     "data": {
      "text/plain": [
       "453727"
      ]
     },
     "execution_count": 60,
     "metadata": {},
     "output_type": "execute_result"
    }
   ],
   "source": [
    "# Pridaj kod nemocnice podla prevodovnika na zaklade kodov oddeleni.\n",
    "\n",
    "_pzs_12_prevodnik = load_pzs_12('Inputs/pzs_12_prevodnik.csv')\n",
    "\n",
    "final = final.merge(_pzs_12_prevodnik, how='left', on='pzs_12')\n",
    "\n",
    "len(final)"
   ]
  },
  {
   "cell_type": "code",
   "execution_count": 61,
   "id": "86",
   "metadata": {},
   "outputs": [],
   "source": [
    "# Exportuj kody oddeleni, ktorym nevieme priradit kod nemocnice\n",
    "\n",
    "final[final['pzs_8'].isna()][_reportovane_stlpce + ['pzs_12', 'pzs_8']].to_csv(_paths['validacia'] / 'pzs_12_nedohladane_v_prevodniku.csv', **_argumenty_reportu)\n",
    "final[final['pzs_8'].fillna('xxxxxxxx').str.endswith('xx')][_reportovane_stlpce + ['pzs_12', 'pzs_8']].to_csv(_paths['validacia'] / 'pzs_12_nedohladane_v_datach_nczi.csv', **_argumenty_reportu)"
   ]
  },
  {
   "cell_type": "code",
   "execution_count": 62,
   "id": "87",
   "metadata": {},
   "outputs": [],
   "source": [
    "final['pzs_6'] = final['pzs_6_x'].fillna(final['pzs_6_y'])\n",
    "\n",
    "final = final.drop(columns=['pzs_6_x', 'pzs_6_y'])"
   ]
  },
  {
   "cell_type": "code",
   "execution_count": 63,
   "id": "88",
   "metadata": {},
   "outputs": [],
   "source": [
    "# Ak sa nepripojil kod nemocnice, lebo hospitalizacia nema zaznam v subore\n",
    "# 03_HP_PREKLADY, alebo je hospitalizacia z 01_UZS_JZS vytvor kod nemocnice \n",
    "# ako 'KOD_PZS + 0 + Y', kde Y sa zisti z polozky ID_HP_PZS ako (Z)RRYXXXXX. \n",
    "# Y by nikdy nemalo byt 0, ale nemocnice si ho tak niekedy udavaju, takze sprav zmenu na 1.\n",
    "\n",
    "_y=final['id_hp_pzs'].str.extract('^Z?\\d\\d(\\d)').replace('0', '1')\n",
    "\n",
    "final['pzs_8'] = final['pzs_8'].fillna(final['pzs_6'] + '0' + _y[0])"
   ]
  },
  {
   "cell_type": "markdown",
   "id": "89",
   "metadata": {},
   "source": [
    "### Vyradenie hospitalizacii nekonciacich vo vybranom roku"
   ]
  },
  {
   "cell_type": "code",
   "execution_count": 64,
   "id": "90",
   "metadata": {},
   "outputs": [
    {
     "data": {
      "text/plain": [
       "453726"
      ]
     },
     "execution_count": 64,
     "metadata": {},
     "output_type": "execute_result"
    }
   ],
   "source": [
    "_konci_v_zlom_obdobi = ((final['datum_do'].notna()) & (final['datum_do'].dt.year != int(_rok)))\n",
    "\n",
    "final[_konci_v_zlom_obdobi][_reportovane_stlpce + ['datum_do', 'obdobie_od', 'obdobie_do']].to_csv(_paths['validacia'] / 'konci_v_zlom_obdobi.csv', **_argumenty_reportu)\n",
    "\n",
    "final = final.drop(final[_konci_v_zlom_obdobi].index)\n",
    "\n",
    "len(final)"
   ]
  },
  {
   "cell_type": "markdown",
   "id": "91",
   "metadata": {},
   "source": [
    "### Dlzka osetrovacej doby"
   ]
  },
  {
   "cell_type": "code",
   "execution_count": 65,
   "id": "92",
   "metadata": {},
   "outputs": [],
   "source": [
    "# Napocitaj dlzku osetrovacej doby ako rozdiel v dnoch medzi datumom prepustenia a datumom prijatia. Pouzi v pripade, ze nebola dlzka osetrovacej doby reportovana.\n",
    "\n",
    "def vypocitaj_dlzku_osetrovacej_doby(datum_prijatia, datum_prepustenia):\n",
    "    if datum_prepustenia < datum_prijatia:\n",
    "        return 1\n",
    "    return max(1,(datum_prepustenia - datum_prijatia).days)\n",
    "\n",
    "\n",
    "_vypocitana_dlzka_osetrovania = final.apply(lambda row: vypocitaj_dlzku_osetrovacej_doby(row['datum_od'], row['datum_do']), axis=1).astype('Int16')"
   ]
  },
  {
   "cell_type": "code",
   "execution_count": 66,
   "id": "93",
   "metadata": {},
   "outputs": [],
   "source": [
    "final[final['osetrovacia_doba'].notna() & (final['osetrovacia_doba'] == 0)][_reportovane_stlpce + ['datum_od', 'datum_do']].to_csv(_paths['validacia'] / 'osetrovacia_doba_0.csv', **_argumenty_reportu)\n",
    "\n",
    "final.loc[final['osetrovacia_doba'].notna() & (final['osetrovacia_doba'] == 0), 'osetrovacia_doba'] = pd.NA"
   ]
  },
  {
   "cell_type": "code",
   "execution_count": 67,
   "id": "94",
   "metadata": {},
   "outputs": [],
   "source": [
    "final.loc[:,'osetrovacia_doba'] = final['osetrovacia_doba'].fillna(_vypocitana_dlzka_osetrovania)\n",
    "final.loc[final['typ_starostlivosti'].isin(['JZS', 'JZS2']), 'osetrovacia_doba'] = final.loc[final['typ_starostlivosti'].isin(['JZS', 'JZS2']), 'osetrovacia_doba'].fillna(1)"
   ]
  },
  {
   "cell_type": "markdown",
   "id": "95",
   "metadata": {},
   "source": [
    "### Vek"
   ]
  },
  {
   "cell_type": "code",
   "execution_count": 68,
   "id": "96",
   "metadata": {},
   "outputs": [],
   "source": [
    "# Natipuj vek podla datumov hospitalizacii a narodenia a toho, co bolo napisane.\n",
    "# Z datumov hospitalizacii sa najde minimalny a podla neho a datumu narodenia\n",
    "# sa urci vek pri hospitalizacii. \n",
    "\n",
    "final['datum_prijatia'] = final[['datum_od', 'datum_do']].min(axis=1)"
   ]
  },
  {
   "cell_type": "code",
   "execution_count": 69,
   "id": "97",
   "metadata": {},
   "outputs": [],
   "source": [
    "# Vypocitaj vek presne zo zadanych datumov prijatia a narodenia\n",
    "\n",
    "def vypocitaj_vek(datum_prijatia, datum_narodenia):\n",
    "    if datum_prijatia < datum_narodenia:\n",
    "        return 0, 1\n",
    "    vek_roky = datum_prijatia.year - datum_narodenia.year - ((datum_prijatia.month, datum_prijatia.day) < (datum_narodenia.month, datum_narodenia.day))\n",
    "    if vek_roky == 0:\n",
    "        return vek_roky, (datum_prijatia - datum_narodenia).days\n",
    "    return vek_roky, pd.NA\n",
    "\n",
    "final[['vypocitany_vek_roky', 'vypocitany_vek_dni']] = final.apply(lambda row: vypocitaj_vek(row['datum_prijatia'], row['datum_narodenia']), axis=1, result_type='expand')"
   ]
  },
  {
   "cell_type": "code",
   "execution_count": 70,
   "id": "98",
   "metadata": {},
   "outputs": [],
   "source": [
    "# Pre pripady, ze je znamy datum narodenia ale neznamy datum prijatia, mozeme odhadnut vek ako jednoduchy rozdiel medzi aktualnym rokom a rokom narodenia\n",
    "\n",
    "final['odhadnuty_vek_roky'] = final.apply(lambda row: int(_rok) - row['datum_narodenia'].year, axis=1)"
   ]
  },
  {
   "cell_type": "code",
   "execution_count": 71,
   "id": "99",
   "metadata": {},
   "outputs": [],
   "source": [
    "# Nakoniec ak je vyplneny vek v dnoch alebo hmotnost, vek je 0 rokov.\n",
    "\n",
    "final.loc[(final['vek_dni'] > 0) | (final['hmotnost'] > 0), ['odhadnuty_vek_0']] = 0"
   ]
  },
  {
   "cell_type": "code",
   "execution_count": 72,
   "id": "100",
   "metadata": {},
   "outputs": [],
   "source": [
    "# Prioritu ma zaznamenany vek v rokoch, doplna sa vypocitanym alebo odhadnutym vekom\n",
    "\n",
    "final['vek_roky'] = final['vek_roky'].fillna(final['odhadnuty_vek_0'])\n",
    "final['vek_roky'] = final['vek_roky'].fillna(final['vypocitany_vek_roky'])\n",
    "final['vek_dni'] = final['vek_dni'].fillna(final['vypocitany_vek_dni'])\n",
    "final['vek_roky'] = final['vek_roky'].fillna(final['odhadnuty_vek_roky'])\n",
    "\n",
    "\n",
    "final = final.drop(\n",
    "    columns=['datum_prijatia', 'vypocitany_vek_roky', 'vypocitany_vek_dni', 'odhadnuty_vek_roky', 'odhadnuty_vek_0']\n",
    "    )"
   ]
  },
  {
   "cell_type": "code",
   "execution_count": 73,
   "id": "101",
   "metadata": {},
   "outputs": [],
   "source": [
    "# Exportuj zaznamy, ktore maju nestandardne hodnoty\n",
    "# Vysoky vek\n",
    "final[final['vek_roky'] > 109][_reportovane_stlpce + ['id_poistenca', 'vek_roky']].to_csv(_paths['validacia'] / 'vek_vysoky.csv', **_argumenty_reportu)\n",
    "# Novorodenci bez hmotnosti (dopln dohodnutu hodnotu 2500)\n",
    "final[(final['vek_roky'] == 0) & (final['vek_dni'] <= 28) & (final['hmotnost'].isna())][_reportovane_stlpce + ['id_poistenca', 'vek_roky', 'vek_dni', 'hmotnost']].to_csv(_paths['validacia'] / 'novorodenci_bez_hmotnosti.csv', **_argumenty_reportu)\n",
    "\n",
    "final.loc[(final['vek_roky'] == 0) & ((final['vek_dni'] <= 28) | final['vek_dni'].isna()) & (final['hmotnost'].isna()), 'hmotnost'] = 2500\n",
    "# Chybajuci vek (aj napriek carovaniu so vsetkym moznym)\n",
    "final[final['vek_roky'].isna()][_reportovane_stlpce + ['id_poistenca', 'vek_roky']].to_csv(_paths['validacia'] / 'vek_chybajuci.csv', **_argumenty_reportu)"
   ]
  },
  {
   "cell_type": "code",
   "execution_count": 74,
   "id": "102",
   "metadata": {},
   "outputs": [],
   "source": [
    "# TODO premysliet, ci nie je vhodnejsie ako najpravdivejsi vek povazovat ten z tabulky 09."
   ]
  },
  {
   "cell_type": "code",
   "execution_count": 75,
   "id": "103",
   "metadata": {},
   "outputs": [],
   "source": [
    "final['vek_roky'] = pd.to_numeric(final['vek_roky'], errors='coerce').astype('Int16')\n",
    "final['vek_dni'] = pd.to_numeric(final['vek_dni'], errors='coerce').astype('Int16')"
   ]
  },
  {
   "cell_type": "markdown",
   "id": "104",
   "metadata": {},
   "source": [
    "### Vylucenie hospitalizacii, ktore boli zlucene kvoli DRG"
   ]
  },
  {
   "cell_type": "code",
   "execution_count": 76,
   "id": "105",
   "metadata": {},
   "outputs": [],
   "source": [
    "# Zo stlpca s ciastkovymi hospitalizaciami odstran medzery (2021 ich nema, ale\n",
    "# radsej pre isototu to treba spravit) a ak je ako oddelovac pouzita bodka\n",
    "# (mala by byt pouzivana len ciarka, ak nie je treba to vratit poistovni)\n",
    "# zmen ju na ciarku\n",
    "\n",
    "final['zlucene_hp'] = final['zlucene_hp'].str.replace(' ', \"\").str.replace('.', ',')"
   ]
  },
  {
   "cell_type": "code",
   "execution_count": 77,
   "id": "106",
   "metadata": {},
   "outputs": [],
   "source": [
    "# Vyber riadky, ktore maju nieco v ciastkovej hospitalizacii\n",
    "_zlucene = final[final['zlucene_hp'].notna()][['pzs_8', 'zlucene_hp']].drop_duplicates()"
   ]
  },
  {
   "cell_type": "code",
   "execution_count": 78,
   "id": "107",
   "metadata": {},
   "outputs": [],
   "source": [
    "# Rozdel ciastkove hospitalizacie samostatne do riadkov\n",
    "\n",
    "_zlucene = _zlucene.set_index(['pzs_8']).apply(lambda col: col.str.split(',').explode()).reset_index()"
   ]
  },
  {
   "cell_type": "code",
   "execution_count": 79,
   "id": "108",
   "metadata": {},
   "outputs": [],
   "source": [
    "# Vytvor jedinecne id pre ciastkove hospitalizacie\n",
    "_zlucene['id_hp_pzs_pzs_8'] = _zlucene['zlucene_hp'] + '_' + _zlucene['pzs_8']"
   ]
  },
  {
   "cell_type": "code",
   "execution_count": 80,
   "id": "109",
   "metadata": {},
   "outputs": [],
   "source": [
    "# Najdi id hospitalizacii prisluchajucich jedinecnym id\n",
    "\n",
    "final['id_hp_pzs_pzs_8'] = final['id_hp_pzs'] + '_' + final['pzs_8']\n",
    "\n",
    "_id_na_vylucenie = final[final['id_hp_pzs_pzs_8'].isin(_zlucene['id_hp_pzs_pzs_8'])]['id_hp']"
   ]
  },
  {
   "cell_type": "code",
   "execution_count": 81,
   "id": "110",
   "metadata": {},
   "outputs": [],
   "source": [
    "# Exportuj ciastkove hospitalizacie\n",
    "final[final['id_hp'].isin(_id_na_vylucenie)][_reportovane_stlpce].to_csv(_paths['validacia'] / 'zlucene_hospitalizacie.csv', **_argumenty_reportu)"
   ]
  },
  {
   "cell_type": "code",
   "execution_count": 82,
   "id": "111",
   "metadata": {},
   "outputs": [
    {
     "data": {
      "text/plain": [
       "446700"
      ]
     },
     "execution_count": 82,
     "metadata": {},
     "output_type": "execute_result"
    }
   ],
   "source": [
    "# Vyhod ciastkove hospitalizacie\n",
    "\n",
    "final = final.drop(final[final['id_hp'].isin(_id_na_vylucenie)].index)\n",
    "\n",
    "final = final.drop(columns=['id_hp_pzs_pzs_8'])\n",
    "\n",
    "len(final)"
   ]
  },
  {
   "cell_type": "markdown",
   "id": "112",
   "metadata": {},
   "source": [
    "### Reporting chybajucich dat"
   ]
  },
  {
   "cell_type": "code",
   "execution_count": 83,
   "id": "113",
   "metadata": {},
   "outputs": [],
   "source": [
    "final = final.replace('', np.nan)\n",
    "_nove_reportovane_stlpce = ['kod_zp','id_hp','id_poistenca','datum_od','datum_do','typ_starostlivosti', 'obdobie_od', 'obdobie_do']\n",
    "\n",
    "final[final['id_poistenca'].isna()][_nove_reportovane_stlpce].to_csv(_paths['validacia'] / 'id_poistenca_chybajuce.csv', **_argumenty_reportu)\n",
    "\n",
    "final[final['typ_starostlivosti'].isna()][_nove_reportovane_stlpce + ['typ_starostlivosti']].to_csv(_paths['validacia'] / 'typ_starostlivosti_chybajuci.csv', **_argumenty_reportu)\n",
    "\n",
    "final[final['pzs_12'].isna()][_nove_reportovane_stlpce + ['pzs_12']].to_csv(_paths['validacia'] / 'pzs_12_chybajuce.csv', **_argumenty_reportu)\n",
    "\n",
    "final[(final['datum_od'].isna()) | (final['datum_do'].isna() & (~final['typ_starostlivosti'].isin(['JZS', 'JZS2'])))][_nove_reportovane_stlpce].to_csv(_paths['validacia'] / 'datumy_chybajuce.csv', **_argumenty_reportu)\n",
    "\n",
    "final[final['diagnozy'].str.startswith('~', na=False)][_nove_reportovane_stlpce + ['diagnozy']].to_csv(_paths['validacia'] / 'hlavne_diagnozy_chybajuce.csv', **_argumenty_reportu)\n",
    "final[final['diagnozy'].isna()][_nove_reportovane_stlpce + ['diagnozy']].to_csv(_paths['validacia'] / 'diagnozy_chybajuce.csv', **_argumenty_reportu)"
   ]
  },
  {
   "cell_type": "markdown",
   "id": "114",
   "metadata": {},
   "source": [
    "## Upratanie finalnych dat"
   ]
  },
  {
   "cell_type": "code",
   "execution_count": 84,
   "id": "115",
   "metadata": {},
   "outputs": [
    {
     "name": "stdout",
     "output_type": "stream",
     "text": [
      "446700\n",
      "id_hp                             446700\n",
      "vek_roky                             105\n",
      "vek_dni                              367\n",
      "hmotnost                            1796\n",
      "upv                                  694\n",
      "diagnozy                          169520\n",
      "lokalizacia_hlavnej_diagnozy           4\n",
      "lokalizacie_vedlajsich_diagnoz      7226\n",
      "vykony                            232366\n",
      "drg                                 1119\n",
      "erv                                 9100\n",
      "typ_starostlivosti                     4\n",
      "typ_hospitalizacie                     7\n",
      "druh_prijatia                          7\n",
      "dovod_prijatia                         5\n",
      "dovod_prepustenia                     10\n",
      "posledna_dgn_prijem                 6800\n",
      "posledna_dgn_prepustenie            6908\n",
      "posledny_pohyb_poistenca             408\n",
      "diagnozy_z_01                      47253\n",
      "vykony_z_01                        17070\n",
      "novorodenec                            4\n",
      "obdobie_od                            18\n",
      "obdobie_do                            13\n",
      "datum_od                           67612\n",
      "datum_do                           42943\n",
      "osetrovacia_doba                     226\n",
      "dni_priepustka                        19\n",
      "id_poistenca                      284118\n",
      "datum_narodenia                    33539\n",
      "pohlavie                               2\n",
      "kod_pobytu                          2919\n",
      "kod_zp                                 2\n",
      "pzs_12                              1945\n",
      "IDENTIFZAR                           368\n",
      "pzs_8                                410\n",
      "pzs_6                                278\n",
      "pzs_ico                              278\n",
      "id_hp_pzs                          69711\n",
      "kod_drg_pp                          3698\n",
      "cena_drg_pp                         4753\n",
      "pzs_12_odosielatel                 10388\n",
      "typ_vykonu                           221\n",
      "zlucene_hp                          3534\n",
      "dtype: int64\n"
     ]
    }
   ],
   "source": [
    "# Popresuvaj stlpce a vypis statistiky\n",
    "\n",
    "final = final[COLUMNS_VS]\n",
    "\n",
    "print(len(final))\n",
    "print(final.nunique())"
   ]
  },
  {
   "cell_type": "code",
   "execution_count": 85,
   "id": "116",
   "metadata": {},
   "outputs": [],
   "source": [
    "# Exportuj do csv\n",
    "\n",
    "final.to_csv(_paths['vystupy'] / f'osn_vsetka_starostlivost_{_rok}.csv', sep=';', index=False)"
   ]
  },
  {
   "cell_type": "markdown",
   "id": "117",
   "metadata": {},
   "source": [
    "## Priprava dat pre 274"
   ]
  },
  {
   "cell_type": "code",
   "execution_count": null,
   "id": "118",
   "metadata": {},
   "outputs": [],
   "source": [
    "final_274 = pd.DataFrame(columns=COLUMNS_274.values())\n",
    "final_274['dgn_prijem'] = final['posledna_dgn_prijem']\n",
    "final_274['dgn_prepustenie'] = final['posledna_dgn_prepustenie']\n",
    "final_274['pohyb_poistenca'] = final['posledny_pohyb_poistenca']\n",
    "final_274['novorodenec'] = final['novorodenec']\n",
    "final_274['pzs_12_odosielatel'] = final['pzs_12_odosielatel']\n",
    "final_274['id_poistenca'] = final['id_poistenca']\n",
    "final_274['pohlavie_poistenca'] = final['pohlavie']\n",
    "final_274['typ_vykonu'] = final['typ_vykonu'].str.replace('~', '@')\n",
    "\n",
    "_vykony_list = final['vykony'].str.split('~')\n",
    "_kody_vykonov = _vykony_list.apply(lambda z: [x.split('&')[0] for x in z] if isinstance(z, list) else z)\n",
    "_lokalizacie_vykonov = _vykony_list.apply(lambda z: [x.split('&')[1] for x in z] if isinstance(z, list) else z)\n",
    "_datumy_vykonov = _vykony_list.apply(lambda z: [x.split('&')[2] for x in z] if isinstance(z, list) else z)\n",
    "\n",
    "final_274['kod_hlavneho_vykonu'] = _kody_vykonov.str[0]\n",
    "final_274['typ_hospitalizacie'] = final['typ_hospitalizacie']\n",
    "final_274['datum_prijatia'] = final['datum_od'].dt.date\n",
    "final_274['datum_prepustenia'] = final['datum_do'].dt.date\n",
    "final_274['id_hp'] = final['id_hp']\n",
    "final_274['upv'] = final['upv']\n",
    "final_274['kody_vykonov'] = _kody_vykonov.str.join('@')\n",
    "final_274['lokalizacie_vykonov'] = _lokalizacie_vykonov.str.join('@')\n",
    "final_274['datumy_vykonov'] = _datumy_vykonov.str.join('@')\n",
    "final_274['datum_narodenia'] = final['datum_narodenia']\n",
    "final_274['druh_prijatia'] = final['druh_prijatia']\n",
    "final_274['dovod_prijatia'] = final['dovod_prijatia']\n",
    "final_274['vek_dni'] = final['vek_dni']\n",
    "final_274['vek_roky'] = final['vek_roky']\n",
    "final_274['hmotnost'] = final['hmotnost']\n",
    "final_274['druh_prepustenia'] = final['dovod_prepustenia']\n",
    "final_274['kod_hlavnej_diagnozy'] = final['diagnozy'].str.split('~').str[0]\n",
    "final_274['lokalizacia_hlavnej_diagnozy'] = final['lokalizacia_hlavnej_diagnozy']\n",
    "final_274['kody_vedlajsich_diagnoz'] = final['diagnozy'].str.split('~').apply(lambda z: '@'.join(z[1:]) if len(z) > 1 else pd.NA)\n",
    "final_274['lokalizacie_vedlajsich_diagnoz'] = final['lokalizacie_vedlajsich_diagnoz'].str.replace('~', '@')\n",
    "final_274['dlzka_osetrovacej_doby'] = final['osetrovacia_doba']\n",
    "final_274['dni_priepustka'] = final['dni_priepustka']\n",
    "final_274['drg'] = final['drg']\n",
    "final_274['erv'] = final['erv']\n",
    "final_274['kod_drg_pp'] = final['kod_drg_pp'].str.replace('~', '@')\n",
    "final_274['cena_drg_pp'] = final['cena_drg_pp'].str.replace('~', '@')\n",
    "final_274['cas_prijatia'] = final['datum_od'].dt.time\n",
    "final_274['cas_prepustenia'] = final['datum_do'].dt.time\n",
    "final_274['zlucovane_hp'] = final['zlucene_hp']\n",
    "final_274['pzs_ico'] = final['pzs_ico']\n",
    "final_274['id_hp_pzs'] = final['id_hp_pzs']\n",
    "\n",
    "pzs_ico_centralne_riadenie = ['37957937', '00606715', '00165549', '17336007', '00610470', '00610381', '17335825', '00165336', '00607231', '31813861', '00606707', '00365327', '00227811', '35971126', '36513458', '36644331', '36603350', '36601284']\n",
    "final_274 = final_274.query('pzs_ico.isin(@pzs_ico_centralne_riadenie)')"
   ]
  },
  {
   "cell_type": "code",
   "execution_count": 87,
   "id": "120",
   "metadata": {},
   "outputs": [],
   "source": [
    "# Exportuj do csv\n",
    "\n",
    "final_274.to_csv(_paths['vystupy'] / f'f274_{\"_\".join(_spracovat)}_osn_vsetka_starostlivost_f274_{_rok}.csv', sep='|', index=False)"
   ]
  },
  {
   "cell_type": "markdown",
   "id": "121",
   "metadata": {},
   "source": [
    "## Priprava dat pre algoritmus"
   ]
  },
  {
   "cell_type": "code",
   "execution_count": 88,
   "id": "122",
   "metadata": {},
   "outputs": [],
   "source": [
    "# Pridaj stlpec s odbornostami (aktualne prazdny) a vyber iba chcene stlpce\n",
    "\n",
    "_verzia_algoritmu = 'v2024.2'\n",
    "\n",
    "if _verzia_algoritmu == 'v2024.1':\n",
    "    _for_algorithm = final[['id_hp', 'vek_roky', 'vek_dni', 'hmotnost', 'upv', 'diagnozy', 'vykony', 'drg']]\n",
    "    _for_algorithm.insert(7, \"odbornosti\", pd.NA)\n",
    "            \n",
    "    _doplneny_vek_dni = _for_algorithm[_for_algorithm['vek_roky'] >= 1]['vek_dni'].fillna(0)\n",
    "    _for_algorithm.loc[_doplneny_vek_dni.index,['vek_dni']] = _doplneny_vek_dni\n",
    "elif _verzia_algoritmu == 'v2024.2':\n",
    "    _for_algorithm = final[['id_hp', 'vek_roky', 'hmotnost', 'upv', 'diagnozy', 'vykony', 'drg']]\n"
   ]
  },
  {
   "cell_type": "code",
   "execution_count": 89,
   "id": "123",
   "metadata": {},
   "outputs": [],
   "source": [
    "# Dopln dalsie numericke hodnoty na 0\n",
    "\n",
    "_doplnena_hmotnost = _for_algorithm[~(_for_algorithm['vek_roky'] == 0)]['hmotnost'].fillna(0)\n",
    "_for_algorithm.loc[_doplnena_hmotnost.index,['hmotnost']] = _doplnena_hmotnost\n",
    "\n",
    "_for_algorithm.loc[:, ['upv']] = _for_algorithm['upv'].fillna(0)"
   ]
  },
  {
   "cell_type": "code",
   "execution_count": 90,
   "id": "124",
   "metadata": {},
   "outputs": [
    {
     "name": "stdout",
     "output_type": "stream",
     "text": [
      "446700\n",
      "id_hp       446700\n",
      "vek_roky       105\n",
      "hmotnost      1796\n",
      "upv            694\n",
      "diagnozy    169520\n",
      "vykony      232366\n",
      "drg           1119\n",
      "dtype: int64\n"
     ]
    }
   ],
   "source": [
    "# Vyexportuj do csv\n",
    "\n",
    "print(len(_for_algorithm))\n",
    "\n",
    "print(_for_algorithm.nunique())\n",
    "\n",
    "_for_algorithm.to_csv(_paths['vystupy'] / f'osn_vsetka_starostlivost_{_rok}_pre_algoritmus_{_verzia_algoritmu}.csv', sep=';', header=False, index=False)\n"
   ]
  },
  {
   "cell_type": "markdown",
   "id": "125",
   "metadata": {},
   "source": [
    "# Rozdeľ validačné výstupy podľa poisťovní"
   ]
  },
  {
   "cell_type": "code",
   "execution_count": 91,
   "id": "126",
   "metadata": {},
   "outputs": [],
   "source": [
    "for _kod in _spracovat:\n",
    "    p = _paths['validacia'] / f'{_kod}'\n",
    "    p.mkdir()\n",
    "\n",
    "for file in _paths['validacia'].iterdir():\n",
    "    if file.is_dir():\n",
    "        continue\n",
    "    df = pd.read_csv(file, sep=';', dtype='str')\n",
    "    for _kod in _spracovat:\n",
    "        zp_df = df[df['kod_zp'] == f'{_kod}']\n",
    "        if not zp_df.empty:\n",
    "            zp_df.to_csv(_paths['validacia'] / f'{_kod}' / f'{_kod}_{file.stem}.csv', index=False, sep=';')"
   ]
  },
  {
   "cell_type": "markdown",
   "id": "127",
   "metadata": {},
   "source": [
    "# Validácia s tabuľkou 13"
   ]
  },
  {
   "cell_type": "code",
   "execution_count": 92,
   "id": "128",
   "metadata": {},
   "outputs": [
    {
     "data": {
      "text/plain": [
       "683"
      ]
     },
     "execution_count": 92,
     "metadata": {},
     "output_type": "execute_result"
    }
   ],
   "source": [
    "# Najdi relevantne tabuľky\n",
    "sumar = pd.concat([_data[k]['sumar'] for k in _spracovat], ignore_index=True)\n",
    "sumar['pocet'] = sumar['pocet'].astype('Int32')\n",
    "\n",
    "len(sumar)"
   ]
  },
  {
   "cell_type": "code",
   "execution_count": 93,
   "id": "129",
   "metadata": {},
   "outputs": [],
   "source": [
    "# Vytvor sumar z final v rovnakom tvare, ako je vykazovany poistovanmi v tabulke 13 a porovnaj\n",
    "\n",
    "_final_sumar = final.groupby(by=['kod_zp', 'pzs_6', 'typ_starostlivosti'])['id_hp'].count().astype('Int32').rename('pocet')\n",
    "\n",
    "sumar = sumar.merge(_final_sumar, on=['kod_zp', 'pzs_6', 'typ_starostlivosti'], how='outer', suffixes=['_vykazany', '_spocitany'])\n",
    "\n",
    "sumar['rozdiel_absolutny'] = sumar['pocet_vykazany'].fillna(0) - sumar['pocet_spocitany'].fillna(0)\n",
    "sumar['rozdiel_relativny'] = (sumar['rozdiel_absolutny'] / sumar[['pocet_spocitany', 'pocet_vykazany']].max(axis=1)).abs()\n",
    "sumar = sumar.set_index(['kod_zp', 'pzs_6', 'typ_starostlivosti'])"
   ]
  },
  {
   "cell_type": "code",
   "execution_count": 94,
   "id": "130",
   "metadata": {},
   "outputs": [],
   "source": [
    "sumar.to_csv(_paths['validacia'] / 'sumar_porovnanie.csv', **{**_argumenty_reportu, 'index': True})\n",
    "sumar[sumar['rozdiel_relativny'] > 0.05].to_csv(_paths['validacia'] / 'sumar_vysoke_rozdiely.csv', **{**_argumenty_reportu, 'index': True})"
   ]
  },
  {
   "cell_type": "code",
   "execution_count": 95,
   "id": "131",
   "metadata": {},
   "outputs": [
    {
     "data": {
      "application/vnd.microsoft.datawrangler.viewer.v0+json": {
       "columns": [
        {
         "name": "index",
         "rawType": "int64",
         "type": "integer"
        },
        {
         "name": "typ_starostlivosti",
         "rawType": "object",
         "type": "string"
        },
        {
         "name": "kod_zp",
         "rawType": "Int8",
         "type": "integer"
        },
        {
         "name": "rozdiel_absolutny",
         "rawType": "Int32",
         "type": "integer"
        }
       ],
       "conversionMethod": "pd.DataFrame",
       "ref": "690d64a7-b605-4e15-9ca2-b9b93b65cfe2",
       "rows": [
        [
         "0",
         "DRG",
         "24",
         "5564"
        ],
        [
         "1",
         "DRG",
         "27",
         "-2709"
        ],
        [
         "2",
         "JZS",
         "24",
         "-141"
        ],
        [
         "3",
         "JZS",
         "27",
         "0"
        ],
        [
         "4",
         "JZS2",
         "24",
         "0"
        ],
        [
         "5",
         "UH",
         "24",
         "647"
        ],
        [
         "6",
         "UH",
         "27",
         "0"
        ]
       ],
       "shape": {
        "columns": 3,
        "rows": 7
       }
      },
      "text/html": [
       "<div>\n",
       "<style scoped>\n",
       "    .dataframe tbody tr th:only-of-type {\n",
       "        vertical-align: middle;\n",
       "    }\n",
       "\n",
       "    .dataframe tbody tr th {\n",
       "        vertical-align: top;\n",
       "    }\n",
       "\n",
       "    .dataframe thead th {\n",
       "        text-align: right;\n",
       "    }\n",
       "</style>\n",
       "<table border=\"1\" class=\"dataframe\">\n",
       "  <thead>\n",
       "    <tr style=\"text-align: right;\">\n",
       "      <th></th>\n",
       "      <th>typ_starostlivosti</th>\n",
       "      <th>kod_zp</th>\n",
       "      <th>rozdiel_absolutny</th>\n",
       "    </tr>\n",
       "  </thead>\n",
       "  <tbody>\n",
       "    <tr>\n",
       "      <th>0</th>\n",
       "      <td>DRG</td>\n",
       "      <td>24</td>\n",
       "      <td>5564</td>\n",
       "    </tr>\n",
       "    <tr>\n",
       "      <th>1</th>\n",
       "      <td>DRG</td>\n",
       "      <td>27</td>\n",
       "      <td>-2709</td>\n",
       "    </tr>\n",
       "    <tr>\n",
       "      <th>2</th>\n",
       "      <td>JZS</td>\n",
       "      <td>24</td>\n",
       "      <td>-141</td>\n",
       "    </tr>\n",
       "    <tr>\n",
       "      <th>3</th>\n",
       "      <td>JZS</td>\n",
       "      <td>27</td>\n",
       "      <td>0</td>\n",
       "    </tr>\n",
       "    <tr>\n",
       "      <th>4</th>\n",
       "      <td>JZS2</td>\n",
       "      <td>24</td>\n",
       "      <td>0</td>\n",
       "    </tr>\n",
       "    <tr>\n",
       "      <th>5</th>\n",
       "      <td>UH</td>\n",
       "      <td>24</td>\n",
       "      <td>647</td>\n",
       "    </tr>\n",
       "    <tr>\n",
       "      <th>6</th>\n",
       "      <td>UH</td>\n",
       "      <td>27</td>\n",
       "      <td>0</td>\n",
       "    </tr>\n",
       "  </tbody>\n",
       "</table>\n",
       "</div>"
      ],
      "text/plain": [
       "  typ_starostlivosti  kod_zp  rozdiel_absolutny\n",
       "0                DRG      24               5564\n",
       "1                DRG      27              -2709\n",
       "2                JZS      24               -141\n",
       "3                JZS      27                  0\n",
       "4               JZS2      24                  0\n",
       "5                 UH      24                647\n",
       "6                 UH      27                  0"
      ]
     },
     "execution_count": 95,
     "metadata": {},
     "output_type": "execute_result"
    }
   ],
   "source": [
    "sumar.groupby(['typ_starostlivosti', 'kod_zp'])['rozdiel_absolutny'].sum().reset_index()"
   ]
  },
  {
   "cell_type": "code",
   "execution_count": null,
   "id": "132",
   "metadata": {},
   "outputs": [
    {
     "data": {
      "text/plain": [
       "typ_starostlivosti  kod_zp\n",
       "DRG                 24           3.0\n",
       "                    27       -4174.0\n",
       "JZS                 24          <NA>\n",
       "                    27          <NA>\n",
       "JZS2                24          <NA>\n",
       "UH                  24          <NA>\n",
       "                    27          <NA>\n",
       "dtype: Float64"
      ]
     },
     "execution_count": 96,
     "metadata": {},
     "output_type": "execute_result"
    },
    {
     "ename": "",
     "evalue": "",
     "output_type": "error",
     "traceback": [
      "\u001b[1;31mThe Kernel crashed while executing code in the current cell or a previous cell. \n",
      "\u001b[1;31mPlease review the code in the cell(s) to identify a possible cause of the failure. \n",
      "\u001b[1;31mClick <a href='https://aka.ms/vscodeJupyterKernelCrash'>here</a> for more info. \n",
      "\u001b[1;31mView Jupyter <a href='command:jupyter.viewOutput'>log</a> for further details."
     ]
    }
   ],
   "source": [
    "# Ako by sa zmenili pocty, pokial by sa pripocitali aj vylucene HP \n",
    "\n",
    "sumar.groupby(['typ_starostlivosti', 'kod_zp'])['rozdiel_absolutny'].sum() - drg[drg['id_hp'].isin(_id_na_vylucenie)].groupby(['typ_starostlivosti', 'kod_zp'])['id_hp'].count().fillna(0)"
   ]
  }
 ],
 "metadata": {
  "kernelspec": {
   "display_name": "osn",
   "language": "python",
   "name": "python3"
  },
  "language_info": {
   "codemirror_mode": {
    "name": "ipython",
    "version": 3
   },
   "file_extension": ".py",
   "mimetype": "text/x-python",
   "name": "python",
   "nbconvert_exporter": "python",
   "pygments_lexer": "ipython3",
   "version": "3.11.11"
  }
 },
 "nbformat": 4,
 "nbformat_minor": 5
}
