{
 "cells": [
  {
   "cell_type": "markdown",
   "id": "a95133e8",
   "metadata": {},
   "source": [
    "# Úvodné nastavenie"
   ]
  },
  {
   "cell_type": "markdown",
   "id": "72dc14db",
   "metadata": {},
   "source": [
    "## Načítanie knižníc"
   ]
  },
  {
   "cell_type": "code",
   "execution_count": 4,
   "id": "6d55f764-d630-4ecd-8703-8edf17dd78ba",
   "metadata": {},
   "outputs": [],
   "source": [
    "from pathlib import Path\n",
    "import pandas as pd # type: ignore\n",
    "import numpy as np # type: ignore\n",
    "from datetime import datetime\n"
   ]
  },
  {
   "cell_type": "code",
   "execution_count": 5,
   "id": "6386a7f4",
   "metadata": {},
   "outputs": [],
   "source": [
    "# Aby fungovalo nacitanie spolocnych funkcii, je nutne ich nainstalovat cez `pip install .` na urovni, kde sa nachadza pyproject.toml\n",
    "\n",
    "from OSN_common.nacitanie_dat import nacitaj_data_zp, nacitaj_prevodove_subory\n",
    "from OSN_common.pomocne_funkcie import zjednot_kod"
   ]
  },
  {
   "cell_type": "markdown",
   "id": "f3796c1d",
   "metadata": {},
   "source": [
    "## Konfigurácia výstupných súborov"
   ]
  },
  {
   "cell_type": "code",
   "execution_count": 6,
   "id": "610a230d",
   "metadata": {},
   "outputs": [
    {
     "name": "stdout",
     "output_type": "stream",
     "text": [
      "Ukladam data do priecinku Vystupy/20240717_105809\n"
     ]
    }
   ],
   "source": [
    "_paths = {\n",
    "    \"vystupy\": Path('.') / \"Vystupy\"\n",
    "}\n",
    "\n",
    "_datum = datetime.now().strftime(\"%Y%m%d_%H%M%S\")\n",
    "\n",
    "_paths['vystupy'] = _paths['vystupy'] / _datum\n",
    "_paths['vystupy'].mkdir()\n",
    "\n",
    "_paths['validacia'] = _paths['vystupy'] / 'validacia'\n",
    "_paths['validacia'].mkdir()\n",
    "\n",
    "print(f'Ukladam data do priecinku {_paths[\"vystupy\"]}')"
   ]
  },
  {
   "cell_type": "markdown",
   "id": "200115e4",
   "metadata": {},
   "source": [
    "# Načítanie dát"
   ]
  },
  {
   "cell_type": "code",
   "execution_count": 7,
   "id": "6e8e5d74",
   "metadata": {},
   "outputs": [
    {
     "name": "stdout",
     "output_type": "stream",
     "text": [
      "Nacitavam data pre poistovnu dovera\n",
      "Nacitavam data zo suboru 2023_24_01_UZS_JZS_oprava.csv\n",
      "Nacitavam data zo suboru 2023_24_02_HP_oprava.csv\n",
      "Nacitavam data zo suboru 2023_24_03_PREKLAD_oprava.csv\n",
      "Nacitavam data zo suboru 2023_24_04_VDG.csv\n",
      "Nacitavam data zo suboru 2023_24_05_VYKON.csv\n",
      "Nacitavam data zo suboru 2023_24_09_POISTENCI_oprava.csv\n",
      "Nacitavam data zo suboru 2023_24_13_SUMAR.csv\n",
      "Nacitavam data pre poistovnu vzp\n",
      "Nacitavam data zo suboru 2023_25_01_UZS_JZS_oprava.csv\n",
      "Nacitavam data zo suboru 2023_25_02_HP_oprava.csv\n",
      "Nacitavam data zo suboru 2023_25_03_PREKLAD.csv\n",
      "Nacitavam data zo suboru 2023_25_04_VDG.csv\n",
      "Nacitavam data zo suboru 2023_25_05_VYKON.csv\n",
      "Nacitavam data zo suboru 2023_25_09_POISTENCI_oprava.csv\n",
      "Nacitavam data zo suboru 2023_25_09_POISTENCI_doplnenie.csv\n",
      "Nacitavam data zo suboru 2023_25_13_SUMAR.csv\n",
      "Nacitavam data pre poistovnu union\n",
      "Nacitavam data zo suboru 2023_27_01_UZS_JZS_oprava.csv\n",
      "Nacitavam data zo suboru 2023_27_02_HP_oprava.csv\n",
      "Nacitavam data zo suboru 2023_27_03_PREKLAD_oprava.csv\n",
      "Nacitavam data zo suboru 2023_27_04_VDG_oprava.csv\n",
      "Nacitavam data zo suboru 2023_27_05_VYKON_oprava.csv\n",
      "Nacitavam data zo suboru 2023_27_09_POISTENCI_oprava.csv\n",
      "Nacitavam data zo suboru 2023_27_13_SUMAR_oprava.csv\n"
     ]
    }
   ],
   "source": [
    "_rok = 2023\n",
    "_spracovat = [24, 25, 27]\n",
    "\n",
    "_data = nacitaj_data_zp(_rok, _spracovat)\n"
   ]
  },
  {
   "cell_type": "markdown",
   "id": "1c1fae15",
   "metadata": {},
   "source": [
    "# Predspracovanie dát"
   ]
  },
  {
   "cell_type": "markdown",
   "id": "c7c96e11",
   "metadata": {},
   "source": [
    "## Priprav dat UZS_JZS (`uzs`)"
   ]
  },
  {
   "cell_type": "markdown",
   "id": "a9ecadd5",
   "metadata": {},
   "source": [
    "### Predspracuj data zo suboru 01_UZS_JZS"
   ]
  },
  {
   "cell_type": "code",
   "execution_count": 8,
   "id": "9a7738b7",
   "metadata": {},
   "outputs": [
    {
     "data": {
      "text/plain": [
       "1317575"
      ]
     },
     "execution_count": 8,
     "metadata": {},
     "output_type": "execute_result"
    }
   ],
   "source": [
    "# Najdi relevantne tabuľky\n",
    "_uzs = pd.concat([_data[k]['uzs_jzs'] for k in _spracovat], ignore_index=True)\n",
    "\n",
    "len(_uzs)"
   ]
  },
  {
   "cell_type": "code",
   "execution_count": 9,
   "id": "6c2bb468",
   "metadata": {},
   "outputs": [
    {
     "data": {
      "text/plain": [
       "1317574"
      ]
     },
     "execution_count": 9,
     "metadata": {},
     "output_type": "execute_result"
    }
   ],
   "source": [
    "# Vyluc riadky, kde typ hospitalizacie je \"pripocitatelna polozka\"\n",
    "_uzs = _uzs[_uzs['typ_hospitalizacie'] != 'Z']\n",
    "\n",
    "_uzs = _uzs.drop(columns=['typ_hospitalizacie'])\n",
    "\n",
    "len(_uzs)"
   ]
  },
  {
   "cell_type": "code",
   "execution_count": 10,
   "id": "6aef9f23",
   "metadata": {},
   "outputs": [],
   "source": [
    "# Exportuj riadky, kde chyba ID hospitalizacie a typ je DRG alebo UH.\n",
    "_reportovane_stlpce = ['kod_zp','id_hp']\n",
    "_argumenty_reportu = {'sep': ';', 'index': False}\n",
    "\n",
    "_uzs[_uzs['id_hp'].isna() & _uzs['typ_starostlivosti'].isin(['DRG', 'UH'])][_reportovane_stlpce + ['id_poistenca', 'typ_starostlivosti', 'pzs_12', 'obdobie']].to_csv(_paths['validacia'] / 'id_hp_chybajuce_01.csv', **_argumenty_reportu)\n"
   ]
  },
  {
   "cell_type": "code",
   "execution_count": 11,
   "id": "2a93db30",
   "metadata": {},
   "outputs": [],
   "source": [
    "# Prirad cislo riadku ako ID_HP pre chybajuce ID\n",
    "# Takato hospitalizacia sa neda naparovat na ostatne subory (nie je problem v pripade JZS), ale je to lepsie ako ich vyhodit\n",
    "_uzs.loc[_uzs.id_hp.isna(), 'id_hp'] = 'x' + _uzs[_uzs.id_hp.isna()].index.map(str)"
   ]
  },
  {
   "cell_type": "code",
   "execution_count": 12,
   "id": "24a3f794",
   "metadata": {},
   "outputs": [],
   "source": [
    "# Ocisti kody vykonov a diagnoz na standardizovany tvar - len male pismena a cisla.\n",
    "\n",
    "_stlpce_s_kodmi = ['kod_operacneho_vykonu', 'kod_jednodnoveho_vykonu', 'dgn_prijem', 'dgn_prepustenie']\n",
    "\n",
    "_uzs[_stlpce_s_kodmi] = _uzs[_stlpce_s_kodmi].apply(lambda col: col.apply(zjednot_kod))"
   ]
  },
  {
   "cell_type": "code",
   "execution_count": 13,
   "id": "03ed4d68",
   "metadata": {},
   "outputs": [],
   "source": [
    "# Chceme pocitat pocet spravenych vykonov, tak vytvor kombinaciu vykon-obdobie,\n",
    "# aby sa vykon spravne zapocital viackrat, ak bol pocas jednej hospitalizacie\n",
    "# robeny viackrat.\n",
    "# Vytvor zoznam vykonov v tvare, ako ho pouzivame pre algoritmus. \n",
    "# Kedze uzs data neobsahuju datum vykonu, iba obdobie, v ktorom bola dodana starostlivost, pouzi namiesto dna xx\n",
    "# Kedze uzs data neobsahuju lokalizaciu vykonu, pouzi kod Z \"neznama lokalizacia\"\n",
    "\n",
    "_uzs['operacny_vykon'] = _uzs['kod_operacneho_vykonu'] + '&Z&' + _uzs['obdobie'].str.replace('-', '') + 'xx'\n",
    "_uzs['jednodnovy_vykon'] = _uzs['kod_jednodnoveho_vykonu'] + '&Z&' + _uzs['obdobie'].str.replace('-', '') + 'xx'\n",
    "\n",
    "_uzs = _uzs.drop(columns=['kod_operacneho_vykonu', 'kod_jednodnoveho_vykonu'])\n"
   ]
  },
  {
   "cell_type": "markdown",
   "id": "93f31e76",
   "metadata": {},
   "source": [
    "### Zjednoť dáta v `uzs`"
   ]
  },
  {
   "cell_type": "code",
   "execution_count": 14,
   "id": "6b9875bc",
   "metadata": {},
   "outputs": [],
   "source": [
    "# Zjednot celu tabulku tak, aby id_hp bolo unikatnym identifikatorom (kazdy riadok samostatne id_hp).\n",
    "\n",
    "# Pomocná funkcia na jednoriadkový zápis odstránenia prvku z množiny\n",
    "def _discard(s, e):\n",
    "    s.discard(e)\n",
    "    return s\n",
    "\n",
    "# pomocná funkcia na jednoriadkový zápis odstránenia nan hodnôt\n",
    "def _dropna(a):\n",
    "    return a[pd.notnull(a)]\n",
    "\n",
    "# pomocna funkcia na vlozenie prvku na zaciatok\n",
    "def _insert_first(l, a):\n",
    "    l.insert(0, a)\n",
    "    return l\n",
    "\n",
    "# Tabuľka `uzs` zoskupená podľa id_hp, na ktorom sa budú agregovať jednotlivé stĺpce\n",
    "_grouped_uzs = _uzs.sort_values(by=['obdobie', 'datum_od', 'datum_do'], ascending=True, na_position='first').groupby(by=['kod_zp', 'id_hp'])\n",
    "\n",
    "# Tabuľka, do ktorej sa budú ukladať výstupné zjednotenia\n",
    "zjednotene_uzs = pd.DataFrame()"
   ]
  },
  {
   "cell_type": "code",
   "execution_count": 15,
   "id": "8059f5f4",
   "metadata": {},
   "outputs": [],
   "source": [
    "# 'datum_od' vezmi najmensi\n",
    "# 'datum_do' vezmi najvacsi\n",
    "# 'obdobie_od' vezmi najmensie obdobie\n",
    "# 'obdobie_do' vezmi najvacsie obdobie\n",
    "# (Mozeme si dovolit pouzit first a last kedze je to zoradene, min a max su o dost pomalsie)\n",
    "\n",
    "zjednotene_uzs['datum_od'] = _grouped_uzs['datum_od'].first()\n",
    "zjednotene_uzs['datum_do'] = _grouped_uzs['datum_do'].last()\n",
    "zjednotene_uzs['obdobie_od'] = _grouped_uzs['obdobie'].first()\n",
    "zjednotene_uzs['obdobie_do'] = _grouped_uzs['obdobie'].last()"
   ]
  },
  {
   "cell_type": "code",
   "execution_count": 16,
   "id": "e05646e8",
   "metadata": {},
   "outputs": [],
   "source": [
    "# vykony: vytvor zoznam vykonanych vykonov\n",
    "\n",
    "zjednotene_uzs['vykony'] =  _grouped_uzs[['operacny_vykon', 'jednodnovy_vykon']].apply(lambda z: '~'.join(_dropna(z.values.flatten()))).replace('', pd.NA)\n"
   ]
  },
  {
   "cell_type": "code",
   "execution_count": 17,
   "id": "3fb614c2",
   "metadata": {},
   "outputs": [],
   "source": [
    "# diagnozy: \n",
    "#   posledna znama diagnoza pri prepusteni je hlavna diagnoza\n",
    "#       ak nebola ziadna dianoza pri prepusteni, vezmi poslednu znamu diagnozu pri prijati \n",
    "#   vytvor mnozinu vsetkych diagnoz, bude obsahovat aj hlavnu diagnozu na zaciatku\n",
    "\n",
    "zjednotene_uzs['posledna_dgn_prepustenie'] = _grouped_uzs['dgn_prepustenie'].last()\n",
    "zjednotene_uzs['posledna_dgn_prijem'] = _grouped_uzs['dgn_prijem'].last()\n",
    "zjednotene_uzs['hlavna_diagnoza'] = zjednotene_uzs['posledna_dgn_prepustenie'].fillna(zjednotene_uzs['posledna_dgn_prijem'])\n",
    "zjednotene_uzs = zjednotene_uzs.drop(columns=['posledna_dgn_prepustenie', 'posledna_dgn_prijem'])\n",
    "\n",
    "zjednotene_uzs['diagnozy'] = _grouped_uzs[['dgn_prijem', 'dgn_prepustenie']].apply(lambda z: set(_dropna(z.values.flatten())))\n",
    "zjednotene_uzs['diagnozy'] = zjednotene_uzs[['hlavna_diagnoza', 'diagnozy']].apply(lambda r: '~'.join(_insert_first(list(_discard(r['diagnozy'], r['hlavna_diagnoza'])), r['hlavna_diagnoza'])), axis=1)"
   ]
  },
  {
   "cell_type": "code",
   "execution_count": 18,
   "id": "c6231df2",
   "metadata": {},
   "outputs": [],
   "source": [
    "# 'typ_starostlivosti', 'pzs_12 a 'pzs_8' vezmi prve\n",
    "# 'id_poistenca' vezmi posledne (stavalo sa pri porodoch, ze jedno id_hp, malo dvoch poistencov, kedze najprv to bolo pisane na matku az neskor na dieta)\n",
    "\n",
    "zjednotene_uzs['typ_starostlivosti'] = _grouped_uzs['typ_starostlivosti'].first()\n",
    "zjednotene_uzs['pzs_12'] = _grouped_uzs['pzs_12'].first()\n",
    "zjednotene_uzs['id_poistenca'] = _grouped_uzs['id_poistenca'].last()"
   ]
  },
  {
   "cell_type": "code",
   "execution_count": 19,
   "id": "cbaf2640",
   "metadata": {},
   "outputs": [
    {
     "name": "stdout",
     "output_type": "stream",
     "text": [
      "1194663\n",
      "kod_zp                      3\n",
      "id_hp                 1194663\n",
      "datum_od                  597\n",
      "datum_do                  365\n",
      "obdobie_od                 18\n",
      "obdobie_do                 13\n",
      "vykony                  32880\n",
      "hlavna_diagnoza          8569\n",
      "diagnozy                96512\n",
      "typ_starostlivosti          4\n",
      "pzs_12                   1995\n",
      "id_poistenca           716567\n",
      "dtype: int64\n"
     ]
    }
   ],
   "source": [
    "# Vypis statistiky\n",
    "\n",
    "# napoveda k nazvom stlpcov v povodnom R kode:\n",
    "# ID_POI_ZP = id_poistenca\n",
    "# ID_HOSP_ZP = id_hp\n",
    "# DAT_PRIJ = datum_od\n",
    "# DAT_PREP = datum_do\n",
    "# KOD_VYK_OPER = kod_operacneho_vykonu\n",
    "# TYP_ZS = typ_hospitalizacie\n",
    "# ins_name = kod_zp\n",
    "# nemP01 = pzs_8\n",
    "# id_hosp_nem = id_hp_pzs_8\n",
    "# diag_uzs = dgn_prijem\n",
    "# vykon_uzs = kod_vykonu_obdobie\n",
    "\n",
    "print(len(zjednotene_uzs))\n",
    "print(zjednotene_uzs.reset_index().nunique())"
   ]
  },
  {
   "cell_type": "markdown",
   "id": "223c7273",
   "metadata": {},
   "source": [
    "## Priprava dat DRG"
   ]
  },
  {
   "cell_type": "markdown",
   "id": "00110e09",
   "metadata": {},
   "source": [
    "### Priprav data zo suboru 02_HP_UDAJE"
   ]
  },
  {
   "cell_type": "code",
   "execution_count": 20,
   "id": "b54b8f5b",
   "metadata": {},
   "outputs": [
    {
     "data": {
      "text/plain": [
       "798355"
      ]
     },
     "execution_count": 20,
     "metadata": {},
     "output_type": "execute_result"
    }
   ],
   "source": [
    "# Najdi relevantne tabulky\n",
    "_drg_full = pd.concat([_data[i]['hp'] for i in _spracovat], ignore_index=True)\n",
    "\n",
    "len(_drg_full)"
   ]
  },
  {
   "cell_type": "code",
   "execution_count": 21,
   "id": "c89ecf6a",
   "metadata": {},
   "outputs": [
    {
     "name": "stdout",
     "output_type": "stream",
     "text": [
      "798355\n",
      "kod_zp                     3\n",
      "id_hp_pzs             113098\n",
      "id_hp                 798355\n",
      "id_poistenca          514731\n",
      "pzs_6                     90\n",
      "datum_od              258433\n",
      "datum_do              160193\n",
      "osetrovacia_doba         172\n",
      "vek_dni                  367\n",
      "vek_roky                 104\n",
      "hmotnost                2177\n",
      "upv                      992\n",
      "datum_narodenia        35593\n",
      "hlavna_diagnoza         7569\n",
      "drg                     1144\n",
      "erv                    14721\n",
      "zlucene_hp              8589\n",
      "typ_starostlivosti         2\n",
      "dtype: int64\n"
     ]
    }
   ],
   "source": [
    "# Vyhod nepotrebne stlpce (v tomto pripade ziadne) a duplikaty\n",
    "\n",
    "# napoveda k nazvom stlpcov v povodnom R subore\n",
    "# ID_HP_DZP = id_hp\n",
    "# vek_zapis = vek_roky\n",
    "# HMOTNOST = hmotnost\n",
    "# UPV = upv\n",
    "# KOD_DIAG_HL = hlavna_diagnoza\n",
    "# KOD_DRG = drg\n",
    "# DAT_OD = datum_od\n",
    "# DAT_DO = datum_do\n",
    "# KOD_PZS = pzs_6\n",
    "# TYP_ZS = typ_starostlivosti\n",
    "# ins_name = kod_zp\n",
    "# ID_HP_PZS = id_hp_pzs\n",
    "\n",
    "drg = _drg_full.drop_duplicates()\n",
    "\n",
    "print(len(drg))\n",
    "print(drg.nunique())\n"
   ]
  },
  {
   "cell_type": "markdown",
   "id": "a66c0d38",
   "metadata": {},
   "source": [
    "### Priprav data zo suboru 03_HP_PREKLADY"
   ]
  },
  {
   "cell_type": "code",
   "execution_count": 22,
   "id": "569671e6",
   "metadata": {},
   "outputs": [
    {
     "name": "stdout",
     "output_type": "stream",
     "text": [
      "984556\n",
      "kod_zp           3\n",
      "id_hp       798019\n",
      "pzs_12        1250\n",
      "datum_od       503\n",
      "datum_do       468\n",
      "dtype: int64\n"
     ]
    }
   ],
   "source": [
    "# vyber relevantne tabulky\n",
    "preklady = pd.concat([_data[i]['preklady'] for i in _spracovat], ignore_index=True)\n",
    "\n",
    "print(len(preklady))\n",
    "print(preklady.nunique())"
   ]
  },
  {
   "cell_type": "code",
   "execution_count": 23,
   "id": "2f26af41",
   "metadata": {},
   "outputs": [
    {
     "name": "stdout",
     "output_type": "stream",
     "text": [
      "798019\n",
      "kod_zp                     3\n",
      "id_hp_pzs             113097\n",
      "id_hp                 798019\n",
      "id_poistenca          514601\n",
      "pzs_6                     90\n",
      "datum_od              258433\n",
      "datum_do              160193\n",
      "osetrovacia_doba         172\n",
      "vek_dni                  367\n",
      "vek_roky                 104\n",
      "hmotnost                2177\n",
      "upv                      992\n",
      "datum_narodenia        35593\n",
      "hlavna_diagnoza         7569\n",
      "drg                     1144\n",
      "erv                    14719\n",
      "zlucene_hp              8589\n",
      "typ_starostlivosti         2\n",
      "pzs_12                  1238\n",
      "dtype: int64\n"
     ]
    }
   ],
   "source": [
    "# Priprav na pripojenie k suboru 02_HP_UDAJE\n",
    "# vytvor pzs_6 ako prvych 6 cislic z pzs_12\n",
    "# Prirad prve pzs_12 na ktore bolo hp prijate a koresponduje s uvedenym pzs_6 \n",
    "\n",
    "preklady['pzs_6'] = preklady['pzs_12'].str[:6]\n",
    "\n",
    "_grouped_preklady = preklady.sort_values(by=['datum_od', 'datum_do'], ascending=True).groupby(by=['kod_zp', 'id_hp', 'pzs_6'])\n",
    "drg = drg.merge(_grouped_preklady['pzs_12'].first(), on=['kod_zp', 'id_hp', 'pzs_6'])\n",
    "\n",
    "print(len(drg))\n",
    "print(drg.nunique())"
   ]
  },
  {
   "cell_type": "code",
   "execution_count": 24,
   "id": "b317316c",
   "metadata": {},
   "outputs": [],
   "source": [
    "# Exportuj preklady, ktore pre rovnaky id_hp maju zaznamenany preklad medzi roznymi poskytovatelmi\n",
    "\n",
    "_pocty_pzs6 = preklady.groupby(['kod_zp', 'id_hp'])['pzs_6'].nunique()\n",
    "\n",
    "preklady.set_index(['kod_zp', 'id_hp']).loc[_pocty_pzs6[_pocty_pzs6 > 1].index].sort_values('datum_do').to_csv(_paths['validacia'] / 'preklady_rozni_poskytovatelia.csv', **{**_argumenty_reportu, 'index': True})"
   ]
  },
  {
   "cell_type": "code",
   "execution_count": 25,
   "id": "c23abd45",
   "metadata": {},
   "outputs": [],
   "source": [
    "# Exportuj zoznam hospitalizacii, ktore nie su zaznamenane v subore 03_PREKLADY\n",
    "\n",
    "drg[drg['pzs_12'].isna()][_reportovane_stlpce + ['pzs_6']].to_csv(_paths['validacia'] / 'preklad_chybajuci.csv', **_argumenty_reportu)"
   ]
  },
  {
   "cell_type": "markdown",
   "id": "bb3f446b",
   "metadata": {},
   "source": [
    "### Priprav data zo suboru 04_HP_VDG"
   ]
  },
  {
   "cell_type": "code",
   "execution_count": 26,
   "id": "99281900",
   "metadata": {},
   "outputs": [
    {
     "data": {
      "text/plain": [
       "2087847"
      ]
     },
     "execution_count": 26,
     "metadata": {},
     "output_type": "execute_result"
    }
   ],
   "source": [
    "# Najdi relevantne tabulky\n",
    "\n",
    "vdg = pd.concat([_data[i]['vdg'] for i in _spracovat], ignore_index=True)\n",
    "\n",
    "len(vdg)"
   ]
  },
  {
   "cell_type": "code",
   "execution_count": 27,
   "id": "6c26fceb",
   "metadata": {},
   "outputs": [
    {
     "name": "stdout",
     "output_type": "stream",
     "text": [
      "2018465\n",
      "kod_zp         3\n",
      "id_hp     574514\n",
      "vdg        10897\n",
      "dtype: int64\n"
     ]
    }
   ],
   "source": [
    "# Vyhod duplicity\n",
    "\n",
    "vdg = vdg.drop_duplicates()\n",
    "\n",
    "print(len(vdg))\n",
    "print(vdg.nunique())"
   ]
  },
  {
   "cell_type": "code",
   "execution_count": 28,
   "id": "3320cb8e",
   "metadata": {},
   "outputs": [],
   "source": [
    "# Vytvor mnozinu vedlajsich diagnoz\n",
    "\n",
    "vdg['vdg'] = vdg['vdg'].str.replace('[^0-9a-zA-Z]', '', regex=True).str.lower()\n",
    "_vedlajsie_diagnozy = vdg.groupby(['kod_zp', 'id_hp'])['vdg'].apply(lambda z: '~'.join(z)).rename('vedlajsie_diagnozy')"
   ]
  },
  {
   "cell_type": "code",
   "execution_count": 29,
   "id": "05d808ab",
   "metadata": {},
   "outputs": [
    {
     "name": "stdout",
     "output_type": "stream",
     "text": [
      "798019\n"
     ]
    }
   ],
   "source": [
    "# Pripoj vedlajsie diagnozy zo suboru 04_HP_VDG k suboru 02_HP, tam, kde neboli priradene pridaj prazdnu mnozinu (fillna(set()) nefunguje)\n",
    "\n",
    "drg = drg.merge(_vedlajsie_diagnozy, how='left', on=['kod_zp', 'id_hp'])\n",
    "\n",
    "print(len(drg))"
   ]
  },
  {
   "cell_type": "markdown",
   "id": "d85f4773",
   "metadata": {},
   "source": [
    "### Priprav data zo suboru 05_HP_ZV"
   ]
  },
  {
   "cell_type": "code",
   "execution_count": 30,
   "id": "d13c46f6",
   "metadata": {},
   "outputs": [],
   "source": [
    "# Vyber relevantne tabulky \n",
    "\n",
    "vykony = pd.concat([_data[i]['vykony'] for i in _spracovat], ignore_index=True)"
   ]
  },
  {
   "cell_type": "code",
   "execution_count": 31,
   "id": "4fe2ac89",
   "metadata": {},
   "outputs": [],
   "source": [
    "# Vytvor identifikator vykonu na zaklade jeho kodu, datumu vykonania a\n",
    "# lokalizacie. Tiez na zaklade jeho kodu, roku a mesiaca vykonania na porovnanie\n",
    "# so suborom 01_UZS_JZS.\n",
    "\n",
    "vykony.loc[:, ['kod_vykonu']] = vykony['kod_vykonu'].apply(zjednot_kod)\n",
    "vykony.loc[:, ['kod_vykonu']] = vykony['kod_vykonu'] + '&' + vykony['lokalizacia_vykonu'].fillna('Z') + '&' + vykony['datum_vykonu'].str.replace('-','').fillna('xxxxxxxx')"
   ]
  },
  {
   "cell_type": "code",
   "execution_count": 32,
   "id": "296c5cad",
   "metadata": {},
   "outputs": [
    {
     "name": "stdout",
     "output_type": "stream",
     "text": [
      "798019\n",
      "kod_zp                     3\n",
      "id_hp_pzs             113097\n",
      "id_hp                 798019\n",
      "id_poistenca          514601\n",
      "pzs_6                     90\n",
      "datum_od              258433\n",
      "datum_do              160193\n",
      "osetrovacia_doba         172\n",
      "vek_dni                  367\n",
      "vek_roky                 104\n",
      "hmotnost                2177\n",
      "upv                      992\n",
      "datum_narodenia        35593\n",
      "hlavna_diagnoza         7569\n",
      "drg                     1144\n",
      "erv                    14719\n",
      "zlucene_hp              8589\n",
      "typ_starostlivosti         2\n",
      "pzs_12                  1238\n",
      "vedlajsie_diagnozy    317965\n",
      "vykony                540511\n",
      "dtype: int64\n"
     ]
    }
   ],
   "source": [
    "# Vytvor zoznam vykonov a Pripoj vykony zo suboru 05_HP_ZV k suboru 02_HP\n",
    "\n",
    "_zoznamy_vykonov = vykony.groupby(['kod_zp', 'id_hp'])['kod_vykonu'].apply(lambda z: '~'.join(z)).rename('vykony')\n",
    "\n",
    "drg = drg.merge(_zoznamy_vykonov, how='left', on=['kod_zp', 'id_hp'])\n",
    "\n",
    "print(len(drg))\n",
    "print(drg.nunique())"
   ]
  },
  {
   "cell_type": "markdown",
   "id": "81dfb404",
   "metadata": {},
   "source": [
    "## Doplnenie DRG dat z UZS_JZS"
   ]
  },
  {
   "cell_type": "code",
   "execution_count": 33,
   "id": "531795a2",
   "metadata": {},
   "outputs": [
    {
     "name": "stdout",
     "output_type": "stream",
     "text": [
      "798019\n",
      "kod_zp                        3\n",
      "id_hp_pzs                113097\n",
      "id_hp                    798019\n",
      "id_poistenca_02          514601\n",
      "pzs_6                        90\n",
      "datum_od_02              258433\n",
      "datum_do_02              160193\n",
      "osetrovacia_doba            172\n",
      "vek_dni                     367\n",
      "vek_roky                    104\n",
      "hmotnost                   2177\n",
      "upv                         992\n",
      "datum_narodenia           35593\n",
      "hlavna_diagnoza_02         7569\n",
      "drg                        1144\n",
      "erv                       14719\n",
      "zlucene_hp                 8589\n",
      "typ_starostlivosti_02         2\n",
      "pzs_12_02                  1238\n",
      "vedlajsie_diagnozy       317965\n",
      "vykony_02                540511\n",
      "datum_od_01                 455\n",
      "datum_do_01                 365\n",
      "obdobie_od                   17\n",
      "obdobie_do                   13\n",
      "vykony_01                 26004\n",
      "hlavna_diagnoza_01         8120\n",
      "diagnozy                  91718\n",
      "typ_starostlivosti_01         2\n",
      "pzs_12_01                  1242\n",
      "id_poistenca_01          514602\n",
      "dtype: int64\n"
     ]
    }
   ],
   "source": [
    "# Pripoj data z 01_UZS_JZS k existujucim datam z 02_HP_UDAJE\n",
    "\n",
    "final = drg.merge(zjednotene_uzs, how='left', on=['kod_zp', 'id_hp'], suffixes=['_02', '_01'])\n",
    "\n",
    "print(len(final))\n",
    "\n",
    "print(final.nunique())"
   ]
  },
  {
   "cell_type": "markdown",
   "id": "c44ccccd",
   "metadata": {},
   "source": [
    "###  Zjednot udaje zo suborov 01_UZS_JZS a 02_HP_UDAJE\n",
    "\n",
    "Prioritu dostava subor 02_HP_UDAJE (`02`)"
   ]
  },
  {
   "cell_type": "markdown",
   "id": "7b22c440",
   "metadata": {},
   "source": [
    "#### ID poistenca"
   ]
  },
  {
   "cell_type": "code",
   "execution_count": 34,
   "id": "f243dd16",
   "metadata": {},
   "outputs": [],
   "source": [
    "final[final['id_poistenca_02'] != final['id_poistenca_01']][_reportovane_stlpce + ['id_poistenca_01','id_poistenca_02']].to_csv(_paths['validacia'] / 'id_poistenca_nezhodne.csv', **_argumenty_reportu)\n",
    "\n",
    "final['id_poistenca'] = final['id_poistenca_02'].fillna(final['id_poistenca_01'])\n",
    "\n",
    "final = final.drop(columns=['id_poistenca_01', 'id_poistenca_02'])"
   ]
  },
  {
   "cell_type": "markdown",
   "id": "123e1b75",
   "metadata": {},
   "source": [
    "####   Typ zdravotnej starostlivosti"
   ]
  },
  {
   "cell_type": "code",
   "execution_count": 35,
   "id": "dd6fbb1b",
   "metadata": {},
   "outputs": [],
   "source": [
    "#   Dovera vykazuje veci svojsky, tak u nej vznikaju nezhody medzi typom ZS zo\n",
    "#   suboru 01 a zo suboru 02. Pri zjednocovani do jedneho typu nam nezhody medzi\n",
    "#   typom UH a DRG momentalne nevadia, ale ak je typ JZS podla suboru 02, tak to\n",
    "#   prepise typ podla suboru 01.\n",
    "#   Ak indikator chyba, prirad non-DRG typ UH.\n",
    "#   Exportuj chybajuci typ starostlivosti a nezhodny typ starostlivosti\n",
    "\n",
    "\n",
    "final[final['typ_starostlivosti_02'] != final['typ_starostlivosti_01']][_reportovane_stlpce + ['typ_starostlivosti_01', 'typ_starostlivosti_02']].to_csv(_paths['validacia'] / 'typ_starostlivosti_nezhodny.csv', **_argumenty_reportu)\n",
    "\n",
    "final[final['typ_starostlivosti_02'] == 'UH'][_reportovane_stlpce + ['typ_starostlivosti_02']].to_csv(_paths['validacia'] / 'typ_starostlivosti_UH_v_02.csv', **_argumenty_reportu)\n",
    "\n",
    "final['typ_starostlivosti'] = final['typ_starostlivosti_02'].fillna(final['typ_starostlivosti_01']).fillna('UH')\n",
    "\n",
    "final = final.drop(columns=['typ_starostlivosti_01', 'typ_starostlivosti_02'])"
   ]
  },
  {
   "cell_type": "markdown",
   "id": "205a7883",
   "metadata": {},
   "source": [
    "#### Kod poskytovatela pzs_12"
   ]
  },
  {
   "cell_type": "code",
   "execution_count": 36,
   "id": "cf212e35",
   "metadata": {},
   "outputs": [],
   "source": [
    "final[final['pzs_12_02'] != final['pzs_12_01']][_reportovane_stlpce + ['pzs_12_01', 'pzs_12_02']].to_csv(_paths['validacia'] / 'pzs_12_rozdielne.csv', **_argumenty_reportu)\n",
    "\n",
    "final['pzs_12'] = final['pzs_12_02'].fillna(final['pzs_12_01'])\n",
    "\n",
    "final = final.drop(columns=['pzs_12_01', 'pzs_12_02'])\n"
   ]
  },
  {
   "cell_type": "markdown",
   "id": "938c9966",
   "metadata": {},
   "source": [
    "#### Datumy"
   ]
  },
  {
   "cell_type": "code",
   "execution_count": 37,
   "id": "39cc5444",
   "metadata": {},
   "outputs": [],
   "source": [
    "_nezhodne_datumy_od = final[['datum_od_01', 'datum_od_02']].notna().all(axis=1) & ((final['datum_od_02'] - final['datum_od_01']).dt.days != 0)\n",
    "_nezhodne_datumy_do = final[['datum_do_01', 'datum_do_02']].notna().all(axis=1) & ((final['datum_do_02'] - final['datum_do_01']).dt.days != 0)\n",
    "final[_nezhodne_datumy_do | _nezhodne_datumy_od][_reportovane_stlpce + ['datum_od_01','datum_od_02','datum_do_01','datum_do_02','typ_starostlivosti', 'obdobie_od', 'obdobie_do']].to_csv(_paths['validacia'] / 'datumy_nezhodne.csv', **_argumenty_reportu)\n",
    "\n",
    "final['datum_od'] = final['datum_od_02'].fillna(final['datum_od_01'])\n",
    "final['datum_do'] = final['datum_do_02'].fillna(final['datum_do_01'])\n",
    "\n",
    "final = final.drop(columns=['datum_od_01', 'datum_do_01', 'datum_od_02', 'datum_do_02'])"
   ]
  },
  {
   "cell_type": "markdown",
   "id": "4fdd92cb",
   "metadata": {},
   "source": [
    "#### Diagnozy"
   ]
  },
  {
   "cell_type": "code",
   "execution_count": 38,
   "id": "400b8f66",
   "metadata": {},
   "outputs": [],
   "source": [
    "# kod hlavnej diagnozy a drg zjednot na standardny tvar male pismena, cisla \n",
    "final[['hlavna_diagnoza_02', 'drg']] = final[['hlavna_diagnoza_02', 'drg']].apply(lambda col: col.apply(zjednot_kod))"
   ]
  },
  {
   "cell_type": "code",
   "execution_count": 39,
   "id": "91fab01c",
   "metadata": {},
   "outputs": [],
   "source": [
    "# Vyexportuj rozdielne a chybajuce hlavne diagnozy\n",
    "\n",
    "final[final['hlavna_diagnoza_01'] != final['hlavna_diagnoza_02']][_reportovane_stlpce + ['hlavna_diagnoza_01', 'hlavna_diagnoza_02']].to_csv(_paths['validacia'] / 'hlavne_diagnozy_nezhodne.csv', **_argumenty_reportu)\n",
    "final[final['hlavna_diagnoza_02'].isna()][_reportovane_stlpce + ['hlavna_diagnoza_02', 'hlavna_diagnoza_01']].to_csv(_paths['validacia'] / 'hlavne_diagnozy_chybajuce_02.csv', **_argumenty_reportu)\n",
    "\n",
    "final['hlavna_diagnoza'] = final['hlavna_diagnoza_02'].fillna(final['hlavna_diagnoza_01'])\n",
    "\n",
    "final = final.drop(columns=['hlavna_diagnoza_01', 'hlavna_diagnoza_02'])"
   ]
  },
  {
   "cell_type": "code",
   "execution_count": 40,
   "id": "1cd1bb29",
   "metadata": {},
   "outputs": [],
   "source": [
    "# Ako vedlajsie diagnozy pouzi vedlajsie diagnozy z 02 a ponechaj pre analyticke ucely diagnozy z 01\n",
    "\n",
    "final = final.rename(columns={'diagnozy': 'diagnozy_z_01'})"
   ]
  },
  {
   "cell_type": "code",
   "execution_count": 41,
   "id": "b198d07f",
   "metadata": {},
   "outputs": [],
   "source": [
    "# Vytvor stlpec `diagnozy` obsahujuci hlavnu diagnozu na zaciatku\n",
    "\n",
    "_spojka = np.where(final['vedlajsie_diagnozy'].notna(), '~', '')\n",
    "\n",
    "final['diagnozy'] = final['hlavna_diagnoza'].fillna('') + _spojka + final['vedlajsie_diagnozy'].fillna('')\n",
    "\n",
    "final = final.drop(columns=['hlavna_diagnoza', 'vedlajsie_diagnozy'])"
   ]
  },
  {
   "cell_type": "markdown",
   "id": "5e12f99e",
   "metadata": {},
   "source": [
    "#### Vykony"
   ]
  },
  {
   "cell_type": "code",
   "execution_count": 42,
   "id": "5e5303f9",
   "metadata": {},
   "outputs": [],
   "source": [
    "# Ako vykony pouzi vykony z 02 a ponechaj pre analyticke ucely vykony z 01\n",
    "\n",
    "final = final.rename(columns={'vykony_02': 'vykony', 'vykony_01': 'vykony_z_01'}) "
   ]
  },
  {
   "cell_type": "markdown",
   "id": "757251b0",
   "metadata": {},
   "source": [
    "## Pripojenie dalsich hospitalizacnych pripadov z UZS_JZS"
   ]
  },
  {
   "cell_type": "code",
   "execution_count": 43,
   "id": "8d94de5a",
   "metadata": {},
   "outputs": [
    {
     "data": {
      "text/plain": [
       "396645"
      ]
     },
     "execution_count": 43,
     "metadata": {},
     "output_type": "execute_result"
    }
   ],
   "source": [
    "# Vyber iba tie hp, ktoré sa nenachádzajú v drg dátach\n",
    "# uz nebudeme potrebovat stlpec s hlavnou diagnozou\n",
    "\n",
    "zjednotene_uzs = zjednotene_uzs.reset_index()\n",
    "_doplnkove_uzs = zjednotene_uzs[~zjednotene_uzs['id_hp'].isin(final['id_hp'])]\n",
    "_doplnkove_uzs = _doplnkove_uzs.drop(columns=['hlavna_diagnoza'])\n",
    "_doplnkove_uzs[['diagnozy_z_01', 'vykony_z_01']] = _doplnkove_uzs[['diagnozy', 'vykony']]\n",
    "\n",
    "len(_doplnkove_uzs)"
   ]
  },
  {
   "cell_type": "code",
   "execution_count": 44,
   "id": "95dca285",
   "metadata": {},
   "outputs": [
    {
     "name": "stdout",
     "output_type": "stream",
     "text": [
      "1194664\n",
      "index                 1115616\n",
      "kod_zp                      3\n",
      "id_hp_pzs              113097\n",
      "id_hp                 1194664\n",
      "pzs_6                      90\n",
      "osetrovacia_doba          172\n",
      "vek_dni                   367\n",
      "vek_roky                  104\n",
      "hmotnost                 2177\n",
      "upv                       992\n",
      "datum_narodenia         35593\n",
      "drg                      1144\n",
      "erv                     14719\n",
      "zlucene_hp               8589\n",
      "vykony                 552319\n",
      "obdobie_od                 18\n",
      "obdobie_do                 13\n",
      "vykony_z_01             32880\n",
      "diagnozy_z_01           96512\n",
      "id_poistenca           716566\n",
      "typ_starostlivosti          4\n",
      "pzs_12                   1993\n",
      "datum_od               258582\n",
      "datum_do               160193\n",
      "diagnozy               427110\n",
      "dtype: int64\n"
     ]
    }
   ],
   "source": [
    "final = pd.concat([final, _doplnkove_uzs]).reset_index()\n",
    "\n",
    "print(len(final))\n",
    "print(final.nunique())"
   ]
  },
  {
   "cell_type": "markdown",
   "id": "ff1fd45d",
   "metadata": {},
   "source": [
    "## finalna uprava vsetkych hospitalizacii"
   ]
  },
  {
   "cell_type": "markdown",
   "id": "e78d92ba",
   "metadata": {},
   "source": [
    "### Pripojenie dat zo suboru 09_UZS_POISTENCI"
   ]
  },
  {
   "cell_type": "code",
   "execution_count": 45,
   "id": "5a6c7be6",
   "metadata": {},
   "outputs": [
    {
     "data": {
      "text/plain": [
       "8014842"
      ]
     },
     "execution_count": 45,
     "metadata": {},
     "output_type": "execute_result"
    }
   ],
   "source": [
    "poistenci = pd.concat([_data[i]['poistenci'] for i in _spracovat], ignore_index=True)\n",
    "\n",
    "len(poistenci)"
   ]
  },
  {
   "cell_type": "code",
   "execution_count": 46,
   "id": "57db335d",
   "metadata": {},
   "outputs": [
    {
     "data": {
      "text/plain": [
       "6420893"
      ]
     },
     "execution_count": 46,
     "metadata": {},
     "output_type": "execute_result"
    }
   ],
   "source": [
    "# vyhod duplicity\n",
    "poistenci = poistenci.drop_duplicates()\n",
    "\n",
    "len(poistenci)"
   ]
  },
  {
   "cell_type": "code",
   "execution_count": 47,
   "id": "0b04ab4e",
   "metadata": {},
   "outputs": [
    {
     "name": "stdout",
     "output_type": "stream",
     "text": [
      "6420893\n",
      "kod_zp                          3\n",
      "id_poistenca              6417284\n",
      "datum_narodenia             41231\n",
      "pohlavie                        2\n",
      "kod_prechodneho_pobytu       3681\n",
      "psc_prechodneho_pobytu       2839\n",
      "kod_trvaleho_pobytu         23197\n",
      "psc_trvaleho_pobytu         22192\n",
      "dtype: int64\n"
     ]
    }
   ],
   "source": [
    "# Najdi poistencov, ktori maju viac ako jeden datum narodenia a vyhod ich\n",
    "\n",
    "# Pozn. možno bude nutné spätne ponechať tzv. fiktivnych poistencov, su to id_poistenca, u ktorych sa moze objavit viacnasobny datum narodenia, pretoze sa pouziju pre viacerych pacientov, ktorych poistenie je nezname alebo utajene. Ak takí existujú, ich zoznam sa nachádza v súbore poznamky.txt pri pri ostatných súboroch od poisťovne.   \n",
    "\n",
    "_pocty = poistenci.groupby(['kod_zp', 'id_poistenca'])['datum_narodenia'].nunique()\n",
    "_i = _pocty.iloc[np.where(_pocty > 1)[0]].index\n",
    "\n",
    "poistenci = poistenci.set_index(['kod_zp', 'id_poistenca'])\n",
    "poistenci.loc[_i].to_csv(_paths['validacia'] / 'poistenci_s_viac_datumami_narodenia.csv', **{**_argumenty_reportu, 'index':True})\n",
    "poistenci = poistenci.drop(_i).reset_index()\n",
    "\n",
    "print(len(poistenci))\n",
    "print(poistenci.nunique())"
   ]
  },
  {
   "cell_type": "code",
   "execution_count": 48,
   "id": "4d6633ed",
   "metadata": {},
   "outputs": [],
   "source": [
    "# Vytvor kod pobytu primarne z prechodneho pobytu\n",
    "\n",
    "poistenci['kod_pobytu'] = poistenci['kod_prechodneho_pobytu'].fillna(poistenci['kod_trvaleho_pobytu'])\n",
    "poistenci['psc_pobytu'] = poistenci['psc_prechodneho_pobytu'].fillna(poistenci['psc_trvaleho_pobytu'])\n",
    "\n",
    "poistenci = poistenci.drop(columns=['kod_prechodneho_pobytu', 'kod_trvaleho_pobytu', 'psc_prechodneho_pobytu', 'psc_trvaleho_pobytu'])"
   ]
  },
  {
   "cell_type": "code",
   "execution_count": 49,
   "id": "260fd9eb",
   "metadata": {},
   "outputs": [
    {
     "name": "stdout",
     "output_type": "stream",
     "text": [
      "6417286\n",
      "kod_zp                   3\n",
      "id_poistenca       6417284\n",
      "pohlavie                 2\n",
      "datum_narodenia      41231\n",
      "psc_pobytu           12318\n",
      "kod_pobytu           12925\n",
      "dtype: int64\n"
     ]
    }
   ],
   "source": [
    "# Vyber posledny zaznamenany pobyt\n",
    "poistenci = poistenci.groupby(by=['kod_zp', 'id_poistenca', 'pohlavie', 'datum_narodenia'])[['psc_pobytu', 'kod_pobytu']].last().reset_index()\n",
    "\n",
    "print(len(poistenci)) \n",
    "print(poistenci.nunique())"
   ]
  },
  {
   "cell_type": "code",
   "execution_count": 50,
   "id": "6e2cda3f",
   "metadata": {},
   "outputs": [],
   "source": [
    "# Vytvor exporty vyfiltrovaných poistencov\n",
    "\n",
    "poistenci.to_csv(_paths['vystupy'] / f'poistenci_vyfiltrovani_{_rok}.csv', **_argumenty_reportu)"
   ]
  },
  {
   "cell_type": "code",
   "execution_count": 51,
   "id": "29527276",
   "metadata": {},
   "outputs": [],
   "source": [
    "# Pripoj data zo suboru 09_UZS_POISTENCI\n",
    "\n",
    "final = final.merge(poistenci, how='left', on=['kod_zp', 'id_poistenca'], suffixes=['_02', '_09'])"
   ]
  },
  {
   "cell_type": "code",
   "execution_count": 52,
   "id": "b52e3d08",
   "metadata": {},
   "outputs": [],
   "source": [
    "# Expotuj ID poistencov, ktore mame v datach o hospitalizaciach ale nie v datach o poistencoch\n",
    "\n",
    "final[~final['id_poistenca'].isin(poistenci['id_poistenca'])][_reportovane_stlpce + ['id_poistenca']].to_csv(_paths['validacia'] / 'id_poistenca_nedohladane.csv', **_argumenty_reportu)"
   ]
  },
  {
   "cell_type": "code",
   "execution_count": 53,
   "id": "416a921f",
   "metadata": {},
   "outputs": [],
   "source": [
    "# vyexportuj pripady, kde sa nezhoduju datumy narodenia, a datum z 02 nie je novorodenec (datum narodenia skor ako v decembri minuleho roka)\n",
    "# zjednot datumy narodenia, primarny je z 09\n",
    "\n",
    "_rozdielne_datumy = final[['datum_narodenia_02', 'datum_narodenia_09']].notna().all(axis=1) & (final['datum_narodenia_02'] != final['datum_narodenia_09']) & (final['datum_narodenia_02'] < pd.Timestamp(year=_rok-1, month=12, day=1))\n",
    "\n",
    "final[_rozdielne_datumy][_reportovane_stlpce + ['datum_narodenia_02', 'datum_narodenia_09']].to_csv(_paths['validacia'] / 'datum_narodenia_rozdielny.csv', **_argumenty_reportu)\n",
    "\n",
    "final['datum_narodenia'] = final['datum_narodenia_09'].fillna(final['datum_narodenia_02'])\n",
    "\n",
    "final = final.drop(columns=['datum_narodenia_02', 'datum_narodenia_09'])"
   ]
  },
  {
   "cell_type": "markdown",
   "id": "78655045",
   "metadata": {},
   "source": [
    "### Kod poskytovatela pzs_8"
   ]
  },
  {
   "cell_type": "code",
   "execution_count": 54,
   "id": "87f06e15",
   "metadata": {},
   "outputs": [
    {
     "data": {
      "text/plain": [
       "1194664"
      ]
     },
     "execution_count": 54,
     "metadata": {},
     "output_type": "execute_result"
    }
   ],
   "source": [
    "# Pridaj kod nemocnice podla prevodovnika na zaklade kodov oddeleni.\n",
    "\n",
    "_pzs_12_prevodnik = nacitaj_prevodove_subory('pzs_12')\n",
    "\n",
    "final = final.merge(_pzs_12_prevodnik, how='left', on='pzs_12')\n",
    "\n",
    "len(final)"
   ]
  },
  {
   "cell_type": "code",
   "execution_count": 55,
   "id": "db0c9f5a",
   "metadata": {},
   "outputs": [],
   "source": [
    "# Exportuj kody oddeleni, ktorym nevieme priradit kod nemocnice\n",
    "\n",
    "final[final['pzs_8'].isna()][_reportovane_stlpce + ['pzs_12', 'pzs_8']].to_csv(_paths['validacia'] / 'pzs_12_nedohladane_v_prevodniku.csv', **_argumenty_reportu)\n",
    "final[final['pzs_8'].fillna('xxxxxxxx').str.endswith('xx')][_reportovane_stlpce + ['pzs_12', 'pzs_8']].to_csv(_paths['validacia'] / 'pzs_12_nedohladane_v_datach_nczi.csv', **_argumenty_reportu)"
   ]
  },
  {
   "cell_type": "code",
   "execution_count": 56,
   "id": "4aea3d20",
   "metadata": {},
   "outputs": [],
   "source": [
    "final['pzs_6'] = final['pzs_6_x'].fillna(final['pzs_6_y'])\n",
    "\n",
    "final = final.drop(columns=['pzs_6_x', 'pzs_6_y'])"
   ]
  },
  {
   "cell_type": "code",
   "execution_count": 57,
   "id": "387d4cbc",
   "metadata": {},
   "outputs": [],
   "source": [
    "# Ak sa nepripojil kod nemocnice, lebo hospitalizacia nema zaznam v subore\n",
    "# 03_HP_PREKLADY, vytvor kod nemocnice ako 'KOD_PZS + 0 + Y', kde Y sa zisti\n",
    "# z polozky ID_HP_PZS ako (Z)RRYXXXXX. Y by nikdy nemalo byt 0, ale nemocnice\n",
    "# si ho tak niekedy udavaju, takze sprav zmenu na 1.\n",
    "\n",
    "_y=final['id_hp_pzs'].str.extract('^Z?\\d\\d(\\d)').replace('0', '1')\n",
    "\n",
    "final['pzs_8'] = final['pzs_8'].fillna(final['pzs_6'] + '0' + _y[0])"
   ]
  },
  {
   "cell_type": "markdown",
   "id": "f7b15f8e",
   "metadata": {},
   "source": [
    "### Vyradenie hospitalizacii nekonciacich vo vybranom roku"
   ]
  },
  {
   "cell_type": "code",
   "execution_count": 58,
   "id": "13d119d9",
   "metadata": {},
   "outputs": [
    {
     "data": {
      "text/plain": [
       "1194663"
      ]
     },
     "execution_count": 58,
     "metadata": {},
     "output_type": "execute_result"
    }
   ],
   "source": [
    "_konci_v_zlom_obdobi = ((final['datum_do'].notna()) & (final['datum_do'].dt.year != _rok))\n",
    "\n",
    "final[_konci_v_zlom_obdobi][_reportovane_stlpce + ['datum_do', 'obdobie_od', 'obdobie_do']].to_csv(_paths['validacia'] / 'konci_v_zlom_obdobi.csv', **_argumenty_reportu)\n",
    "\n",
    "final = final.drop(final[_konci_v_zlom_obdobi].index)\n",
    "\n",
    "len(final)"
   ]
  },
  {
   "cell_type": "markdown",
   "id": "e5820258",
   "metadata": {},
   "source": [
    "### Dlzka osetrovacej doby"
   ]
  },
  {
   "cell_type": "code",
   "execution_count": 59,
   "id": "32be5435",
   "metadata": {},
   "outputs": [],
   "source": [
    "# Napocitaj dlzku osetrovacej doby ako rozdiel v dnoch medzi datumom prepustenia a datumom prijatia. Pouzi v pripade, ze nebola dlzka osetrovacej doby reportovana.\n",
    "\n",
    "def vypocitaj_dlzku_osetrovacej_doby(datum_prijatia, datum_prepustenia):\n",
    "    if datum_prepustenia < datum_prijatia:\n",
    "        return 1\n",
    "    return max(1,(datum_prepustenia - datum_prijatia).days)\n",
    "\n",
    "\n",
    "_vypocitana_dlzka_osetrovania = final.apply(lambda row: vypocitaj_dlzku_osetrovacej_doby(row['datum_od'], row['datum_do']), axis=1).astype('Int16')"
   ]
  },
  {
   "cell_type": "code",
   "execution_count": 60,
   "id": "7c6a81bb",
   "metadata": {},
   "outputs": [],
   "source": [
    "final[final['osetrovacia_doba'].notna() & (final['osetrovacia_doba'] == 0)][_reportovane_stlpce + ['datum_od', 'datum_do']].to_csv(_paths['validacia'] / 'osetrovacia_doba_0.csv', **_argumenty_reportu)\n",
    "\n",
    "final.loc[final['osetrovacia_doba'].notna() & (final['osetrovacia_doba'] == 0), 'osetrovacia_doba'] = pd.NA"
   ]
  },
  {
   "cell_type": "code",
   "execution_count": 61,
   "id": "f2a64466",
   "metadata": {},
   "outputs": [],
   "source": [
    "final.loc[:,'osetrovacia_doba'] = final['osetrovacia_doba'].fillna(_vypocitana_dlzka_osetrovania)\n",
    "final.loc[final['typ_starostlivosti'].isin(['JZS', 'JZS2']), 'osetrovacia_doba'] = final.loc[final['typ_starostlivosti'].isin(['JZS', 'JZS2']), 'osetrovacia_doba'].fillna(1)"
   ]
  },
  {
   "cell_type": "markdown",
   "id": "533aa9ab",
   "metadata": {},
   "source": [
    "### Vek"
   ]
  },
  {
   "cell_type": "code",
   "execution_count": 62,
   "id": "e7fd76b5",
   "metadata": {},
   "outputs": [],
   "source": [
    "# Natipuj vek podla datumov hospitalizacii a narodenia a toho, co bolo napisane.\n",
    "# Z datumov hospitalizacii sa najde minimalny a podla neho a datumu narodenia\n",
    "# sa urci vek pri hospitalizacii. \n",
    "\n",
    "final['datum_prijatia'] = final[['datum_od', 'datum_do']].min(axis=1)"
   ]
  },
  {
   "cell_type": "code",
   "execution_count": 63,
   "id": "6da42c7a",
   "metadata": {},
   "outputs": [],
   "source": [
    "# Vypocitaj vek presne zo zadanych datumov prijatia a narodenia\n",
    "\n",
    "def vypocitaj_vek(datum_prijatia, datum_narodenia):\n",
    "    if datum_prijatia < datum_narodenia:\n",
    "        return 0, 1\n",
    "    vek_roky = datum_prijatia.year - datum_narodenia.year - ((datum_prijatia.month, datum_prijatia.day) < (datum_narodenia.month, datum_narodenia.day))\n",
    "    if vek_roky == 0:\n",
    "        return vek_roky, (datum_prijatia - datum_narodenia).days\n",
    "    return vek_roky, pd.NA\n",
    "\n",
    "final[['vypocitany_vek_roky', 'vypocitany_vek_dni']] = final.apply(lambda row: vypocitaj_vek(row['datum_prijatia'], row['datum_narodenia']), axis=1, result_type='expand')"
   ]
  },
  {
   "cell_type": "code",
   "execution_count": 64,
   "id": "73dc9795",
   "metadata": {},
   "outputs": [],
   "source": [
    "# Pre pripady, ze je znamy datum narodenia ale neznamy datum prijatia, mozeme odhadnut vek ako jednoduchy rozdiel medzi aktualnym rokom a rokom narodenia\n",
    "\n",
    "final['odhadnuty_vek_roky'] = final.apply(lambda row: _rok - row['datum_narodenia'].year, axis=1)"
   ]
  },
  {
   "cell_type": "code",
   "execution_count": 65,
   "id": "ad0092cf",
   "metadata": {},
   "outputs": [],
   "source": [
    "# Nakoniec ak je vyplneny vek v dnoch alebo hmotnost, vek je 0 rokov.\n",
    "\n",
    "final.loc[(final['vek_dni'] > 0) | (final['hmotnost'] > 0), ['odhadnuty_vek_0']] = 0"
   ]
  },
  {
   "cell_type": "code",
   "execution_count": 66,
   "id": "01814d40",
   "metadata": {},
   "outputs": [],
   "source": [
    "# Prioritu ma zaznamenany vek v rokoch, doplna sa vypocitanym alebo odhadnutym vekom\n",
    "\n",
    "final['vek_roky'] = final['vek_roky'].fillna(final['odhadnuty_vek_0'])\n",
    "final['vek_roky'] = final['vek_roky'].fillna(final['vypocitany_vek_roky'])\n",
    "final['vek_dni'] = final['vek_dni'].fillna(final['vypocitany_vek_dni'])\n",
    "final['vek_roky'] = final['vek_roky'].fillna(final['odhadnuty_vek_roky'])\n",
    "\n",
    "\n",
    "final = final.drop(\n",
    "    columns=['datum_prijatia', 'vypocitany_vek_roky', 'vypocitany_vek_dni', 'odhadnuty_vek_roky', 'odhadnuty_vek_0']\n",
    "    )"
   ]
  },
  {
   "cell_type": "code",
   "execution_count": 67,
   "id": "589c6df6",
   "metadata": {},
   "outputs": [],
   "source": [
    "# Exportuj zaznamy, ktore maju nestandardne hodnoty\n",
    "# Vysoky vek\n",
    "final[final['vek_roky'] > 109][_reportovane_stlpce + ['id_poistenca', 'vek_roky']].to_csv(_paths['validacia'] / 'vek_vysoky.csv', **_argumenty_reportu)\n",
    "# Novorodenci bez hmotnosti (dopln dohodnutu hodnotu 2500)\n",
    "final[(final['vek_roky'] == 0) & (final['vek_dni'] <= 28) & (final['hmotnost'].isna())][_reportovane_stlpce + ['id_poistenca', 'vek_roky', 'vek_dni', 'hmotnost']].to_csv(_paths['validacia'] / 'novorodenci_bez_hmotnosti.csv', **_argumenty_reportu)\n",
    "\n",
    "final.loc[(final['vek_roky'] == 0) & ((final['vek_dni'] <= 28) | final['vek_dni'].isna()) & (final['hmotnost'].isna()), 'hmotnost'] = 2500\n",
    "# Chybajuci vek (aj napriek carovaniu so vsetkym moznym)\n",
    "final[final['vek_roky'].isna()][_reportovane_stlpce + ['id_poistenca', 'vek_roky']].to_csv(_paths['validacia'] / 'vek_chybajuci.csv', **_argumenty_reportu)"
   ]
  },
  {
   "cell_type": "code",
   "execution_count": 68,
   "id": "153e2e91",
   "metadata": {},
   "outputs": [],
   "source": [
    "final['vek_roky'] = pd.to_numeric(final['vek_roky'], errors='coerce').astype('Int16')\n",
    "final['vek_dni'] = pd.to_numeric(final['vek_dni'], errors='coerce').astype('Int16')"
   ]
  },
  {
   "cell_type": "markdown",
   "id": "95074bf3",
   "metadata": {},
   "source": [
    "### Vylucenie hospitalizacii, ktore boli zlucene kvoli DRG"
   ]
  },
  {
   "cell_type": "code",
   "execution_count": 69,
   "id": "f582f468",
   "metadata": {},
   "outputs": [],
   "source": [
    "# Zo stlpca s ciastkovymi hospitalizaciami odstran medzery (2021 ich nema, ale\n",
    "# radsej pre isototu to treba spravit) a ak je ako oddelovac pouzita bodka\n",
    "# (mala by byt pouzivana len ciarka, ak nie je treba to vratit poistovni)\n",
    "# zmen ju na ciarku\n",
    "\n",
    "final['zlucene_hp'] = final['zlucene_hp'].str.replace(' ', \"\").str.replace('.', ',')"
   ]
  },
  {
   "cell_type": "code",
   "execution_count": 70,
   "id": "a4bc0ff0",
   "metadata": {},
   "outputs": [],
   "source": [
    "# Vyber riadky, ktore maju nieco v ciastkovej hospitalizacii\n",
    "_zlucene = final[final['zlucene_hp'].notna()][['pzs_8', 'zlucene_hp']].drop_duplicates()"
   ]
  },
  {
   "cell_type": "code",
   "execution_count": 71,
   "id": "954f8329",
   "metadata": {},
   "outputs": [],
   "source": [
    "# Rozdel ciastkove hospitalizacie samostatne do riadkov\n",
    "\n",
    "_zlucene = _zlucene.set_index(['pzs_8']).apply(lambda col: col.str.split(',').explode()).reset_index()"
   ]
  },
  {
   "cell_type": "code",
   "execution_count": 72,
   "id": "7c762554",
   "metadata": {},
   "outputs": [],
   "source": [
    "# Vytvor jedinecne id pre ciastkove hospitalizacie\n",
    "_zlucene['id_hp_pzs_pzs_8'] = _zlucene['zlucene_hp'] + '_' + _zlucene['pzs_8']"
   ]
  },
  {
   "cell_type": "code",
   "execution_count": 73,
   "id": "a67f8063",
   "metadata": {},
   "outputs": [],
   "source": [
    "# Najdi id hospitalizacii prisluchajucich jedinecnym id\n",
    "\n",
    "final['id_hp_pzs_pzs_8'] = final['id_hp_pzs'] + '_' + final['pzs_8']\n",
    "\n",
    "_id_na_vylucenie = final[final['id_hp_pzs_pzs_8'].isin(_zlucene['id_hp_pzs_pzs_8'])]['id_hp']"
   ]
  },
  {
   "cell_type": "code",
   "execution_count": 74,
   "id": "84a07603",
   "metadata": {},
   "outputs": [],
   "source": [
    "# Exportuj ciastkove hospitalizacie\n",
    "final[final['id_hp'].isin(_id_na_vylucenie)][_reportovane_stlpce].to_csv(_paths['validacia'] / 'zlucene_hospitalizacie.csv', **_argumenty_reportu)"
   ]
  },
  {
   "cell_type": "code",
   "execution_count": 75,
   "id": "31520b09",
   "metadata": {},
   "outputs": [
    {
     "data": {
      "text/plain": [
       "1178065"
      ]
     },
     "execution_count": 75,
     "metadata": {},
     "output_type": "execute_result"
    }
   ],
   "source": [
    "# Vyhod ciastkove hospitalizacie\n",
    "\n",
    "final = final.drop(final[final['id_hp'].isin(_id_na_vylucenie)].index)\n",
    "\n",
    "final = final.drop(columns=['zlucene_hp', 'id_hp_pzs_pzs_8'])\n",
    "\n",
    "len(final)"
   ]
  },
  {
   "cell_type": "markdown",
   "id": "a0713af4",
   "metadata": {},
   "source": [
    "### Reporting chybajucich dat"
   ]
  },
  {
   "cell_type": "code",
   "execution_count": 76,
   "id": "6fff7242",
   "metadata": {},
   "outputs": [],
   "source": [
    "final = final.replace('', np.nan)\n",
    "_nove_reportovane_stlpce = ['kod_zp','id_hp','id_poistenca','datum_od','datum_do','typ_starostlivosti', 'obdobie_od', 'obdobie_do']\n",
    "\n",
    "final[final['id_poistenca'].isna()][_nove_reportovane_stlpce].to_csv(_paths['validacia'] / 'id_poistenca_chybajuce.csv', **_argumenty_reportu)\n",
    "\n",
    "final[final['typ_starostlivosti'].isna()][_nove_reportovane_stlpce + ['typ_starostlivosti']].to_csv(_paths['validacia'] / 'typ_starostlivosti_chybajuci.csv', **_argumenty_reportu)\n",
    "\n",
    "final[final['pzs_12'].isna()][_nove_reportovane_stlpce + ['pzs_12']].to_csv(_paths['validacia'] / 'pzs_12_chybajuce.csv', **_argumenty_reportu)\n",
    "\n",
    "final[(final['datum_od'].isna()) | (final['datum_do'].isna() & (~final['typ_starostlivosti'].isin(['JZS', 'JZS2'])))][_nove_reportovane_stlpce].to_csv(_paths['validacia'] / 'datumy_chybajuce.csv', **_argumenty_reportu)\n",
    "\n",
    "final[final['diagnozy'].str.startswith('~', na=False)][_nove_reportovane_stlpce + ['diagnozy']].to_csv(_paths['validacia'] / 'hlavne_diagnozy_chybajuce.csv', **_argumenty_reportu)\n",
    "final[final['diagnozy'].isna()][_nove_reportovane_stlpce + ['diagnozy']].to_csv(_paths['validacia'] / 'diagnozy_chybajuce.csv', **_argumenty_reportu)"
   ]
  },
  {
   "cell_type": "markdown",
   "id": "5bad8c30",
   "metadata": {},
   "source": [
    "## Upratanie finalnych dat"
   ]
  },
  {
   "cell_type": "code",
   "execution_count": 77,
   "id": "3c75fe4e",
   "metadata": {},
   "outputs": [
    {
     "name": "stdout",
     "output_type": "stream",
     "text": [
      "1178065\n",
      "id_hp                 1178065\n",
      "vek_roky                  106\n",
      "vek_dni                   367\n",
      "hmotnost                 2168\n",
      "upv                       982\n",
      "diagnozy               417641\n",
      "vykony                 542241\n",
      "drg                      1143\n",
      "erv                     14438\n",
      "typ_starostlivosti          4\n",
      "diagnozy_z_01           95328\n",
      "vykony_z_01             32737\n",
      "obdobie_od                 18\n",
      "obdobie_do                 13\n",
      "datum_od               257089\n",
      "datum_do               159072\n",
      "osetrovacia_doba          378\n",
      "id_poistenca           716566\n",
      "datum_narodenia         35671\n",
      "kod_pobytu               3733\n",
      "kod_zp                      3\n",
      "pzs_12                   1993\n",
      "IDENTIFZAR                373\n",
      "pzs_8                     417\n",
      "pzs_6                     279\n",
      "id_hp_pzs              112404\n",
      "dtype: int64\n"
     ]
    }
   ],
   "source": [
    "# Popresuvaj stlpce a vypis statistiky\n",
    "final = final[['id_hp', 'vek_roky', 'vek_dni', 'hmotnost', 'upv', 'diagnozy', 'vykony', 'drg', 'erv', 'typ_starostlivosti', 'diagnozy_z_01', 'vykony_z_01', 'obdobie_od', 'obdobie_do', 'datum_od', 'datum_do', 'osetrovacia_doba', 'id_poistenca', 'datum_narodenia', 'kod_pobytu', 'kod_zp', 'pzs_12', 'IDENTIFZAR', 'pzs_8', 'pzs_6', 'id_hp_pzs']]\n",
    "\n",
    "print(len(final))\n",
    "print(final.nunique())"
   ]
  },
  {
   "cell_type": "code",
   "execution_count": 78,
   "id": "63ffcec7",
   "metadata": {},
   "outputs": [],
   "source": [
    "# Exportuj do csv\n",
    "\n",
    "final.to_csv(_paths['vystupy'] / f'osn_vsetka_starostlivost_{_rok}.csv', sep=';', index=False)"
   ]
  },
  {
   "cell_type": "markdown",
   "id": "30d803dd",
   "metadata": {},
   "source": [
    "## Priprava dat pre algoritmus"
   ]
  },
  {
   "cell_type": "code",
   "execution_count": 79,
   "id": "019c4ce8",
   "metadata": {},
   "outputs": [],
   "source": [
    "# Pridaj stlpec s odbornostami (aktualne prazdny) a vyber iba chcene stlpce\n",
    "\n",
    "_verzia_algoritmu = 'v2024.2'\n",
    "\n",
    "if _verzia_algoritmu == 'v2024.1':\n",
    "    _for_algorithm = final[['id_hp', 'vek_roky', 'vek_dni', 'hmotnost', 'upv', 'diagnozy', 'vykony', 'drg']]\n",
    "    _for_algorithm.insert(7, \"odbornosti\", pd.NA)\n",
    "            \n",
    "    _doplneny_vek_dni = _for_algorithm[_for_algorithm['vek_roky'] >= 1]['vek_dni'].fillna(0)\n",
    "    _for_algorithm.loc[_doplneny_vek_dni.index,['vek_dni']] = _doplneny_vek_dni\n",
    "elif _verzia_algoritmu == 'v2024.2':\n",
    "    _for_algorithm = final[['id_hp', 'vek_roky', 'hmotnost', 'upv', 'diagnozy', 'vykony', 'drg']]\n"
   ]
  },
  {
   "cell_type": "code",
   "execution_count": 80,
   "id": "d43016c8",
   "metadata": {},
   "outputs": [],
   "source": [
    "# Dopln dalsie numericke hodnoty na 0\n",
    "\n",
    "_doplnena_hmotnost = _for_algorithm[~(_for_algorithm['vek_roky'] == 0)]['hmotnost'].fillna(0)\n",
    "_for_algorithm.loc[_doplnena_hmotnost.index,['hmotnost']] = _doplnena_hmotnost\n",
    "\n",
    "_for_algorithm.loc[:, ['upv']] = _for_algorithm['upv'].fillna(0)"
   ]
  },
  {
   "cell_type": "code",
   "execution_count": 81,
   "id": "9b9d81c3",
   "metadata": {},
   "outputs": [
    {
     "name": "stdout",
     "output_type": "stream",
     "text": [
      "1178065\n",
      "id_hp       1178065\n",
      "vek_roky        106\n",
      "hmotnost       2168\n",
      "upv             982\n",
      "diagnozy     417641\n",
      "vykony       542241\n",
      "drg            1143\n",
      "dtype: int64\n"
     ]
    }
   ],
   "source": [
    "# Vyexportuj do csv\n",
    "\n",
    "print(len(_for_algorithm))\n",
    "\n",
    "print(_for_algorithm.nunique())\n",
    "\n",
    "_for_algorithm.to_csv(_paths['vystupy'] / f'osn_vsetka_starostlivost_{_rok}_pre_algoritmus_{_verzia_algoritmu}.csv', sep=';', header=False, index=False)\n"
   ]
  },
  {
   "cell_type": "markdown",
   "id": "dfb11d69",
   "metadata": {},
   "source": [
    "# Rozdeľ validačné výstupy podľa poisťovní"
   ]
  },
  {
   "cell_type": "code",
   "execution_count": 82,
   "id": "7b0f1113",
   "metadata": {},
   "outputs": [],
   "source": [
    "for _kod in _spracovat:\n",
    "    p = _paths['validacia'] / f'{_kod}'\n",
    "    p.mkdir()\n",
    "\n",
    "for file in _paths['validacia'].iterdir():\n",
    "    if file.is_dir():\n",
    "        continue\n",
    "    df = pd.read_csv(file, sep=';', dtype='str')\n",
    "    for _kod in _spracovat:\n",
    "        zp_df = df[df['kod_zp'] == f'{_kod}']\n",
    "        if not zp_df.empty:\n",
    "            zp_df.to_csv(_paths['validacia'] / f'{_kod}' / f'{_kod}_{file.stem}.csv', index=False, sep=';')"
   ]
  },
  {
   "cell_type": "markdown",
   "id": "de7b470c",
   "metadata": {},
   "source": [
    "# Validácia s tabuľkou 13"
   ]
  },
  {
   "cell_type": "code",
   "execution_count": 83,
   "id": "add0ace7",
   "metadata": {},
   "outputs": [
    {
     "data": {
      "text/plain": [
       "1057"
      ]
     },
     "execution_count": 83,
     "metadata": {},
     "output_type": "execute_result"
    }
   ],
   "source": [
    "# Najdi relevantne tabuľky\n",
    "sumar = pd.concat([_data[k]['sumar'] for k in _spracovat], ignore_index=True)\n",
    "sumar['pocet'] = sumar['pocet'].astype('Int32')\n",
    "\n",
    "len(sumar)"
   ]
  },
  {
   "cell_type": "code",
   "execution_count": 84,
   "id": "33229f0d",
   "metadata": {},
   "outputs": [],
   "source": [
    "# Vytvor sumar z final v rovnakom tvare, ako je vykazovany poistovanmi v tabulke 13 a porovnaj\n",
    "\n",
    "_final_sumar = final.groupby(by=['kod_zp', 'pzs_6', 'typ_starostlivosti'])['id_hp'].count().astype('Int32').rename('pocet')\n",
    "\n",
    "sumar = sumar.merge(_final_sumar, on=['kod_zp', 'pzs_6', 'typ_starostlivosti'], how='outer', suffixes=['_vykazany', '_spocitany'])\n",
    "\n",
    "sumar['rozdiel_absolutny'] = sumar['pocet_vykazany'].fillna(0) - sumar['pocet_spocitany'].fillna(0)\n",
    "sumar['rozdiel_relativny'] = (sumar['rozdiel_absolutny'] / sumar[['pocet_spocitany', 'pocet_vykazany']].max(axis=1)).abs()\n",
    "sumar = sumar.set_index(['kod_zp', 'pzs_6', 'typ_starostlivosti'])"
   ]
  },
  {
   "cell_type": "code",
   "execution_count": 85,
   "id": "5d06061b",
   "metadata": {},
   "outputs": [],
   "source": [
    "sumar.to_csv(_paths['validacia'] / 'sumar_porovnanie.csv', **{**_argumenty_reportu, 'index': True})\n",
    "sumar[sumar['rozdiel_relativny'] > 0.05].to_csv(_paths['validacia'] / 'sumar_vysoke_rozdiely.csv', **{**_argumenty_reportu, 'index': True})"
   ]
  },
  {
   "cell_type": "code",
   "execution_count": 86,
   "id": "1c27efb3",
   "metadata": {},
   "outputs": [
    {
     "data": {
      "text/html": [
       "<div>\n",
       "<style scoped>\n",
       "    .dataframe tbody tr th:only-of-type {\n",
       "        vertical-align: middle;\n",
       "    }\n",
       "\n",
       "    .dataframe tbody tr th {\n",
       "        vertical-align: top;\n",
       "    }\n",
       "\n",
       "    .dataframe thead th {\n",
       "        text-align: right;\n",
       "    }\n",
       "</style>\n",
       "<table border=\"1\" class=\"dataframe\">\n",
       "  <thead>\n",
       "    <tr style=\"text-align: right;\">\n",
       "      <th></th>\n",
       "      <th>typ_starostlivosti</th>\n",
       "      <th>kod_zp</th>\n",
       "      <th>rozdiel_absolutny</th>\n",
       "    </tr>\n",
       "  </thead>\n",
       "  <tbody>\n",
       "    <tr>\n",
       "      <th>0</th>\n",
       "      <td>DRG</td>\n",
       "      <td>24</td>\n",
       "      <td>5564</td>\n",
       "    </tr>\n",
       "    <tr>\n",
       "      <th>1</th>\n",
       "      <td>DRG</td>\n",
       "      <td>25</td>\n",
       "      <td>7621</td>\n",
       "    </tr>\n",
       "    <tr>\n",
       "      <th>2</th>\n",
       "      <td>DRG</td>\n",
       "      <td>27</td>\n",
       "      <td>-2668</td>\n",
       "    </tr>\n",
       "    <tr>\n",
       "      <th>3</th>\n",
       "      <td>JZS</td>\n",
       "      <td>24</td>\n",
       "      <td>-141</td>\n",
       "    </tr>\n",
       "    <tr>\n",
       "      <th>4</th>\n",
       "      <td>JZS</td>\n",
       "      <td>25</td>\n",
       "      <td>0</td>\n",
       "    </tr>\n",
       "    <tr>\n",
       "      <th>5</th>\n",
       "      <td>JZS</td>\n",
       "      <td>27</td>\n",
       "      <td>0</td>\n",
       "    </tr>\n",
       "    <tr>\n",
       "      <th>6</th>\n",
       "      <td>JZS2</td>\n",
       "      <td>24</td>\n",
       "      <td>0</td>\n",
       "    </tr>\n",
       "    <tr>\n",
       "      <th>7</th>\n",
       "      <td>UH</td>\n",
       "      <td>24</td>\n",
       "      <td>647</td>\n",
       "    </tr>\n",
       "    <tr>\n",
       "      <th>8</th>\n",
       "      <td>UH</td>\n",
       "      <td>25</td>\n",
       "      <td>1</td>\n",
       "    </tr>\n",
       "    <tr>\n",
       "      <th>9</th>\n",
       "      <td>UH</td>\n",
       "      <td>27</td>\n",
       "      <td>0</td>\n",
       "    </tr>\n",
       "  </tbody>\n",
       "</table>\n",
       "</div>"
      ],
      "text/plain": [
       "  typ_starostlivosti  kod_zp  rozdiel_absolutny\n",
       "0                DRG      24               5564\n",
       "1                DRG      25               7621\n",
       "2                DRG      27              -2668\n",
       "3                JZS      24               -141\n",
       "4                JZS      25                  0\n",
       "5                JZS      27                  0\n",
       "6               JZS2      24                  0\n",
       "7                 UH      24                647\n",
       "8                 UH      25                  1\n",
       "9                 UH      27                  0"
      ]
     },
     "execution_count": 86,
     "metadata": {},
     "output_type": "execute_result"
    }
   ],
   "source": [
    "sumar.groupby(['typ_starostlivosti', 'kod_zp'])['rozdiel_absolutny'].sum().reset_index()"
   ]
  },
  {
   "cell_type": "code",
   "execution_count": 87,
   "id": "bf6fc9bd",
   "metadata": {},
   "outputs": [
    {
     "data": {
      "text/plain": [
       "typ_starostlivosti  kod_zp\n",
       "DRG                 24           3.0\n",
       "                    25       -1952.0\n",
       "                    27       -4132.0\n",
       "JZS                 24          <NA>\n",
       "                    25          <NA>\n",
       "                    27          <NA>\n",
       "JZS2                24          <NA>\n",
       "UH                  24          <NA>\n",
       "                    25          <NA>\n",
       "                    27          <NA>\n",
       "dtype: Float64"
      ]
     },
     "execution_count": 87,
     "metadata": {},
     "output_type": "execute_result"
    }
   ],
   "source": [
    "# Ako by sa zmenili pocty, pokial by sa pripocitali aj vylucene HP \n",
    "\n",
    "sumar.groupby(['typ_starostlivosti', 'kod_zp'])['rozdiel_absolutny'].sum() - drg[drg['id_hp'].isin(_id_na_vylucenie)].groupby(['typ_starostlivosti', 'kod_zp'])['id_hp'].count().fillna(0)"
   ]
  }
 ],
 "metadata": {
  "kernelspec": {
   "display_name": "Python 3 (ipykernel)",
   "language": "python",
   "name": "python3"
  },
  "language_info": {
   "codemirror_mode": {
    "name": "ipython",
    "version": 3
   },
   "file_extension": ".py",
   "mimetype": "text/x-python",
   "name": "python",
   "nbconvert_exporter": "python",
   "pygments_lexer": "ipython3",
   "version": "3.10.12"
  }
 },
 "nbformat": 4,
 "nbformat_minor": 5
}
